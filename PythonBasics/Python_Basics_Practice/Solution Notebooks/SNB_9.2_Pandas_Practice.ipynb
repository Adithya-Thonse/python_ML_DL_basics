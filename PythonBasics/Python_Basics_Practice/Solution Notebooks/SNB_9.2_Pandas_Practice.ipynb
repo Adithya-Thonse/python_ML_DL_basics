{
 "cells": [
  {
   "cell_type": "markdown",
   "metadata": {
    "id": "j7SL1U5SsFNQ"
   },
   "source": [
    "# Filtering and Sorting Data\n"
   ]
  },
  {
   "cell_type": "markdown",
   "metadata": {
    "id": "7o3MyArtsFNV"
   },
   "source": [
    "\n",
    "\n",
    "### Step 1. Import the necessary libraries"
   ]
  },
  {
   "cell_type": "code",
   "execution_count": null,
   "metadata": {
    "executionInfo": {
     "elapsed": 5,
     "status": "ok",
     "timestamp": 1651239221720,
     "user": {
      "displayName": "CDS Support",
      "userId": "15376517909823222822"
     },
     "user_tz": -330
    },
    "id": "iczqrszUsFNV"
   },
   "outputs": [],
   "source": [
    "import pandas as pd"
   ]
  },
  {
   "cell_type": "markdown",
   "metadata": {
    "id": "eok39NNnsFNX"
   },
   "source": [
    "### Step 2. Import the dataset from this [address](https://github.com/Adithya-Thonse/python_ML_DL_basics/blob/main/PythonBasics/Datasets/Euro_2012_stats_TEAM.csv). "
   ]
  },
  {
   "cell_type": "markdown",
   "metadata": {
    "id": "ab2ggo_4sFNX"
   },
   "source": [
    "### Step 3. Assign it to a variable called euro12."
   ]
  },
  {
   "cell_type": "code",
   "execution_count": null,
   "metadata": {
    "colab": {
     "base_uri": "https://localhost:8080/",
     "height": 711
    },
    "executionInfo": {
     "elapsed": 1483,
     "status": "ok",
     "timestamp": 1651239228253,
     "user": {
      "displayName": "CDS Support",
      "userId": "15376517909823222822"
     },
     "user_tz": -330
    },
    "id": "V8z_N2xUsFNX",
    "outputId": "3d049315-7e7f-4b6f-db5d-09061e61aa92"
   },
   "outputs": [],
   "source": [
    "euro12 = pd.read_csv('https://github.com/Adithya-Thonse/python_ML_DL_basics/blob/main/PythonBasics/Datasets/Euro_2012_stats_TEAM.csv', sep=',')\n",
    "euro12"
   ]
  },
  {
   "cell_type": "markdown",
   "metadata": {
    "id": "HDP_h75GsFNY"
   },
   "source": [
    "### Step 4. Select only the Goal column."
   ]
  },
  {
   "cell_type": "code",
   "execution_count": null,
   "metadata": {
    "colab": {
     "base_uri": "https://localhost:8080/"
    },
    "executionInfo": {
     "elapsed": 17,
     "status": "ok",
     "timestamp": 1651239228254,
     "user": {
      "displayName": "CDS Support",
      "userId": "15376517909823222822"
     },
     "user_tz": -330
    },
    "id": "1SYxl-rHsFNZ",
    "outputId": "0ecb52b8-b332-4843-d4b2-e75e23256a7d"
   },
   "outputs": [],
   "source": [
    "euro12.Goals"
   ]
  },
  {
   "cell_type": "markdown",
   "metadata": {
    "id": "9rdFExKLsFNZ"
   },
   "source": [
    "### Step 5. How many teams participated in the Euro2012?"
   ]
  },
  {
   "cell_type": "code",
   "execution_count": null,
   "metadata": {
    "colab": {
     "base_uri": "https://localhost:8080/"
    },
    "executionInfo": {
     "elapsed": 507,
     "status": "ok",
     "timestamp": 1651239243712,
     "user": {
      "displayName": "CDS Support",
      "userId": "15376517909823222822"
     },
     "user_tz": -330
    },
    "id": "eYxJwaV8hlUE",
    "outputId": "6eb47d43-5361-4584-8f5a-e844d6dd4a53"
   },
   "outputs": [],
   "source": [
    "euro12.shape"
   ]
  },
  {
   "cell_type": "code",
   "execution_count": null,
   "metadata": {
    "colab": {
     "base_uri": "https://localhost:8080/"
    },
    "executionInfo": {
     "elapsed": 1321,
     "status": "ok",
     "timestamp": 1651239561784,
     "user": {
      "displayName": "CDS Support",
      "userId": "15376517909823222822"
     },
     "user_tz": -330
    },
    "id": "doho7rnbiAiD",
    "outputId": "699bc605-08ef-494e-f6e3-9212ef74422b"
   },
   "outputs": [],
   "source": [
    "euro12.Team.value_counts().sum()"
   ]
  },
  {
   "cell_type": "code",
   "execution_count": null,
   "metadata": {
    "colab": {
     "base_uri": "https://localhost:8080/"
    },
    "executionInfo": {
     "elapsed": 8,
     "status": "ok",
     "timestamp": 1651239231242,
     "user": {
      "displayName": "CDS Support",
      "userId": "15376517909823222822"
     },
     "user_tz": -330
    },
    "id": "yNXsdLGbsFNa",
    "outputId": "48501bc4-aeff-459c-ec51-ae5c32a6bbd6"
   },
   "outputs": [],
   "source": [
    "euro12.shape[0]"
   ]
  },
  {
   "cell_type": "markdown",
   "metadata": {
    "id": "szdx7ySusFNa"
   },
   "source": [
    "### Step 6. What is the number of columns in the dataset?"
   ]
  },
  {
   "cell_type": "code",
   "execution_count": null,
   "metadata": {
    "id": "tyCU1CePsFNb",
    "outputId": "ce7b78e9-6bd8-4a45-863b-40d798705c02"
   },
   "outputs": [],
   "source": [
    "euro12.info()"
   ]
  },
  {
   "cell_type": "markdown",
   "metadata": {
    "id": "Un60ihGysFNb"
   },
   "source": [
    "### Step 7. View only the columns Team, Yellow Cards and Red Cards and assign them to a dataframe called discipline"
   ]
  },
  {
   "cell_type": "code",
   "execution_count": null,
   "metadata": {
    "id": "mzs9gAZOsFNb",
    "outputId": "92b503ee-d326-4a9b-b901-85094dc69709"
   },
   "outputs": [],
   "source": [
    "# filter only giving the column names\n",
    "\n",
    "discipline = euro12[['Team', 'Yellow Cards', 'Red Cards']]\n",
    "discipline"
   ]
  },
  {
   "cell_type": "markdown",
   "metadata": {
    "id": "qZtuk1NusFNc"
   },
   "source": [
    "### Step 8. Sort the teams by Red Cards, then to Yellow Cards"
   ]
  },
  {
   "cell_type": "code",
   "execution_count": null,
   "metadata": {
    "id": "zxezUWcOsFNc",
    "outputId": "ba4e7d85-f791-4b2e-c3e5-d9bbb8d724fb",
    "scrolled": true
   },
   "outputs": [],
   "source": [
    "discipline.sort_values(['Red Cards', 'Yellow Cards'], ascending = False)"
   ]
  },
  {
   "cell_type": "markdown",
   "metadata": {
    "id": "h4pk3j-XsFNc"
   },
   "source": [
    "### Step 9. Calculate the mean Yellow Cards given per Team"
   ]
  },
  {
   "cell_type": "code",
   "execution_count": null,
   "metadata": {
    "id": "t4WZ15idsFNd",
    "outputId": "7ad012a0-320c-4661-cfa5-73b79d65c0f5"
   },
   "outputs": [],
   "source": [
    "round(discipline['Yellow Cards'].mean())"
   ]
  },
  {
   "cell_type": "markdown",
   "metadata": {
    "id": "NBjOjBTgsFNd"
   },
   "source": [
    "### Step 10. Filter teams that scored more than 6 goals"
   ]
  },
  {
   "cell_type": "code",
   "execution_count": null,
   "metadata": {
    "id": "3W-As-HCsFNd",
    "outputId": "af1edd1d-efcd-4177-ebfa-7b6bdb86f6b7"
   },
   "outputs": [],
   "source": [
    "euro12[euro12.Goals > 6]"
   ]
  },
  {
   "cell_type": "markdown",
   "metadata": {
    "id": "zIwmvnizsFNd"
   },
   "source": [
    "### Step 11. Select the teams that start with G"
   ]
  },
  {
   "cell_type": "code",
   "execution_count": null,
   "metadata": {
    "id": "zQk5y3UHsFNe",
    "outputId": "24cebb71-035f-4b46-fe45-3f3ce7879342"
   },
   "outputs": [],
   "source": [
    "euro12[euro12.Team.str.startswith('G')]"
   ]
  },
  {
   "cell_type": "markdown",
   "metadata": {
    "id": "vVdSgC-BsFNe"
   },
   "source": [
    "### Step 12. Select the first 7 columns"
   ]
  },
  {
   "cell_type": "code",
   "execution_count": null,
   "metadata": {
    "id": "3RyFedwesFNe",
    "outputId": "6234d11e-ccbd-41cf-d912-45e2a619a66b"
   },
   "outputs": [],
   "source": [
    "# use .iloc to slices via the position of the passed integers\n",
    "# : means all, 0:7 means from 0 to 7\n",
    "\n",
    "euro12.iloc[: , 0:7]"
   ]
  },
  {
   "cell_type": "markdown",
   "metadata": {
    "id": "iuoSSeoDsFNf"
   },
   "source": [
    "### Step 13. Select all columns except the last 3."
   ]
  },
  {
   "cell_type": "code",
   "execution_count": null,
   "metadata": {
    "id": "mumOJ3l5sFNf",
    "outputId": "5f5e5fd0-9783-4053-ac54-d24eb4a29ef1"
   },
   "outputs": [],
   "source": [
    "# use negative to exclude the last 3 columns\n",
    "\n",
    "euro12.iloc[: , :-3]"
   ]
  },
  {
   "cell_type": "markdown",
   "metadata": {
    "id": "bmh_ejiPsFNg"
   },
   "source": [
    "### Step 14. Present only the Shooting Accuracy from England, Italy and Russia"
   ]
  },
  {
   "cell_type": "code",
   "execution_count": null,
   "metadata": {
    "id": "wc04fdc-sFNg",
    "outputId": "353f06fc-f590-4bc3-f569-34b824b205e5"
   },
   "outputs": [],
   "source": [
    "# .loc is another way to slice, using the labels of the columns and indexes\n",
    "\n",
    "euro12.loc[euro12.Team.isin(['England', 'Italy', 'Russia']), ['Team','Shooting Accuracy']]"
   ]
  }
 ],
 "metadata": {
  "anaconda-cloud": {},
  "colab": {
   "collapsed_sections": [],
   "name": "SNB_02_Pandas_Practice.ipynb",
   "provenance": []
  },
  "kernelspec": {
   "display_name": "Python 3 (ipykernel)",
   "language": "python",
   "name": "python3"
  },
  "language_info": {
   "codemirror_mode": {
    "name": "ipython",
    "version": 3
   },
   "file_extension": ".py",
   "mimetype": "text/x-python",
   "name": "python",
   "nbconvert_exporter": "python",
   "pygments_lexer": "ipython3",
   "version": "3.9.7"
  },
  "toc": {
   "base_numbering": 1,
   "nav_menu": {},
   "number_sections": true,
   "sideBar": true,
   "skip_h1_title": false,
   "title_cell": "Table of Contents",
   "title_sidebar": "Contents",
   "toc_cell": false,
   "toc_position": {},
   "toc_section_display": true,
   "toc_window_display": false
  }
 },
 "nbformat": 4,
 "nbformat_minor": 1
}
