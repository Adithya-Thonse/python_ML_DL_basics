{
 "cells": [
  {
   "cell_type": "markdown",
   "metadata": {
    "id": "12wF6gUYT_We"
   },
   "source": [
    "## Practice Notebook"
   ]
  },
  {
   "cell_type": "markdown",
   "metadata": {
    "id": "bPhqu4WmXbxC"
   },
   "source": [
    "## Strings\n",
    "\n",
    "A string is a series of characters. In Python, anything inside quotes is a string. And you can use either single quotes or double quotes\n",
    "\n",
    "For more info, refer [here](https://www.w3schools.com/python/python_strings.asp)."
   ]
  },
  {
   "cell_type": "markdown",
   "metadata": {
    "id": "dN-JN2GeYNzP"
   },
   "source": [
    "Exercise 1:\n",
    "\n",
    "Declare the values of a string variable to be \"she enquired, \"What help do you want from me?\" to her neighbour\"\n",
    "\n",
    "Print the string."
   ]
  },
  {
   "cell_type": "code",
   "execution_count": null,
   "metadata": {
    "id": "PvmSKSuCYAzn"
   },
   "outputs": [],
   "source": [
    "# YOUR CODE HERE"
   ]
  },
  {
   "cell_type": "markdown",
   "metadata": {
    "id": "_5P3baVHXixq"
   },
   "source": [
    "Exercise 2:\n",
    "\n",
    "Declare the values of a string variable to be \"I need Tables, Chairs, Cupboards\", in double qoutes. \n",
    "\n",
    "Print the string."
   ]
  },
  {
   "cell_type": "code",
   "execution_count": null,
   "metadata": {
    "id": "TRkcTF71T1PO"
   },
   "outputs": [],
   "source": [
    "# YOUR CODE HERE"
   ]
  },
  {
   "cell_type": "markdown",
   "metadata": {
    "id": "-_F548p0cm-Y"
   },
   "source": [
    "Exercise 3:\n",
    "\n",
    "Concatenate the two string variables declared in Exercise 1 and Exercise 2."
   ]
  },
  {
   "cell_type": "code",
   "execution_count": null,
   "metadata": {
    "id": "JEdJQUBkcUHe"
   },
   "outputs": [],
   "source": [
    "concatenate_1 = # YOUR CODE HERE\n",
    "# YOUR CODE HERE"
   ]
  },
  {
   "cell_type": "markdown",
   "metadata": {
    "id": "BsMn8suiZSMr"
   },
   "source": [
    "Exercise 4:\n",
    "\n",
    "Write a short note on any topic in python and print the note using single print statement."
   ]
  },
  {
   "cell_type": "code",
   "execution_count": null,
   "metadata": {
    "id": "ndGfCaAMZEyj"
   },
   "outputs": [],
   "source": [
    "# YOUR CODE HERE"
   ]
  },
  {
   "cell_type": "markdown",
   "metadata": {
    "id": "bpzOBwWjdUbO"
   },
   "source": [
    "Exercise 5:\n",
    "\n",
    "* Concatenate the output of the string in Exercise 3 and output of the string in Exercise 1.\n",
    "* print the length of the concatenated string.\n",
    "* Check if the output of Exercise 1 appears in the new concatenated string."
   ]
  },
  {
   "cell_type": "code",
   "execution_count": null,
   "metadata": {
    "id": "ScREMvsJd4Ig"
   },
   "outputs": [],
   "source": [
    "concatenate_2 = # YOUR CODE HERE\n",
    "# YOUR CODE HERE"
   ]
  },
  {
   "cell_type": "markdown",
   "metadata": {
    "id": "yDkU-pVIh0is"
   },
   "source": [
    "## Lists\n",
    "\n",
    "A Python list is used to store the sequence of various types of data. They are mutable type i.e. we can modify its element/s after it is created. \n",
    "\n",
    "For more info, refer [here](https://www.w3schools.com/python/python_lists.asp)."
   ]
  },
  {
   "cell_type": "markdown",
   "metadata": {
    "id": "c2yrVogdiJrm"
   },
   "source": [
    "* Declare a 'List' of positive integers in one variable.\n",
    "* Declare a 'List' of positive floating point values in another variable.\n",
    "* Declare a 'List' of individual string entries from Exercise 1.\n",
    "* Declare another 'List' which is a union of all the other three lists. \n"
   ]
  },
  {
   "cell_type": "code",
   "execution_count": null,
   "metadata": {
    "id": "mcgm8MBDcC_q"
   },
   "outputs": [],
   "source": [
    "list1 = [1,2,3,4,5,6,7,8]\n",
    "list2 = [5.1, 7.2, 8, 9, 0,2]\n",
    "exercise_1 = [\"Tables\", \"Chairs\", \"Classroom\", \"School\"]\n",
    "union_list = [1,2,3,4,5,6,7,8, 5.1, 7.2, 8, 9, 0,2, \"Tables\", \"Chairs\", \"Classroom\", \"School\"]"
   ]
  },
  {
   "cell_type": "markdown",
   "metadata": {
    "id": "HKpNRol-jhnK"
   },
   "source": [
    "Exercise 6:\n",
    "\n",
    "* What is the value of 5th index in union \"List'\n",
    "* What is the length of the union 'List'\n",
    "* What is the maximum value in positive floating point 'List'\n",
    "* What is the sum of positive integers in first 'List' "
   ]
  },
  {
   "cell_type": "code",
   "execution_count": null,
   "metadata": {
    "id": "_X_eN4jPjbat"
   },
   "outputs": [],
   "source": [
    "# YOUR CODE HERE"
   ]
  },
  {
   "cell_type": "markdown",
   "metadata": {
    "id": "AHkrnwnzkurp"
   },
   "source": [
    "## Python 'For' Loops\n",
    "A for loop is used for iterating over a sequence (that is either a list, a tuple, a dictionary, a set, or a string).\n",
    "\n",
    "For more information, refer [here](https://www.w3schools.com/python/python_for_loops.asp)."
   ]
  },
  {
   "cell_type": "markdown",
   "metadata": {
    "id": "CB6ggPJVogFJ"
   },
   "source": [
    "Exercise 7:\n",
    "\n",
    "Iterate over the union list in exercise 6 using 'for' loop and print all the individual elements of the 'List'"
   ]
  },
  {
   "cell_type": "code",
   "execution_count": null,
   "metadata": {
    "id": "r34CPN72kPwU"
   },
   "outputs": [],
   "source": [
    "# YOUR CODE HERE"
   ]
  },
  {
   "cell_type": "markdown",
   "metadata": {
    "id": "X1fnXaJerCZs"
   },
   "source": [
    "Exercise 8:\n",
    "\n",
    "* Define a string variable.\n",
    "* Iterate through all the individual characters of the string.\n",
    "* Print all the characters."
   ]
  },
  {
   "cell_type": "code",
   "execution_count": null,
   "metadata": {
    "id": "PzgUW6A-oyw8"
   },
   "outputs": [],
   "source": [
    "# YOUR CODE HERE"
   ]
  },
  {
   "cell_type": "markdown",
   "metadata": {
    "id": "BRY6q88PsROM"
   },
   "source": [
    "Exercise 9:\n",
    "\n",
    "* Append the positive list defined in Exercise 6 with a value 2.\n",
    "* Print the appended list.\n",
    "* Extend the positive list defined in Exercise 6 with a floating point list defined in Exercise 6.\n",
    "* Print the extended list."
   ]
  },
  {
   "cell_type": "code",
   "execution_count": null,
   "metadata": {
    "id": "AsRl384trh3m"
   },
   "outputs": [],
   "source": [
    "# YOUR CODE HERE"
   ]
  },
  {
   "cell_type": "markdown",
   "metadata": {
    "id": "8eejpaZluDLy"
   },
   "source": [
    "Exercise 10:\n",
    "* Print the length of the string list defined in Exercise 8.\n",
    "* Print all the characters of this string from 10th index to 20th index."
   ]
  },
  {
   "cell_type": "code",
   "execution_count": null,
   "metadata": {
    "id": "gzmVs95suUdm"
   },
   "outputs": [],
   "source": [
    "# YOUR CODE HERE"
   ]
  },
  {
   "cell_type": "markdown",
   "metadata": {
    "id": "85QHokZuWB5e"
   },
   "source": [
    "## Python 'While' loops\n",
    "The while loop allows the execution of a set of statements as long as a condition is true.\n",
    "\n",
    "For more information, refer [here](https://www.w3schools.com/python/python_while_loops.asp)."
   ]
  },
  {
   "cell_type": "markdown",
   "metadata": {
    "id": "1O2GNjDWXPgx"
   },
   "source": [
    "Exercise 11:\n",
    "* Write a while loop statement to print the following series:\n",
    "5, 10, 15, 20, __ __ 100"
   ]
  },
  {
   "cell_type": "code",
   "execution_count": null,
   "metadata": {
    "id": "l5OEHxXYYNln"
   },
   "outputs": [],
   "source": [
    "# YOUR CODE HERE"
   ]
  },
  {
   "cell_type": "markdown",
   "metadata": {
    "id": "AeX5DTA_sC1x"
   },
   "source": [
    "For more Exercises, refer to: https://docs.python-guide.org/intro/learning/"
   ]
  }
 ],
 "metadata": {
  "colab": {
   "collapsed_sections": [],
   "name": "NB_02_Strings_Lists_Iterations_Loops.ipynb",
   "provenance": []
  },
  "kernelspec": {
   "display_name": "Python 3 (ipykernel)",
   "language": "python",
   "name": "python3"
  },
  "language_info": {
   "codemirror_mode": {
    "name": "ipython",
    "version": 3
   },
   "file_extension": ".py",
   "mimetype": "text/x-python",
   "name": "python",
   "nbconvert_exporter": "python",
   "pygments_lexer": "ipython3",
   "version": "3.9.7"
  }
 },
 "nbformat": 4,
 "nbformat_minor": 1
}
