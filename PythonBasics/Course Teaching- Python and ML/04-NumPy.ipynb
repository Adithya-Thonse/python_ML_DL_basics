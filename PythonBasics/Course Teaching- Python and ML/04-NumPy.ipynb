{
 "cells": [
  {
   "cell_type": "markdown",
   "metadata": {
    "id": "aUUu9l_JfJ92"
   },
   "source": [
    "# Introduction to NumPy\n",
    "\n"
   ]
  },
  {
   "cell_type": "markdown",
   "metadata": {
    "id": "nljJR6CwfZN_"
   },
   "source": [
    "## Learning Objectives\n",
    "\n",
    "At the end of the experiment, you will be able to :\n",
    "\n",
    "* understand the basics of NumPy including its functional objects\n",
    "* describe the key characteristics of numpy arrays\n",
    "* understand the difference between Python list and NumPy arrays\n",
    "* use indexing to slice/select data from NumPy arrays\n",
    "\n"
   ]
  },
  {
   "cell_type": "markdown",
   "metadata": {
    "id": "G9gCJqk-lyIM"
   },
   "source": [
    "## Information"
   ]
  },
  {
   "cell_type": "markdown",
   "metadata": {
    "id": "qKSeNSXIqa1_"
   },
   "source": [
    "#### NumPy\n",
    "\n",
    "* NumPy stands for 'Numerical Python'\n",
    "* It is a package for data analysis and scientific computing with Python\n",
    "* At the heart of NumPy is a basic data type, called the NumPy array. A NumPy array may have a number of dimensions, thus allowing it to represent quantities such as vectors (1D), matrices (2D), or higher dimensional arrays such as tensors.\n",
    "* It offers ndarray data structure for storing and ufuncs for efficiently processing the (homogeneous) data. Some of the important functionalities include: basic slicing, advanced or fancy indexing, broadcasting, etc.\n",
    "\n",
    "**To know more about Numpy click [here](https://numpy.org/doc/stable/user/whatisnumpy.html)**\n"
   ]
  },
  {
   "cell_type": "markdown",
   "metadata": {
    "id": "uDJsG5abr4lH"
   },
   "source": [
    "#### Difference Between Python list and NumPy array\n",
    "\n",
    "* Python lists are very general. They can contain any kind of object. They are dynamically typed.\n",
    "* They do not support mathematical functions such as matrix and dot multiplications, etc. Implementing such functions for Python lists would not be very efficient because of the dynamic typing.\n",
    "* Numpy arrays are statically typed and homogeneous. The type of the elements is determined when the array is created.\n",
    "* Numpy arrays are memory efficient.\n",
    "* Because of the static typing, fast implementation of mathematical functions such as multiplication and addition of numpy arrays can be implemented in a compiled language (C and Fortran is used).\n",
    "\n",
    "**To know more about the differece between Python list and NumPy arrays click [here](https://webcourses.ucf.edu/courses/1249560/pages/python-lists-vs-numpy-arrays-what-is-the-difference#:~:text=A%20numpy%20array%20is%20a,a%20tuple%20of%20nonnegative%20integers.&text=A%20list%20is%20the%20Python,contain%20elements%20of%20different%20types.)**"
   ]
  },
  {
   "cell_type": "markdown",
   "metadata": {
    "id": "JSo_rLBatnNQ"
   },
   "source": [
    "#### Import the numpy package under the name np"
   ]
  },
  {
   "cell_type": "code",
   "execution_count": 4,
   "metadata": {
    "id": "INYyCl2wfG20"
   },
   "outputs": [],
   "source": [
    "# Your code here\n",
    "import numpy as np"
   ]
  },
  {
   "cell_type": "markdown",
   "metadata": {
    "id": "Ulp2XpddvbXB"
   },
   "source": [
    "####  Create a one-dimensional array"
   ]
  },
  {
   "cell_type": "code",
   "execution_count": 5,
   "metadata": {
    "id": "-bpW1Oacvyn6"
   },
   "outputs": [
    {
     "data": {
      "text/plain": [
       "(10,)"
      ]
     },
     "execution_count": 5,
     "metadata": {},
     "output_type": "execute_result"
    }
   ],
   "source": [
    "# Your code here\n",
    "A  = np.arange(10)\n",
    "a  = [1, 2, 3]\n",
    "np.array(a)\n",
    "A.shape"
   ]
  },
  {
   "cell_type": "markdown",
   "metadata": {
    "id": "aTNS3fbswAFx"
   },
   "source": [
    "#### Create a two-dimensional array"
   ]
  },
  {
   "cell_type": "code",
   "execution_count": 6,
   "metadata": {
    "id": "Cc1OAX2swDp0"
   },
   "outputs": [
    {
     "data": {
      "text/plain": [
       "array([[ 0,  1,  2,  3,  4,  5],\n",
       "       [ 6,  7,  8,  9, 10, 11],\n",
       "       [12, 13, 14, 15, 16, 17],\n",
       "       [18, 19, 20, 21, 22, 23]])"
      ]
     },
     "execution_count": 6,
     "metadata": {},
     "output_type": "execute_result"
    }
   ],
   "source": [
    "# Your code here\n",
    "np.array([[1, 2], [3, 4]])\n",
    "np.arange(24).reshape(4,6)"
   ]
  },
  {
   "cell_type": "markdown",
   "metadata": {
    "id": "WYHvBRZxwLkW"
   },
   "source": [
    "#### Create an array of 10 fives"
   ]
  },
  {
   "cell_type": "code",
   "execution_count": 7,
   "metadata": {
    "id": "HB3lvMc-wHZu"
   },
   "outputs": [
    {
     "data": {
      "text/plain": [
       "array([5, 5, 5, 5, 5, 5, 5, 5, 5, 5])"
      ]
     },
     "execution_count": 7,
     "metadata": {},
     "output_type": "execute_result"
    }
   ],
   "source": [
    "# Your code here\n",
    "np.ones(10) * 5\n",
    "np.full(10, 5)"
   ]
  },
  {
   "cell_type": "markdown",
   "metadata": {
    "id": "ZML4eoAiwjWZ"
   },
   "source": [
    "#### Create an array of 30 zeros\n"
   ]
  },
  {
   "cell_type": "code",
   "execution_count": 8,
   "metadata": {
    "id": "l4UsKAp6wcAO"
   },
   "outputs": [
    {
     "data": {
      "text/plain": [
       "(30,)"
      ]
     },
     "execution_count": 8,
     "metadata": {},
     "output_type": "execute_result"
    }
   ],
   "source": [
    "# Your code here\n",
    "np.zeros(30).shape"
   ]
  },
  {
   "cell_type": "markdown",
   "metadata": {
    "id": "0jIz5To9xe20"
   },
   "source": [
    "#### Create a 5 * 5 identity matrix"
   ]
  },
  {
   "cell_type": "code",
   "execution_count": 9,
   "metadata": {
    "id": "oWNNi94gxFfh"
   },
   "outputs": [
    {
     "data": {
      "text/plain": [
       "array([[1., 0., 0., 0., 0.],\n",
       "       [0., 1., 0., 0., 0.],\n",
       "       [0., 0., 1., 0., 0.],\n",
       "       [0., 0., 0., 1., 0.],\n",
       "       [0., 0., 0., 0., 1.]])"
      ]
     },
     "execution_count": 9,
     "metadata": {},
     "output_type": "execute_result"
    }
   ],
   "source": [
    "# Your code here\n",
    "np.identity(5)\n",
    "np.eye(5, )"
   ]
  },
  {
   "cell_type": "markdown",
   "metadata": {
    "id": "zSbk_DNWyB0v"
   },
   "source": [
    "#### Create a numpy array from a List"
   ]
  },
  {
   "cell_type": "code",
   "execution_count": 10,
   "metadata": {
    "id": "lUw42XSpxvfr"
   },
   "outputs": [
    {
     "data": {
      "text/plain": [
       "array([ 0,  1,  2,  3,  4,  5,  6,  7,  8,  9, 10, 11, 12, 13, 14, 15, 16,\n",
       "       17, 18, 19])"
      ]
     },
     "execution_count": 10,
     "metadata": {},
     "output_type": "execute_result"
    }
   ],
   "source": [
    "# Your code here\n",
    "l = [1, 2, 3]\n",
    "np.array(l)\n",
    "np.array(list(range(20)))"
   ]
  },
  {
   "cell_type": "markdown",
   "metadata": {
    "id": "s2SyGGhUyLce"
   },
   "source": [
    "####  Create a 4 * 4 * 4 array with random values"
   ]
  },
  {
   "cell_type": "code",
   "execution_count": 31,
   "metadata": {
    "id": "qjGljrhvyKxI"
   },
   "outputs": [
    {
     "data": {
      "text/plain": [
       "array([[[1.67081685e-01, 9.62108792e-01, 2.27770230e-01, 8.38335750e-01],\n",
       "        [6.06225987e-01, 8.24406491e-01, 6.17711569e-01, 1.87241767e-02],\n",
       "        [4.69482004e-01, 9.10117758e-01, 5.62346684e-01, 4.64768227e-01],\n",
       "        [9.73307958e-02, 8.71592460e-01, 6.51668347e-01, 9.42675516e-01]],\n",
       "\n",
       "       [[8.37425315e-01, 2.13963331e-01, 9.97226864e-01, 1.41204441e-01],\n",
       "        [8.35867521e-01, 5.02083583e-01, 3.32429463e-01, 1.21591623e-01],\n",
       "        [2.49958053e-01, 5.00175268e-02, 1.48224047e-01, 3.57614944e-01],\n",
       "        [2.68269104e-01, 3.04509151e-01, 2.32441926e-01, 1.53391513e-02]],\n",
       "\n",
       "       [[1.39874080e-01, 8.13623846e-01, 7.46230431e-01, 1.89297087e-02],\n",
       "        [5.60083542e-01, 2.01719197e-01, 4.16546962e-01, 8.70894635e-01],\n",
       "        [4.66395506e-01, 4.21993333e-01, 4.82087286e-01, 7.31458271e-04],\n",
       "        [9.60123448e-01, 5.46180775e-01, 2.55208129e-01, 5.47357688e-01]],\n",
       "\n",
       "       [[2.89408738e-01, 4.94577901e-01, 7.97921539e-01, 5.89514212e-01],\n",
       "        [4.61955248e-01, 2.30381009e-01, 2.47584528e-01, 5.89195174e-01],\n",
       "        [9.76871326e-01, 2.06578038e-01, 4.67332972e-01, 3.51165353e-01],\n",
       "        [4.03391101e-01, 1.98011621e-03, 3.32881065e-01, 5.67943909e-01]]])"
      ]
     },
     "execution_count": 31,
     "metadata": {},
     "output_type": "execute_result"
    }
   ],
   "source": [
    "# Your code here\n",
    "np.random.random((4,4,4))"
   ]
  },
  {
   "cell_type": "markdown",
   "metadata": {
    "id": "vhsfUjihyanN"
   },
   "source": [
    "#### Create a 10 * 10 array with random values and find the minimum and maximum values "
   ]
  },
  {
   "cell_type": "code",
   "execution_count": 12,
   "metadata": {
    "id": "kVP6JO1fyZxl"
   },
   "outputs": [
    {
     "data": {
      "text/plain": [
       "(0.978159874550106, 0.978159874550106, 0.011032378410976929)"
      ]
     },
     "execution_count": 12,
     "metadata": {},
     "output_type": "execute_result"
    }
   ],
   "source": [
    "# Your code here\n",
    "\n",
    "b = np.random.rand(10,10)\n",
    "b.max(), np.max(b), b.min()\n"
   ]
  },
  {
   "cell_type": "markdown",
   "metadata": {
    "id": "1D4LM_rQzGEY"
   },
   "source": [
    "#### Given two arrays *A* and *B*, perform the below operations:\n",
    "\n",
    "* A + B\n",
    "* A - B\n",
    "* A * B\n",
    "* A / B\n",
    "* A ** 3\n",
    "\n",
    "A = np.arange(1,6)\n",
    "\n",
    "B = np.arange(6, 15, 2)"
   ]
  },
  {
   "cell_type": "code",
   "execution_count": 13,
   "metadata": {
    "id": "F8LurmSJzFF4"
   },
   "outputs": [
    {
     "name": "stdout",
     "output_type": "stream",
     "text": [
      "[1 2 3 4 5] [ 6  8 10 12 14]\n"
     ]
    },
    {
     "data": {
      "text/plain": [
       "array([ 7, 10, 13, 16, 19])"
      ]
     },
     "execution_count": 13,
     "metadata": {},
     "output_type": "execute_result"
    }
   ],
   "source": [
    "# Your code here\n",
    "A = np.arange(1,6)\n",
    "B = np.arange(6, 15, 2)\n",
    "print(A, B)\n",
    "\n",
    "A + B"
   ]
  },
  {
   "cell_type": "code",
   "execution_count": 14,
   "metadata": {
    "id": "gku4aOCWkR6l"
   },
   "outputs": [
    {
     "data": {
      "text/plain": [
       "array([-5, -6, -7, -8, -9])"
      ]
     },
     "execution_count": 14,
     "metadata": {},
     "output_type": "execute_result"
    }
   ],
   "source": [
    "A - B"
   ]
  },
  {
   "cell_type": "code",
   "execution_count": 15,
   "metadata": {
    "id": "gKqGzoc9kWR4"
   },
   "outputs": [
    {
     "data": {
      "text/plain": [
       "array([ 6, 16, 30, 48, 70])"
      ]
     },
     "execution_count": 15,
     "metadata": {},
     "output_type": "execute_result"
    }
   ],
   "source": [
    "A * B"
   ]
  },
  {
   "cell_type": "code",
   "execution_count": 16,
   "metadata": {
    "id": "ZAhjpTVtkZ1u"
   },
   "outputs": [
    {
     "data": {
      "text/plain": [
       "array([0.16666667, 0.25      , 0.3       , 0.33333333, 0.35714286])"
      ]
     },
     "execution_count": 16,
     "metadata": {},
     "output_type": "execute_result"
    }
   ],
   "source": [
    "A/B"
   ]
  },
  {
   "cell_type": "code",
   "execution_count": 17,
   "metadata": {
    "id": "pPRZOQaykdh-"
   },
   "outputs": [
    {
     "data": {
      "text/plain": [
       "array([  1,   8,  27,  64, 125])"
      ]
     },
     "execution_count": 17,
     "metadata": {},
     "output_type": "execute_result"
    }
   ],
   "source": [
    "A ** 3"
   ]
  },
  {
   "cell_type": "markdown",
   "metadata": {
    "id": "2UunBRTGzjT7"
   },
   "source": [
    "#### Given an array *X*. Calculate sine, cosine, and tangent of *X*, element-wise.\n",
    "\n",
    "X = np.array([1, 45, 60, 90])"
   ]
  },
  {
   "cell_type": "code",
   "execution_count": 18,
   "metadata": {
    "id": "_GePAqckzdqM"
   },
   "outputs": [
    {
     "name": "stdout",
     "output_type": "stream",
     "text": [
      "0.8414709848078965\n",
      "[ 0.54030231  0.52532199 -0.95241298 -0.44807362]\n",
      "[ 1.55740772  1.61977519  0.32004039 -1.99520041]\n"
     ]
    },
    {
     "data": {
      "text/plain": [
       "1"
      ]
     },
     "execution_count": 18,
     "metadata": {},
     "output_type": "execute_result"
    }
   ],
   "source": [
    "# Your code here\n",
    "X = np.array([1, 45, 60, 90])\n",
    "print(np.sin(X[0]))\n",
    "print(np.cos(X))\n",
    "print(np.tan(X))\n",
    "\n",
    "X[0]"
   ]
  },
  {
   "cell_type": "markdown",
   "metadata": {
    "id": "Nu0UneAKz_kY"
   },
   "source": [
    "#### Given an array *X*. Calculate the round, ceil, floor of *X*, element-wise\n",
    "\n",
    "X = np.array([4.1, 2.5, 44.5, 25.9, -1.1, -9.5, -6.9])"
   ]
  },
  {
   "cell_type": "code",
   "execution_count": 19,
   "metadata": {
    "id": "wvjbRcEEz-LR"
   },
   "outputs": [
    {
     "data": {
      "text/plain": [
       "(array([  4.,   2.,  44.,  26.,  -1., -10.,  -7.]),\n",
       " array([ 5.,  3., 45., 26., -1., -9., -6.]),\n",
       " array([  4.,   2.,  44.,  25.,  -2., -10.,  -7.]))"
      ]
     },
     "execution_count": 19,
     "metadata": {},
     "output_type": "execute_result"
    }
   ],
   "source": [
    "# Your code here\n",
    "X = np.array([4.1, 2.5, 44.5, 25.9, -1.1, -9.5, -6.9])\n",
    "np.round(X), np.ceil(X), np.floor(X)\n",
    "# np.round?"
   ]
  },
  {
   "cell_type": "markdown",
   "metadata": {
    "id": "-60ajk5z0IHq"
   },
   "source": [
    "#### Given two arrays *X* and *Y*. Divide *X* by *Y* element-wise using divide, true_divide, floor_divide functions.\n",
    "\n",
    "X = np.array([1, 2, 3])\n",
    "\n",
    "Y = np.array([4, 5, 6])"
   ]
  },
  {
   "cell_type": "code",
   "execution_count": 20,
   "metadata": {
    "id": "4Or_DXdT0HSq"
   },
   "outputs": [
    {
     "data": {
      "text/plain": [
       "array([0.25, 0.4 , 0.5 ])"
      ]
     },
     "execution_count": 20,
     "metadata": {},
     "output_type": "execute_result"
    }
   ],
   "source": [
    "# Your code here\n",
    "X = np.array([1, 2, 3])\n",
    "\n",
    "Y = np.array([4, 5, 6])\n",
    "\n",
    "np.divide(X, Y)"
   ]
  },
  {
   "cell_type": "markdown",
   "metadata": {
    "id": "mEMzMg1c0dhd"
   },
   "source": [
    "#### Given two arrays *X* and *Y*. Compute $X^Y$, element-wise.\n",
    "\n",
    "X = np.array([1, 2, 3])\n",
    "\n",
    "Y = np.array([4, 5, 6])"
   ]
  },
  {
   "cell_type": "code",
   "execution_count": 23,
   "metadata": {
    "id": "96MpGOOn0iAA"
   },
   "outputs": [
    {
     "data": {
      "text/plain": [
       "array([  1,  32, 729])"
      ]
     },
     "execution_count": 23,
     "metadata": {},
     "output_type": "execute_result"
    }
   ],
   "source": [
    "# Your code here\n",
    "\n",
    "X = np.array([1, 2, 3])\n",
    "\n",
    "Y = np.array([4, 5, 6])\n",
    "\n",
    "X ** Y\n",
    "\n",
    "np.power(X , Y)"
   ]
  },
  {
   "cell_type": "markdown",
   "metadata": {
    "id": "KYW-0pO00xcL"
   },
   "source": [
    "#### Use the functions len(), numpy.shape() on array *X*. How do they relate to each other? And to the ndim attribute of the arrays?\n",
    "\n",
    "X = np.array([8, 4, 22, 3, 66, 12, 1, 5])"
   ]
  },
  {
   "cell_type": "code",
   "execution_count": 24,
   "metadata": {
    "id": "BxYWGEUg0tJn"
   },
   "outputs": [
    {
     "data": {
      "text/plain": [
       "(8, 1, (8,))"
      ]
     },
     "execution_count": 24,
     "metadata": {},
     "output_type": "execute_result"
    }
   ],
   "source": [
    "# Your code here\n",
    "X = np.array([8, 4, 22, 3, 66, 12, 1, 5])\n",
    "len(X), X.ndim, X.shape"
   ]
  },
  {
   "cell_type": "markdown",
   "metadata": {
    "id": "c0CMOS5d1Exe"
   },
   "source": [
    "#### Use the array X created above and write the commands for the following: \n",
    "\n",
    "* Find the sum of all elements\n",
    "* Find the sum of all elements row wise\n",
    "* Find the sum of all elements column wise\n",
    "* Find the max of all elements\n",
    "* Find the min of all elements in each row\n",
    "* Find the mean of all elements in each row\n",
    "* Find the standard deviation column wise"
   ]
  },
  {
   "cell_type": "markdown",
   "metadata": {},
   "source": [
    "### [8, 6]\n",
    "### [4, 2]"
   ]
  },
  {
   "cell_type": "code",
   "execution_count": 30,
   "metadata": {
    "id": "SO7mwhaV2TpV"
   },
   "outputs": [
    {
     "name": "stdout",
     "output_type": "stream",
     "text": [
      "sum is 20\n",
      "\n",
      "sum of all elements row wise\n",
      " [12  8]\n",
      "\n",
      "sum of all elements col wise\n",
      " [14  6]\n",
      "\n",
      "max and min 8 2\n",
      "\n",
      " min row wise [4 2]\n",
      "\n",
      " mean row wise [6. 4.]\n",
      "\n",
      " standard deviation column wise [1. 1.]\n"
     ]
    }
   ],
   "source": [
    "# Your code here\n",
    "X1 = np.array([[8,6], [4,2]])\n",
    "\n",
    "print(\"sum is\",np.sum(X1))\n",
    "print(\"\\nsum of all elements row wise\\n\",np.sum(X1, axis=0))\n",
    "print(\"\\nsum of all elements col wise\\n\",np.sum(X1, axis=1))\n",
    "print(\"\\nmax and min\",X1.max(), X1.min())\n",
    "print(\"\\n min row wise\",np.min(X1, axis=0))\n",
    "print(\"\\n mean row wise\",np.mean(X1, axis=0))\n",
    "print(\"\\n standard deviation column wise\",np.std(X1, axis=1))"
   ]
  },
  {
   "cell_type": "code",
   "execution_count": null,
   "metadata": {
    "id": "WFjsDjKyu322"
   },
   "outputs": [],
   "source": []
  }
 ],
 "metadata": {
  "colab": {
   "collapsed_sections": [],
   "name": "M0_SNB_Practice_01_NumPy.ipynb",
   "provenance": []
  },
  "kernelspec": {
   "display_name": "Python 3 (ipykernel)",
   "language": "python",
   "name": "python3"
  },
  "language_info": {
   "codemirror_mode": {
    "name": "ipython",
    "version": 3
   },
   "file_extension": ".py",
   "mimetype": "text/x-python",
   "name": "python",
   "nbconvert_exporter": "python",
   "pygments_lexer": "ipython3",
   "version": "3.9.7"
  }
 },
 "nbformat": 4,
 "nbformat_minor": 1
}
