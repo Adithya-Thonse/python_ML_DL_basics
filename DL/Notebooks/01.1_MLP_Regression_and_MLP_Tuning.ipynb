{
  "cells": [
    {
      "attachments": {},
      "cell_type": "markdown",
      "metadata": {
        "id": "HklD4MlOgCTy"
      },
      "source": [
        "# MLP Regression and MLP Tuning "
      ]
    },
    {
      "cell_type": "markdown",
      "metadata": {
        "id": "doENGez0k03C"
      },
      "source": [
        "## Learning Objectives"
      ]
    },
    {
      "cell_type": "markdown",
      "metadata": {
        "id": "HbFv4sGHk7VW"
      },
      "source": [
        "At the end of the experiment, you will be able to\n",
        "\n",
        "- understand the concept of MLPs for regression\n",
        "- know the hyperparameters of neural network and their tuning \n",
        "- understand batch normalization using Keras\n",
        "- understand the concept of optimizers\n",
        "- understand the time-based learning rate method through an example\n",
        "- understand the different regularization methods to avoid the overfitting of neural networks"
      ]
    },
    {
      "cell_type": "markdown",
      "metadata": {
        "id": "w-9AxpS_WMr9"
      },
      "source": [
        "### Introduction to Regression MLPs"
      ]
    },
    {
      "cell_type": "markdown",
      "metadata": {
        "id": "btCQw9drWTH_"
      },
      "source": [
        "First, MLPs can be used for regression tasks. If we want to predict a single value (e.g., the  price  of  a  house  given  many  of  its  features), then  we  just  need  a  single  output neuron:  its  output  is  the  predicted  value.  For  multivariate  regression  (i.e.,  to  predict multiple  values  at  once),  we  need  one  output  neuron  per  output  dimension.  For example, to locate the center of an object on an image, we need to predict 2D coordinates,  so  we  need  two  output  neurons.  If  we  also  want  to  place  a  bounding  box around the object, then we need two more numbers: the width and the height of the object. So we end up with 4 output neurons.\n",
        "\n",
        "In general, when building an MLP for regression, we do not want to use any activation  function  for  the  output  neurons,  so  they  are  free  to  output  any  range  of  values. However,  if  we  want  to  guarantee  that  the  output  will  always  be  positive,  then  we can use the ReLU activation function or the softplus activation function in the output layer.  Finally,  if  we  want  to  guarantee  that  the  predictions  will  fall  within  a  given range of values, then we can use the logistic function or the hyperbolic tangent and scale the labels to the appropriate range: 0 to 1 for the logistic function, or –1 to 1 for the hyperbolic tangent.\n",
        "\n",
        "The loss function to use during training is typically the mean squared error, but if we have  a  lot  of  outliers  in  the  training  set,  we  may  prefer  to  use  the  mean  absolute error  instead.  Alternatively,  we  can  use  the  Huber  loss,  which  is  a  combination  of both.\n",
        "\n",
        "**Note:** The Huber loss is quadratic when the error is smaller than a threshold $δ$ (typically 1), but linear when the error is larger than $δ$. This makes it less sensitive to outliers than the mean squared error, and\n",
        "it  is  often  more  precise  and  converges  faster  than  the  mean  absolute error.\n",
        "\n",
        "To know more about Multi Layer Perceptron (MLP), click [here](https://www.cs.toronto.edu/~rgrosse/courses/csc321_2018/readings/L05%20Multilayer%20Perceptrons.pdf).\n",
        "\n",
        "**Implementation Using Keras**\n",
        "\n",
        "Keras is a high-level Deep Learning API that allows us to easily build train, evaluate and execute all sorts of neural networks. To know more about the documentation of Keras, click [here](https://keras.io/).\n",
        "\n",
        "**Implementation of MLP regression Using sklearn**\n",
        "\n",
        "The very popular machine learning library Scikit-Learn is also capable of basic deep learning modeling.\n",
        "\n",
        "Salient points of Multilayer Perceptron (MLP) in Scikit-learn:\n",
        "\n",
        "* There is no activation function in the output layer.\n",
        "* For regression scenarios, the square error is the loss function, and cross-entropy is the loss function for the classification\n",
        "* It can work with single as well as multiple target values regression.\n",
        "* Unlike other popular packages, likes Keras the implementation of MLP in Scikit doesn’t support GPU.\n",
        "\n",
        "To know more about Scikit-Learn MLP regressor, click [here](https://scikit-learn.org/stable/modules/generated/sklearn.neural_network.MLPRegressor.html).\n",
        " "
      ]
    },
    {
      "cell_type": "markdown",
      "metadata": {
        "id": "mx6BJLwYZBxw"
      },
      "source": [
        "### Typical MLP Regressor Architecture"
      ]
    },
    {
      "attachments": {},
      "cell_type": "markdown",
      "metadata": {
        "id": "GH2a3AvwZNlT"
      },
      "source": [
        "\n",
        "Hyperparameter             | Typical Value \n",
        "---------------------------|------------------\n",
        "input neurons            | One per input feature (e.g., 28 x 28 = 784 for MNIST)\n",
        "hidden layers            | Depends on the problem. Typically 1 to 5. \n",
        "neurons per hidden layer | Depends on the problem. Typically 10 to 100.\n",
        "output neurons           | 1 per prediction dimension\n",
        "Hidden activation          | ReLU\n",
        "Output activation          | None or ReLU/Softplus (if positive outputs) or Logistic/Tanh (if bounded outputs)\n",
        "Loss function              | MSE or MAE/Huber (if outliers)"
      ]
    },
    {
      "cell_type": "markdown",
      "metadata": {
        "id": "BNLA8HiKxQhc"
      },
      "source": [
        "### Setup Steps:"
      ]
    },
    {
      "cell_type": "markdown",
      "metadata": {
        "id": "tAu6v-CnA8zj"
      },
      "source": [
        "### Import required packages"
      ]
    },
    {
      "cell_type": "code",
      "execution_count": null,
      "metadata": {
        "colab": {
          "base_uri": "https://localhost:8080/"
        },
        "id": "7SRN62EfayXM",
        "outputId": "6f1d365b-b1d2-4520-e563-1d621421cb17"
      },
      "outputs": [
        {
          "name": "stdout",
          "output_type": "stream",
          "text": [
            "\u001b[?25l\r\u001b[K     |▏                               | 10 kB 12.5 MB/s eta 0:00:01\r\u001b[K     |▍                               | 20 kB 8.3 MB/s eta 0:00:01\r\u001b[K     |▋                               | 30 kB 11.4 MB/s eta 0:00:01\r\u001b[K     |▉                               | 40 kB 9.4 MB/s eta 0:00:01\r\u001b[K     |█                               | 51 kB 4.9 MB/s eta 0:00:01\r\u001b[K     |█▎                              | 61 kB 5.8 MB/s eta 0:00:01\r\u001b[K     |█▌                              | 71 kB 5.9 MB/s eta 0:00:01\r\u001b[K     |█▊                              | 81 kB 6.6 MB/s eta 0:00:01\r\u001b[K     |█▉                              | 92 kB 7.0 MB/s eta 0:00:01\r\u001b[K     |██                              | 102 kB 7.3 MB/s eta 0:00:01\r\u001b[K     |██▎                             | 112 kB 7.3 MB/s eta 0:00:01\r\u001b[K     |██▌                             | 122 kB 7.3 MB/s eta 0:00:01\r\u001b[K     |██▊                             | 133 kB 7.3 MB/s eta 0:00:01\r\u001b[K     |███                             | 143 kB 7.3 MB/s eta 0:00:01\r\u001b[K     |███▏                            | 153 kB 7.3 MB/s eta 0:00:01\r\u001b[K     |███▍                            | 163 kB 7.3 MB/s eta 0:00:01\r\u001b[K     |███▌                            | 174 kB 7.3 MB/s eta 0:00:01\r\u001b[K     |███▊                            | 184 kB 7.3 MB/s eta 0:00:01\r\u001b[K     |████                            | 194 kB 7.3 MB/s eta 0:00:01\r\u001b[K     |████▏                           | 204 kB 7.3 MB/s eta 0:00:01\r\u001b[K     |████▍                           | 215 kB 7.3 MB/s eta 0:00:01\r\u001b[K     |████▋                           | 225 kB 7.3 MB/s eta 0:00:01\r\u001b[K     |████▉                           | 235 kB 7.3 MB/s eta 0:00:01\r\u001b[K     |█████                           | 245 kB 7.3 MB/s eta 0:00:01\r\u001b[K     |█████▎                          | 256 kB 7.3 MB/s eta 0:00:01\r\u001b[K     |█████▍                          | 266 kB 7.3 MB/s eta 0:00:01\r\u001b[K     |█████▋                          | 276 kB 7.3 MB/s eta 0:00:01\r\u001b[K     |█████▉                          | 286 kB 7.3 MB/s eta 0:00:01\r\u001b[K     |██████                          | 296 kB 7.3 MB/s eta 0:00:01\r\u001b[K     |██████▎                         | 307 kB 7.3 MB/s eta 0:00:01\r\u001b[K     |██████▌                         | 317 kB 7.3 MB/s eta 0:00:01\r\u001b[K     |██████▊                         | 327 kB 7.3 MB/s eta 0:00:01\r\u001b[K     |███████                         | 337 kB 7.3 MB/s eta 0:00:01\r\u001b[K     |███████                         | 348 kB 7.3 MB/s eta 0:00:01\r\u001b[K     |███████▎                        | 358 kB 7.3 MB/s eta 0:00:01\r\u001b[K     |███████▌                        | 368 kB 7.3 MB/s eta 0:00:01\r\u001b[K     |███████▊                        | 378 kB 7.3 MB/s eta 0:00:01\r\u001b[K     |████████                        | 389 kB 7.3 MB/s eta 0:00:01\r\u001b[K     |████████▏                       | 399 kB 7.3 MB/s eta 0:00:01\r\u001b[K     |████████▍                       | 409 kB 7.3 MB/s eta 0:00:01\r\u001b[K     |████████▋                       | 419 kB 7.3 MB/s eta 0:00:01\r\u001b[K     |████████▉                       | 430 kB 7.3 MB/s eta 0:00:01\r\u001b[K     |█████████                       | 440 kB 7.3 MB/s eta 0:00:01\r\u001b[K     |█████████▏                      | 450 kB 7.3 MB/s eta 0:00:01\r\u001b[K     |█████████▍                      | 460 kB 7.3 MB/s eta 0:00:01\r\u001b[K     |█████████▋                      | 471 kB 7.3 MB/s eta 0:00:01\r\u001b[K     |█████████▉                      | 481 kB 7.3 MB/s eta 0:00:01\r\u001b[K     |██████████                      | 491 kB 7.3 MB/s eta 0:00:01\r\u001b[K     |██████████▎                     | 501 kB 7.3 MB/s eta 0:00:01\r\u001b[K     |██████████▌                     | 512 kB 7.3 MB/s eta 0:00:01\r\u001b[K     |██████████▋                     | 522 kB 7.3 MB/s eta 0:00:01\r\u001b[K     |██████████▉                     | 532 kB 7.3 MB/s eta 0:00:01\r\u001b[K     |███████████                     | 542 kB 7.3 MB/s eta 0:00:01\r\u001b[K     |███████████▎                    | 552 kB 7.3 MB/s eta 0:00:01\r\u001b[K     |███████████▌                    | 563 kB 7.3 MB/s eta 0:00:01\r\u001b[K     |███████████▊                    | 573 kB 7.3 MB/s eta 0:00:01\r\u001b[K     |████████████                    | 583 kB 7.3 MB/s eta 0:00:01\r\u001b[K     |████████████▏                   | 593 kB 7.3 MB/s eta 0:00:01\r\u001b[K     |████████████▍                   | 604 kB 7.3 MB/s eta 0:00:01\r\u001b[K     |████████████▌                   | 614 kB 7.3 MB/s eta 0:00:01\r\u001b[K     |████████████▊                   | 624 kB 7.3 MB/s eta 0:00:01\r\u001b[K     |█████████████                   | 634 kB 7.3 MB/s eta 0:00:01\r\u001b[K     |█████████████▏                  | 645 kB 7.3 MB/s eta 0:00:01\r\u001b[K     |█████████████▍                  | 655 kB 7.3 MB/s eta 0:00:01\r\u001b[K     |█████████████▋                  | 665 kB 7.3 MB/s eta 0:00:01\r\u001b[K     |█████████████▉                  | 675 kB 7.3 MB/s eta 0:00:01\r\u001b[K     |██████████████                  | 686 kB 7.3 MB/s eta 0:00:01\r\u001b[K     |██████████████▏                 | 696 kB 7.3 MB/s eta 0:00:01\r\u001b[K     |██████████████▍                 | 706 kB 7.3 MB/s eta 0:00:01\r\u001b[K     |██████████████▋                 | 716 kB 7.3 MB/s eta 0:00:01\r\u001b[K     |██████████████▉                 | 727 kB 7.3 MB/s eta 0:00:01\r\u001b[K     |███████████████                 | 737 kB 7.3 MB/s eta 0:00:01\r\u001b[K     |███████████████▎                | 747 kB 7.3 MB/s eta 0:00:01\r\u001b[K     |███████████████▌                | 757 kB 7.3 MB/s eta 0:00:01\r\u001b[K     |███████████████▊                | 768 kB 7.3 MB/s eta 0:00:01\r\u001b[K     |████████████████                | 778 kB 7.3 MB/s eta 0:00:01\r\u001b[K     |████████████████                | 788 kB 7.3 MB/s eta 0:00:01\r\u001b[K     |████████████████▎               | 798 kB 7.3 MB/s eta 0:00:01\r\u001b[K     |████████████████▌               | 808 kB 7.3 MB/s eta 0:00:01\r\u001b[K     |████████████████▊               | 819 kB 7.3 MB/s eta 0:00:01\r\u001b[K     |█████████████████               | 829 kB 7.3 MB/s eta 0:00:01\r\u001b[K     |█████████████████▏              | 839 kB 7.3 MB/s eta 0:00:01\r\u001b[K     |█████████████████▍              | 849 kB 7.3 MB/s eta 0:00:01\r\u001b[K     |█████████████████▋              | 860 kB 7.3 MB/s eta 0:00:01\r\u001b[K     |█████████████████▊              | 870 kB 7.3 MB/s eta 0:00:01\r\u001b[K     |██████████████████              | 880 kB 7.3 MB/s eta 0:00:01\r\u001b[K     |██████████████████▏             | 890 kB 7.3 MB/s eta 0:00:01\r\u001b[K     |██████████████████▍             | 901 kB 7.3 MB/s eta 0:00:01\r\u001b[K     |██████████████████▋             | 911 kB 7.3 MB/s eta 0:00:01\r\u001b[K     |██████████████████▉             | 921 kB 7.3 MB/s eta 0:00:01\r\u001b[K     |███████████████████             | 931 kB 7.3 MB/s eta 0:00:01\r\u001b[K     |███████████████████▎            | 942 kB 7.3 MB/s eta 0:00:01\r\u001b[K     |███████████████████▌            | 952 kB 7.3 MB/s eta 0:00:01\r\u001b[K     |███████████████████▋            | 962 kB 7.3 MB/s eta 0:00:01\r\u001b[K     |███████████████████▉            | 972 kB 7.3 MB/s eta 0:00:01\r\u001b[K     |████████████████████            | 983 kB 7.3 MB/s eta 0:00:01\r\u001b[K     |████████████████████▎           | 993 kB 7.3 MB/s eta 0:00:01\r\u001b[K     |████████████████████▌           | 1.0 MB 7.3 MB/s eta 0:00:01\r\u001b[K     |████████████████████▊           | 1.0 MB 7.3 MB/s eta 0:00:01\r\u001b[K     |█████████████████████           | 1.0 MB 7.3 MB/s eta 0:00:01\r\u001b[K     |█████████████████████▏          | 1.0 MB 7.3 MB/s eta 0:00:01\r\u001b[K     |█████████████████████▎          | 1.0 MB 7.3 MB/s eta 0:00:01\r\u001b[K     |█████████████████████▌          | 1.1 MB 7.3 MB/s eta 0:00:01\r\u001b[K     |█████████████████████▊          | 1.1 MB 7.3 MB/s eta 0:00:01\r\u001b[K     |██████████████████████          | 1.1 MB 7.3 MB/s eta 0:00:01\r\u001b[K     |██████████████████████▏         | 1.1 MB 7.3 MB/s eta 0:00:01\r\u001b[K     |██████████████████████▍         | 1.1 MB 7.3 MB/s eta 0:00:01\r\u001b[K     |██████████████████████▋         | 1.1 MB 7.3 MB/s eta 0:00:01\r\u001b[K     |██████████████████████▉         | 1.1 MB 7.3 MB/s eta 0:00:01\r\u001b[K     |███████████████████████         | 1.1 MB 7.3 MB/s eta 0:00:01\r\u001b[K     |███████████████████████▏        | 1.1 MB 7.3 MB/s eta 0:00:01\r\u001b[K     |███████████████████████▍        | 1.1 MB 7.3 MB/s eta 0:00:01\r\u001b[K     |███████████████████████▋        | 1.2 MB 7.3 MB/s eta 0:00:01\r\u001b[K     |███████████████████████▉        | 1.2 MB 7.3 MB/s eta 0:00:01\r\u001b[K     |████████████████████████        | 1.2 MB 7.3 MB/s eta 0:00:01\r\u001b[K     |████████████████████████▎       | 1.2 MB 7.3 MB/s eta 0:00:01\r\u001b[K     |████████████████████████▌       | 1.2 MB 7.3 MB/s eta 0:00:01\r\u001b[K     |████████████████████████▊       | 1.2 MB 7.3 MB/s eta 0:00:01\r\u001b[K     |████████████████████████▉       | 1.2 MB 7.3 MB/s eta 0:00:01\r\u001b[K     |█████████████████████████       | 1.2 MB 7.3 MB/s eta 0:00:01\r\u001b[K     |█████████████████████████▎      | 1.2 MB 7.3 MB/s eta 0:00:01\r\u001b[K     |█████████████████████████▌      | 1.2 MB 7.3 MB/s eta 0:00:01\r\u001b[K     |█████████████████████████▊      | 1.3 MB 7.3 MB/s eta 0:00:01\r\u001b[K     |██████████████████████████      | 1.3 MB 7.3 MB/s eta 0:00:01\r\u001b[K     |██████████████████████████▏     | 1.3 MB 7.3 MB/s eta 0:00:01\r\u001b[K     |██████████████████████████▍     | 1.3 MB 7.3 MB/s eta 0:00:01\r\u001b[K     |██████████████████████████▌     | 1.3 MB 7.3 MB/s eta 0:00:01\r\u001b[K     |██████████████████████████▊     | 1.3 MB 7.3 MB/s eta 0:00:01\r\u001b[K     |███████████████████████████     | 1.3 MB 7.3 MB/s eta 0:00:01\r\u001b[K     |███████████████████████████▏    | 1.3 MB 7.3 MB/s eta 0:00:01\r\u001b[K     |███████████████████████████▍    | 1.3 MB 7.3 MB/s eta 0:00:01\r\u001b[K     |███████████████████████████▋    | 1.4 MB 7.3 MB/s eta 0:00:01\r\u001b[K     |███████████████████████████▉    | 1.4 MB 7.3 MB/s eta 0:00:01\r\u001b[K     |████████████████████████████    | 1.4 MB 7.3 MB/s eta 0:00:01\r\u001b[K     |████████████████████████████▎   | 1.4 MB 7.3 MB/s eta 0:00:01\r\u001b[K     |████████████████████████████▍   | 1.4 MB 7.3 MB/s eta 0:00:01\r\u001b[K     |████████████████████████████▋   | 1.4 MB 7.3 MB/s eta 0:00:01\r\u001b[K     |████████████████████████████▉   | 1.4 MB 7.3 MB/s eta 0:00:01\r\u001b[K     |█████████████████████████████   | 1.4 MB 7.3 MB/s eta 0:00:01\r\u001b[K     |█████████████████████████████▎  | 1.4 MB 7.3 MB/s eta 0:00:01\r\u001b[K     |█████████████████████████████▌  | 1.4 MB 7.3 MB/s eta 0:00:01\r\u001b[K     |█████████████████████████████▊  | 1.5 MB 7.3 MB/s eta 0:00:01\r\u001b[K     |██████████████████████████████  | 1.5 MB 7.3 MB/s eta 0:00:01\r\u001b[K     |██████████████████████████████  | 1.5 MB 7.3 MB/s eta 0:00:01\r\u001b[K     |██████████████████████████████▎ | 1.5 MB 7.3 MB/s eta 0:00:01\r\u001b[K     |██████████████████████████████▌ | 1.5 MB 7.3 MB/s eta 0:00:01\r\u001b[K     |██████████████████████████████▊ | 1.5 MB 7.3 MB/s eta 0:00:01\r\u001b[K     |███████████████████████████████ | 1.5 MB 7.3 MB/s eta 0:00:01\r\u001b[K     |███████████████████████████████▏| 1.5 MB 7.3 MB/s eta 0:00:01\r\u001b[K     |███████████████████████████████▍| 1.5 MB 7.3 MB/s eta 0:00:01\r\u001b[K     |███████████████████████████████▋| 1.5 MB 7.3 MB/s eta 0:00:01\r\u001b[K     |███████████████████████████████▉| 1.6 MB 7.3 MB/s eta 0:00:01\r\u001b[K     |████████████████████████████████| 1.6 MB 7.3 MB/s eta 0:00:01\r\u001b[K     |████████████████████████████████| 1.6 MB 7.3 MB/s \n",
            "\u001b[?25h"
          ]
        }
      ],
      "source": [
        "# install livelossplot package to visualize epoch by epoch loss and accuracy curve\n",
        "!pip -qq install livelossplot"
      ]
    },
    {
      "cell_type": "code",
      "execution_count": null,
      "metadata": {
        "id": "Fw83tjrgdqNO"
      },
      "outputs": [],
      "source": [
        "import numpy as np\n",
        "import pandas as pd\n",
        "from sklearn.metrics import mean_squared_error             \n",
        "from sklearn.preprocessing import StandardScaler, LabelEncoder, MinMaxScaler              # scaling functions from sklearn\n",
        "from sklearn.model_selection import RandomizedSearchCV, train_test_split                  # search on hyperparameters\n",
        "from functools import partial                                                             # partial functions\n",
        "import tensorflow as tf                                                                   # importing tensorflow library\n",
        "from tensorflow import keras                                                              # importing keras package\n",
        "from scipy.stats import reciprocal \n",
        "from sklearn.neural_network import MLPRegressor                                           # importing MLP regressor            \n",
        "from tensorflow.keras.optimizers import SGD                                               # stochastic Gradient Descent\n",
        "from tensorflow.keras.utils import to_categorical                                         # converting a class to categorical data type\n",
        "from keras.datasets import mnist                                                          # load mnist dataset\n",
        "import livelossplot                                                                       # visualize loss and accuracy \n",
        "from keras.models import Sequential                                                       # using keras importing Sequential Model\n",
        "from keras.layers import Activation, Dense, Input, Flatten, Dropout, BatchNormalization   # using keras importing layers                                    \n",
        "from keras.callbacks import EarlyStopping                                                 # to stop the training process"
      ]
    },
    {
      "cell_type": "markdown",
      "metadata": {
        "id": "dLVYkKdrdqNV"
      },
      "source": [
        "### Building a Regression MLP "
      ]
    },
    {
      "cell_type": "markdown",
      "metadata": {
        "id": "e5YpbtWMdqNX"
      },
      "source": [
        "Here, in this implementation, we will be using California housing problem and tackle it using a regression neural network."
      ]
    },
    {
      "cell_type": "markdown",
      "metadata": {
        "id": "VE9ZZHrjdqNY"
      },
      "source": [
        "#### Data Preparation"
      ]
    },
    {
      "cell_type": "code",
      "execution_count": null,
      "metadata": {
        "colab": {
          "base_uri": "https://localhost:8080/",
          "height": 206
        },
        "id": "j2NZQqhkdqNZ",
        "outputId": "e75ee7ef-feda-40c9-cf3a-98b691baedd8"
      },
      "outputs": [
        {
          "data": {
            "text/html": [
              "\n",
              "  <div id=\"df-6630758a-f879-4a22-8b7f-95a44e052d10\">\n",
              "    <div class=\"colab-df-container\">\n",
              "      <div>\n",
              "<style scoped>\n",
              "    .dataframe tbody tr th:only-of-type {\n",
              "        vertical-align: middle;\n",
              "    }\n",
              "\n",
              "    .dataframe tbody tr th {\n",
              "        vertical-align: top;\n",
              "    }\n",
              "\n",
              "    .dataframe thead th {\n",
              "        text-align: right;\n",
              "    }\n",
              "</style>\n",
              "<table border=\"1\" class=\"dataframe\">\n",
              "  <thead>\n",
              "    <tr style=\"text-align: right;\">\n",
              "      <th></th>\n",
              "      <th>longitude</th>\n",
              "      <th>latitude</th>\n",
              "      <th>housing_median_age</th>\n",
              "      <th>total_rooms</th>\n",
              "      <th>total_bedrooms</th>\n",
              "      <th>population</th>\n",
              "      <th>households</th>\n",
              "      <th>median_income</th>\n",
              "      <th>median_house_value</th>\n",
              "    </tr>\n",
              "  </thead>\n",
              "  <tbody>\n",
              "    <tr>\n",
              "      <th>0</th>\n",
              "      <td>-114.31</td>\n",
              "      <td>34.19</td>\n",
              "      <td>15.0</td>\n",
              "      <td>5612.0</td>\n",
              "      <td>1283.0</td>\n",
              "      <td>1015.0</td>\n",
              "      <td>472.0</td>\n",
              "      <td>1.4936</td>\n",
              "      <td>66900.0</td>\n",
              "    </tr>\n",
              "    <tr>\n",
              "      <th>1</th>\n",
              "      <td>-114.47</td>\n",
              "      <td>34.40</td>\n",
              "      <td>19.0</td>\n",
              "      <td>7650.0</td>\n",
              "      <td>1901.0</td>\n",
              "      <td>1129.0</td>\n",
              "      <td>463.0</td>\n",
              "      <td>1.8200</td>\n",
              "      <td>80100.0</td>\n",
              "    </tr>\n",
              "    <tr>\n",
              "      <th>2</th>\n",
              "      <td>-114.56</td>\n",
              "      <td>33.69</td>\n",
              "      <td>17.0</td>\n",
              "      <td>720.0</td>\n",
              "      <td>174.0</td>\n",
              "      <td>333.0</td>\n",
              "      <td>117.0</td>\n",
              "      <td>1.6509</td>\n",
              "      <td>85700.0</td>\n",
              "    </tr>\n",
              "    <tr>\n",
              "      <th>3</th>\n",
              "      <td>-114.57</td>\n",
              "      <td>33.64</td>\n",
              "      <td>14.0</td>\n",
              "      <td>1501.0</td>\n",
              "      <td>337.0</td>\n",
              "      <td>515.0</td>\n",
              "      <td>226.0</td>\n",
              "      <td>3.1917</td>\n",
              "      <td>73400.0</td>\n",
              "    </tr>\n",
              "    <tr>\n",
              "      <th>4</th>\n",
              "      <td>-114.57</td>\n",
              "      <td>33.57</td>\n",
              "      <td>20.0</td>\n",
              "      <td>1454.0</td>\n",
              "      <td>326.0</td>\n",
              "      <td>624.0</td>\n",
              "      <td>262.0</td>\n",
              "      <td>1.9250</td>\n",
              "      <td>65500.0</td>\n",
              "    </tr>\n",
              "  </tbody>\n",
              "</table>\n",
              "</div>\n",
              "      <button class=\"colab-df-convert\" onclick=\"convertToInteractive('df-6630758a-f879-4a22-8b7f-95a44e052d10')\"\n",
              "              title=\"Convert this dataframe to an interactive table.\"\n",
              "              style=\"display:none;\">\n",
              "        \n",
              "  <svg xmlns=\"http://www.w3.org/2000/svg\" height=\"24px\"viewBox=\"0 0 24 24\"\n",
              "       width=\"24px\">\n",
              "    <path d=\"M0 0h24v24H0V0z\" fill=\"none\"/>\n",
              "    <path d=\"M18.56 5.44l.94 2.06.94-2.06 2.06-.94-2.06-.94-.94-2.06-.94 2.06-2.06.94zm-11 1L8.5 8.5l.94-2.06 2.06-.94-2.06-.94L8.5 2.5l-.94 2.06-2.06.94zm10 10l.94 2.06.94-2.06 2.06-.94-2.06-.94-.94-2.06-.94 2.06-2.06.94z\"/><path d=\"M17.41 7.96l-1.37-1.37c-.4-.4-.92-.59-1.43-.59-.52 0-1.04.2-1.43.59L10.3 9.45l-7.72 7.72c-.78.78-.78 2.05 0 2.83L4 21.41c.39.39.9.59 1.41.59.51 0 1.02-.2 1.41-.59l7.78-7.78 2.81-2.81c.8-.78.8-2.07 0-2.86zM5.41 20L4 18.59l7.72-7.72 1.47 1.35L5.41 20z\"/>\n",
              "  </svg>\n",
              "      </button>\n",
              "      \n",
              "  <style>\n",
              "    .colab-df-container {\n",
              "      display:flex;\n",
              "      flex-wrap:wrap;\n",
              "      gap: 12px;\n",
              "    }\n",
              "\n",
              "    .colab-df-convert {\n",
              "      background-color: #E8F0FE;\n",
              "      border: none;\n",
              "      border-radius: 50%;\n",
              "      cursor: pointer;\n",
              "      display: none;\n",
              "      fill: #1967D2;\n",
              "      height: 32px;\n",
              "      padding: 0 0 0 0;\n",
              "      width: 32px;\n",
              "    }\n",
              "\n",
              "    .colab-df-convert:hover {\n",
              "      background-color: #E2EBFA;\n",
              "      box-shadow: 0px 1px 2px rgba(60, 64, 67, 0.3), 0px 1px 3px 1px rgba(60, 64, 67, 0.15);\n",
              "      fill: #174EA6;\n",
              "    }\n",
              "\n",
              "    [theme=dark] .colab-df-convert {\n",
              "      background-color: #3B4455;\n",
              "      fill: #D2E3FC;\n",
              "    }\n",
              "\n",
              "    [theme=dark] .colab-df-convert:hover {\n",
              "      background-color: #434B5C;\n",
              "      box-shadow: 0px 1px 3px 1px rgba(0, 0, 0, 0.15);\n",
              "      filter: drop-shadow(0px 1px 2px rgba(0, 0, 0, 0.3));\n",
              "      fill: #FFFFFF;\n",
              "    }\n",
              "  </style>\n",
              "\n",
              "      <script>\n",
              "        const buttonEl =\n",
              "          document.querySelector('#df-6630758a-f879-4a22-8b7f-95a44e052d10 button.colab-df-convert');\n",
              "        buttonEl.style.display =\n",
              "          google.colab.kernel.accessAllowed ? 'block' : 'none';\n",
              "\n",
              "        async function convertToInteractive(key) {\n",
              "          const element = document.querySelector('#df-6630758a-f879-4a22-8b7f-95a44e052d10');\n",
              "          const dataTable =\n",
              "            await google.colab.kernel.invokeFunction('convertToInteractive',\n",
              "                                                     [key], {});\n",
              "          if (!dataTable) return;\n",
              "\n",
              "          const docLinkHtml = 'Like what you see? Visit the ' +\n",
              "            '<a target=\"_blank\" href=https://colab.research.google.com/notebooks/data_table.ipynb>data table notebook</a>'\n",
              "            + ' to learn more about interactive tables.';\n",
              "          element.innerHTML = '';\n",
              "          dataTable['output_type'] = 'display_data';\n",
              "          await google.colab.output.renderOutput(dataTable, element);\n",
              "          const docLink = document.createElement('div');\n",
              "          docLink.innerHTML = docLinkHtml;\n",
              "          element.appendChild(docLink);\n",
              "        }\n",
              "      </script>\n",
              "    </div>\n",
              "  </div>\n",
              "  "
            ],
            "text/plain": [
              "   longitude  latitude  housing_median_age  total_rooms  total_bedrooms  \\\n",
              "0    -114.31     34.19                15.0       5612.0          1283.0   \n",
              "1    -114.47     34.40                19.0       7650.0          1901.0   \n",
              "2    -114.56     33.69                17.0        720.0           174.0   \n",
              "3    -114.57     33.64                14.0       1501.0           337.0   \n",
              "4    -114.57     33.57                20.0       1454.0           326.0   \n",
              "\n",
              "   population  households  median_income  median_house_value  \n",
              "0      1015.0       472.0         1.4936             66900.0  \n",
              "1      1129.0       463.0         1.8200             80100.0  \n",
              "2       333.0       117.0         1.6509             85700.0  \n",
              "3       515.0       226.0         3.1917             73400.0  \n",
              "4       624.0       262.0         1.9250             65500.0  "
            ]
          },
          "execution_count": 6,
          "metadata": {},
          "output_type": "execute_result"
        }
      ],
      "source": [
        "# train dataset\n",
        "df_train = pd.read_csv('/content/sample_data/california_housing_train.csv')\n",
        "df_train.head()"
      ]
    },
    {
      "cell_type": "code",
      "execution_count": null,
      "metadata": {
        "colab": {
          "base_uri": "https://localhost:8080/",
          "height": 206
        },
        "id": "-aToiAvNdqNb",
        "outputId": "3ae5f9da-d6a9-4364-80df-f8a8a1377e9f"
      },
      "outputs": [
        {
          "data": {
            "text/html": [
              "\n",
              "  <div id=\"df-26f96fc3-2410-4a3e-a284-34c02fd0db5b\">\n",
              "    <div class=\"colab-df-container\">\n",
              "      <div>\n",
              "<style scoped>\n",
              "    .dataframe tbody tr th:only-of-type {\n",
              "        vertical-align: middle;\n",
              "    }\n",
              "\n",
              "    .dataframe tbody tr th {\n",
              "        vertical-align: top;\n",
              "    }\n",
              "\n",
              "    .dataframe thead th {\n",
              "        text-align: right;\n",
              "    }\n",
              "</style>\n",
              "<table border=\"1\" class=\"dataframe\">\n",
              "  <thead>\n",
              "    <tr style=\"text-align: right;\">\n",
              "      <th></th>\n",
              "      <th>longitude</th>\n",
              "      <th>latitude</th>\n",
              "      <th>housing_median_age</th>\n",
              "      <th>total_rooms</th>\n",
              "      <th>total_bedrooms</th>\n",
              "      <th>population</th>\n",
              "      <th>households</th>\n",
              "      <th>median_income</th>\n",
              "      <th>median_house_value</th>\n",
              "    </tr>\n",
              "  </thead>\n",
              "  <tbody>\n",
              "    <tr>\n",
              "      <th>0</th>\n",
              "      <td>-122.05</td>\n",
              "      <td>37.37</td>\n",
              "      <td>27.0</td>\n",
              "      <td>3885.0</td>\n",
              "      <td>661.0</td>\n",
              "      <td>1537.0</td>\n",
              "      <td>606.0</td>\n",
              "      <td>6.6085</td>\n",
              "      <td>344700.0</td>\n",
              "    </tr>\n",
              "    <tr>\n",
              "      <th>1</th>\n",
              "      <td>-118.30</td>\n",
              "      <td>34.26</td>\n",
              "      <td>43.0</td>\n",
              "      <td>1510.0</td>\n",
              "      <td>310.0</td>\n",
              "      <td>809.0</td>\n",
              "      <td>277.0</td>\n",
              "      <td>3.5990</td>\n",
              "      <td>176500.0</td>\n",
              "    </tr>\n",
              "    <tr>\n",
              "      <th>2</th>\n",
              "      <td>-117.81</td>\n",
              "      <td>33.78</td>\n",
              "      <td>27.0</td>\n",
              "      <td>3589.0</td>\n",
              "      <td>507.0</td>\n",
              "      <td>1484.0</td>\n",
              "      <td>495.0</td>\n",
              "      <td>5.7934</td>\n",
              "      <td>270500.0</td>\n",
              "    </tr>\n",
              "    <tr>\n",
              "      <th>3</th>\n",
              "      <td>-118.36</td>\n",
              "      <td>33.82</td>\n",
              "      <td>28.0</td>\n",
              "      <td>67.0</td>\n",
              "      <td>15.0</td>\n",
              "      <td>49.0</td>\n",
              "      <td>11.0</td>\n",
              "      <td>6.1359</td>\n",
              "      <td>330000.0</td>\n",
              "    </tr>\n",
              "    <tr>\n",
              "      <th>4</th>\n",
              "      <td>-119.67</td>\n",
              "      <td>36.33</td>\n",
              "      <td>19.0</td>\n",
              "      <td>1241.0</td>\n",
              "      <td>244.0</td>\n",
              "      <td>850.0</td>\n",
              "      <td>237.0</td>\n",
              "      <td>2.9375</td>\n",
              "      <td>81700.0</td>\n",
              "    </tr>\n",
              "  </tbody>\n",
              "</table>\n",
              "</div>\n",
              "      <button class=\"colab-df-convert\" onclick=\"convertToInteractive('df-26f96fc3-2410-4a3e-a284-34c02fd0db5b')\"\n",
              "              title=\"Convert this dataframe to an interactive table.\"\n",
              "              style=\"display:none;\">\n",
              "        \n",
              "  <svg xmlns=\"http://www.w3.org/2000/svg\" height=\"24px\"viewBox=\"0 0 24 24\"\n",
              "       width=\"24px\">\n",
              "    <path d=\"M0 0h24v24H0V0z\" fill=\"none\"/>\n",
              "    <path d=\"M18.56 5.44l.94 2.06.94-2.06 2.06-.94-2.06-.94-.94-2.06-.94 2.06-2.06.94zm-11 1L8.5 8.5l.94-2.06 2.06-.94-2.06-.94L8.5 2.5l-.94 2.06-2.06.94zm10 10l.94 2.06.94-2.06 2.06-.94-2.06-.94-.94-2.06-.94 2.06-2.06.94z\"/><path d=\"M17.41 7.96l-1.37-1.37c-.4-.4-.92-.59-1.43-.59-.52 0-1.04.2-1.43.59L10.3 9.45l-7.72 7.72c-.78.78-.78 2.05 0 2.83L4 21.41c.39.39.9.59 1.41.59.51 0 1.02-.2 1.41-.59l7.78-7.78 2.81-2.81c.8-.78.8-2.07 0-2.86zM5.41 20L4 18.59l7.72-7.72 1.47 1.35L5.41 20z\"/>\n",
              "  </svg>\n",
              "      </button>\n",
              "      \n",
              "  <style>\n",
              "    .colab-df-container {\n",
              "      display:flex;\n",
              "      flex-wrap:wrap;\n",
              "      gap: 12px;\n",
              "    }\n",
              "\n",
              "    .colab-df-convert {\n",
              "      background-color: #E8F0FE;\n",
              "      border: none;\n",
              "      border-radius: 50%;\n",
              "      cursor: pointer;\n",
              "      display: none;\n",
              "      fill: #1967D2;\n",
              "      height: 32px;\n",
              "      padding: 0 0 0 0;\n",
              "      width: 32px;\n",
              "    }\n",
              "\n",
              "    .colab-df-convert:hover {\n",
              "      background-color: #E2EBFA;\n",
              "      box-shadow: 0px 1px 2px rgba(60, 64, 67, 0.3), 0px 1px 3px 1px rgba(60, 64, 67, 0.15);\n",
              "      fill: #174EA6;\n",
              "    }\n",
              "\n",
              "    [theme=dark] .colab-df-convert {\n",
              "      background-color: #3B4455;\n",
              "      fill: #D2E3FC;\n",
              "    }\n",
              "\n",
              "    [theme=dark] .colab-df-convert:hover {\n",
              "      background-color: #434B5C;\n",
              "      box-shadow: 0px 1px 3px 1px rgba(0, 0, 0, 0.15);\n",
              "      filter: drop-shadow(0px 1px 2px rgba(0, 0, 0, 0.3));\n",
              "      fill: #FFFFFF;\n",
              "    }\n",
              "  </style>\n",
              "\n",
              "      <script>\n",
              "        const buttonEl =\n",
              "          document.querySelector('#df-26f96fc3-2410-4a3e-a284-34c02fd0db5b button.colab-df-convert');\n",
              "        buttonEl.style.display =\n",
              "          google.colab.kernel.accessAllowed ? 'block' : 'none';\n",
              "\n",
              "        async function convertToInteractive(key) {\n",
              "          const element = document.querySelector('#df-26f96fc3-2410-4a3e-a284-34c02fd0db5b');\n",
              "          const dataTable =\n",
              "            await google.colab.kernel.invokeFunction('convertToInteractive',\n",
              "                                                     [key], {});\n",
              "          if (!dataTable) return;\n",
              "\n",
              "          const docLinkHtml = 'Like what you see? Visit the ' +\n",
              "            '<a target=\"_blank\" href=https://colab.research.google.com/notebooks/data_table.ipynb>data table notebook</a>'\n",
              "            + ' to learn more about interactive tables.';\n",
              "          element.innerHTML = '';\n",
              "          dataTable['output_type'] = 'display_data';\n",
              "          await google.colab.output.renderOutput(dataTable, element);\n",
              "          const docLink = document.createElement('div');\n",
              "          docLink.innerHTML = docLinkHtml;\n",
              "          element.appendChild(docLink);\n",
              "        }\n",
              "      </script>\n",
              "    </div>\n",
              "  </div>\n",
              "  "
            ],
            "text/plain": [
              "   longitude  latitude  housing_median_age  total_rooms  total_bedrooms  \\\n",
              "0    -122.05     37.37                27.0       3885.0           661.0   \n",
              "1    -118.30     34.26                43.0       1510.0           310.0   \n",
              "2    -117.81     33.78                27.0       3589.0           507.0   \n",
              "3    -118.36     33.82                28.0         67.0            15.0   \n",
              "4    -119.67     36.33                19.0       1241.0           244.0   \n",
              "\n",
              "   population  households  median_income  median_house_value  \n",
              "0      1537.0       606.0         6.6085            344700.0  \n",
              "1       809.0       277.0         3.5990            176500.0  \n",
              "2      1484.0       495.0         5.7934            270500.0  \n",
              "3        49.0        11.0         6.1359            330000.0  \n",
              "4       850.0       237.0         2.9375             81700.0  "
            ]
          },
          "execution_count": 7,
          "metadata": {},
          "output_type": "execute_result"
        }
      ],
      "source": [
        "# test dataset\n",
        "df_test = pd.read_csv('/content/sample_data/california_housing_test.csv')\n",
        "df_test.head()"
      ]
    },
    {
      "cell_type": "code",
      "execution_count": null,
      "metadata": {
        "colab": {
          "base_uri": "https://localhost:8080/"
        },
        "id": "JyyGRVgVdqNc",
        "outputId": "a44d2e52-67bd-40f1-a816-43e7b9dde2eb"
      },
      "outputs": [
        {
          "name": "stdout",
          "output_type": "stream",
          "text": [
            "<class 'pandas.core.frame.DataFrame'>\n",
            "RangeIndex: 17000 entries, 0 to 16999\n",
            "Data columns (total 9 columns):\n",
            " #   Column              Non-Null Count  Dtype  \n",
            "---  ------              --------------  -----  \n",
            " 0   longitude           17000 non-null  float64\n",
            " 1   latitude            17000 non-null  float64\n",
            " 2   housing_median_age  17000 non-null  float64\n",
            " 3   total_rooms         17000 non-null  float64\n",
            " 4   total_bedrooms      17000 non-null  float64\n",
            " 5   population          17000 non-null  float64\n",
            " 6   households          17000 non-null  float64\n",
            " 7   median_income       17000 non-null  float64\n",
            " 8   median_house_value  17000 non-null  float64\n",
            "dtypes: float64(9)\n",
            "memory usage: 1.2 MB\n"
          ]
        }
      ],
      "source": [
        "# printing train dataset information\n",
        "df_train.info()"
      ]
    },
    {
      "cell_type": "code",
      "execution_count": null,
      "metadata": {
        "colab": {
          "base_uri": "https://localhost:8080/"
        },
        "id": "qV-lUMrIdqNd",
        "outputId": "86cadb4d-b551-495c-f9f6-873f8bd9a85f"
      },
      "outputs": [
        {
          "name": "stdout",
          "output_type": "stream",
          "text": [
            "<class 'pandas.core.frame.DataFrame'>\n",
            "RangeIndex: 3000 entries, 0 to 2999\n",
            "Data columns (total 9 columns):\n",
            " #   Column              Non-Null Count  Dtype  \n",
            "---  ------              --------------  -----  \n",
            " 0   longitude           3000 non-null   float64\n",
            " 1   latitude            3000 non-null   float64\n",
            " 2   housing_median_age  3000 non-null   float64\n",
            " 3   total_rooms         3000 non-null   float64\n",
            " 4   total_bedrooms      3000 non-null   float64\n",
            " 5   population          3000 non-null   float64\n",
            " 6   households          3000 non-null   float64\n",
            " 7   median_income       3000 non-null   float64\n",
            " 8   median_house_value  3000 non-null   float64\n",
            "dtypes: float64(9)\n",
            "memory usage: 211.1 KB\n"
          ]
        }
      ],
      "source": [
        "# printing test dataset information\n",
        "df_test.info()"
      ]
    },
    {
      "cell_type": "markdown",
      "metadata": {
        "id": "e_Vwj6P4dqNe"
      },
      "source": [
        "#### Train and Test Data"
      ]
    },
    {
      "cell_type": "code",
      "execution_count": null,
      "metadata": {
        "id": "wISS_1e2dqNf"
      },
      "outputs": [],
      "source": [
        "X_train = df_train.drop('median_house_value',axis=1)\n",
        "y_train = df_train['median_house_value']\n",
        "X_test = df_test.drop('median_house_value',axis=1)\n",
        "y_test = df_test['median_house_value']"
      ]
    },
    {
      "cell_type": "markdown",
      "metadata": {
        "id": "h9Zhd27edqNg"
      },
      "source": [
        "#### Scaling Features"
      ]
    },
    {
      "cell_type": "code",
      "execution_count": null,
      "metadata": {
        "id": "MLnjSOd6dqNh"
      },
      "outputs": [],
      "source": [
        "scaler = MinMaxScaler()\n",
        "X_train= scaler.fit_transform(X_train)\n",
        "X_test = scaler.transform(X_test)"
      ]
    },
    {
      "cell_type": "markdown",
      "metadata": {
        "id": "ZDSuABdjdqNi"
      },
      "source": [
        "There are two ways to implement MLP regressor one is using keras and the other way is using Scikit-Learn. In this section, we will discuss both two ways."
      ]
    },
    {
      "cell_type": "markdown",
      "metadata": {
        "id": "8fnY7eWpdqNj"
      },
      "source": [
        "#### 1. Using Keras API"
      ]
    },
    {
      "cell_type": "markdown",
      "metadata": {
        "id": "rzTaNnmudqNk"
      },
      "source": [
        "Building, training, evaluating, and using a regression MLP using the Sequential API to make  predictions  is  quite  similar  to  what  we  did  for classification.  The  main  differences  are  the  fact  that  the  output  layer  has  a  single  neuron  (since  we  only  want  to predict  a  single  value)  and  uses  no  activation  function,  and  the  loss  function  is  the mean squared error. Since the dataset is quite noisy, we just use a single hidden layer with fewer neurons than before, to avoid overfitting:"
      ]
    },
    {
      "cell_type": "code",
      "execution_count": null,
      "metadata": {
        "id": "WdUBydS0dqNl"
      },
      "outputs": [],
      "source": [
        "# create a model with two layers\n",
        "model = Sequential([\n",
        "                    Dense(30, activation=\"relu\", input_shape=X_train.shape[1:]),\n",
        "                    Dense(1)\n",
        "                    ])\n",
        "model.compile(optimizer='adam', loss='mse')"
      ]
    },
    {
      "cell_type": "markdown",
      "metadata": {
        "id": "glssNoESfQC_"
      },
      "source": [
        "Keras supports the early stopping of training via a callback called EarlyStopping.\n",
        "\n",
        "This callback allows you to specify the performance measure to monitor, the trigger, and once triggered, it will stop the training process.\n",
        "\n",
        "The EarlyStopping callback is configured when instantiated via arguments."
      ]
    },
    {
      "cell_type": "code",
      "execution_count": null,
      "metadata": {
        "colab": {
          "base_uri": "https://localhost:8080/"
        },
        "id": "X7MdewIYdqNm",
        "outputId": "0778dd98-e6f2-4d49-8f7e-8d5b7bf9c767"
      },
      "outputs": [
        {
          "name": "stdout",
          "output_type": "stream",
          "text": [
            "Epoch 1/400\n",
            "133/133 [==============================] - 2s 4ms/step - loss: 56424697856.0000 - val_loss: 55163424768.0000\n",
            "Epoch 2/400\n",
            "133/133 [==============================] - 0s 3ms/step - loss: 56422809600.0000 - val_loss: 55160688640.0000\n",
            "Epoch 3/400\n",
            "133/133 [==============================] - 1s 4ms/step - loss: 56419192832.0000 - val_loss: 55156154368.0000\n",
            "Epoch 4/400\n",
            "133/133 [==============================] - 0s 3ms/step - loss: 56413687808.0000 - val_loss: 55149842432.0000\n",
            "Epoch 5/400\n",
            "133/133 [==============================] - 0s 3ms/step - loss: 56406470656.0000 - val_loss: 55141892096.0000\n",
            "Epoch 6/400\n",
            "133/133 [==============================] - 0s 2ms/step - loss: 56397660160.0000 - val_loss: 55132409856.0000\n",
            "Epoch 7/400\n",
            "133/133 [==============================] - 0s 2ms/step - loss: 56387358720.0000 - val_loss: 55121461248.0000\n",
            "Epoch 8/400\n",
            "133/133 [==============================] - 0s 2ms/step - loss: 56375595008.0000 - val_loss: 55109115904.0000\n",
            "Epoch 9/400\n",
            "133/133 [==============================] - 0s 3ms/step - loss: 56362459136.0000 - val_loss: 55095443456.0000\n",
            "Epoch 10/400\n",
            "133/133 [==============================] - 0s 2ms/step - loss: 56347951104.0000 - val_loss: 55080443904.0000\n",
            "Epoch 11/400\n",
            "133/133 [==============================] - 1s 5ms/step - loss: 56332222464.0000 - val_loss: 55064215552.0000\n",
            "Epoch 12/400\n",
            "133/133 [==============================] - 1s 9ms/step - loss: 56315211776.0000 - val_loss: 55046828032.0000\n",
            "Epoch 13/400\n",
            "133/133 [==============================] - 1s 8ms/step - loss: 56297029632.0000 - val_loss: 55028240384.0000\n",
            "Epoch 14/400\n",
            "133/133 [==============================] - 1s 5ms/step - loss: 56277700608.0000 - val_loss: 55008538624.0000\n",
            "Epoch 15/400\n",
            "133/133 [==============================] - 1s 5ms/step - loss: 56257269760.0000 - val_loss: 54987755520.0000\n",
            "Epoch 16/400\n",
            "133/133 [==============================] - 1s 6ms/step - loss: 56235761664.0000 - val_loss: 54965940224.0000\n",
            "Epoch 17/400\n",
            "133/133 [==============================] - 1s 6ms/step - loss: 56213204992.0000 - val_loss: 54943133696.0000\n",
            "Epoch 18/400\n",
            "133/133 [==============================] - 1s 7ms/step - loss: 56189661184.0000 - val_loss: 54919241728.0000\n",
            "Epoch 19/400\n",
            "133/133 [==============================] - 1s 6ms/step - loss: 56165068800.0000 - val_loss: 54894514176.0000\n",
            "Epoch 20/400\n",
            "133/133 [==============================] - 1s 5ms/step - loss: 56139575296.0000 - val_loss: 54868754432.0000\n",
            "Epoch 21/400\n",
            "133/133 [==============================] - 1s 6ms/step - loss: 56113090560.0000 - val_loss: 54842101760.0000\n",
            "Epoch 22/400\n",
            "133/133 [==============================] - 1s 6ms/step - loss: 56085716992.0000 - val_loss: 54814502912.0000\n",
            "Epoch 23/400\n",
            "133/133 [==============================] - 1s 4ms/step - loss: 56057413632.0000 - val_loss: 54786043904.0000\n",
            "Epoch 24/400\n",
            "133/133 [==============================] - 1s 6ms/step - loss: 56028241920.0000 - val_loss: 54756728832.0000\n",
            "Epoch 25/400\n",
            "133/133 [==============================] - 1s 6ms/step - loss: 55998218240.0000 - val_loss: 54726541312.0000\n",
            "Epoch 26/400\n",
            "133/133 [==============================] - 1s 6ms/step - loss: 55967334400.0000 - val_loss: 54695550976.0000\n",
            "Epoch 27/400\n",
            "133/133 [==============================] - 1s 5ms/step - loss: 55935553536.0000 - val_loss: 54663700480.0000\n",
            "Epoch 28/400\n",
            "133/133 [==============================] - 1s 4ms/step - loss: 55902982144.0000 - val_loss: 54631043072.0000\n",
            "Epoch 29/400\n",
            "133/133 [==============================] - 1s 5ms/step - loss: 55869571072.0000 - val_loss: 54597562368.0000\n",
            "Epoch 30/400\n",
            "133/133 [==============================] - 1s 4ms/step - loss: 55835344896.0000 - val_loss: 54563282944.0000\n",
            "Epoch 31/400\n",
            "133/133 [==============================] - 1s 4ms/step - loss: 55800328192.0000 - val_loss: 54528237568.0000\n",
            "Epoch 32/400\n",
            "133/133 [==============================] - 1s 4ms/step - loss: 55764508672.0000 - val_loss: 54492368896.0000\n",
            "Epoch 33/400\n",
            "133/133 [==============================] - 1s 5ms/step - loss: 55727902720.0000 - val_loss: 54455693312.0000\n",
            "Epoch 34/400\n",
            "133/133 [==============================] - 1s 5ms/step - loss: 55690518528.0000 - val_loss: 54418350080.0000\n",
            "Epoch 35/400\n",
            "133/133 [==============================] - 1s 4ms/step - loss: 55652372480.0000 - val_loss: 54380265472.0000\n",
            "Epoch 36/400\n",
            "133/133 [==============================] - 1s 4ms/step - loss: 55613456384.0000 - val_loss: 54341292032.0000\n",
            "Epoch 37/400\n",
            "133/133 [==============================] - 1s 6ms/step - loss: 55573770240.0000 - val_loss: 54301614080.0000\n",
            "Epoch 38/400\n",
            "133/133 [==============================] - 1s 6ms/step - loss: 55533305856.0000 - val_loss: 54261211136.0000\n",
            "Epoch 39/400\n",
            "133/133 [==============================] - 1s 5ms/step - loss: 55492128768.0000 - val_loss: 54220103680.0000\n",
            "Epoch 40/400\n",
            "133/133 [==============================] - 1s 5ms/step - loss: 55450214400.0000 - val_loss: 54178156544.0000\n",
            "Epoch 41/400\n",
            "133/133 [==============================] - 1s 6ms/step - loss: 55407558656.0000 - val_loss: 54135603200.0000\n",
            "Epoch 42/400\n",
            "133/133 [==============================] - 1s 6ms/step - loss: 55364194304.0000 - val_loss: 54092226560.0000\n",
            "Epoch 43/400\n",
            "133/133 [==============================] - 0s 2ms/step - loss: 55320047616.0000 - val_loss: 54048288768.0000\n",
            "Epoch 44/400\n",
            "133/133 [==============================] - 0s 2ms/step - loss: 55275180032.0000 - val_loss: 54003449856.0000\n",
            "Epoch 45/400\n",
            "133/133 [==============================] - 0s 2ms/step - loss: 55229607936.0000 - val_loss: 53958033408.0000\n",
            "Epoch 46/400\n",
            "133/133 [==============================] - 0s 3ms/step - loss: 55183294464.0000 - val_loss: 53911805952.0000\n",
            "Epoch 47/400\n",
            "133/133 [==============================] - 0s 3ms/step - loss: 55136272384.0000 - val_loss: 53864878080.0000\n",
            "Epoch 48/400\n",
            "133/133 [==============================] - 0s 2ms/step - loss: 55088541696.0000 - val_loss: 53817225216.0000\n",
            "Epoch 49/400\n",
            "133/133 [==============================] - 0s 2ms/step - loss: 55040098304.0000 - val_loss: 53768941568.0000\n",
            "Epoch 50/400\n",
            "133/133 [==============================] - 0s 3ms/step - loss: 54990938112.0000 - val_loss: 53720018944.0000\n",
            "Epoch 51/400\n",
            "133/133 [==============================] - 0s 2ms/step - loss: 54941126656.0000 - val_loss: 53670264832.0000\n",
            "Epoch 52/400\n",
            "133/133 [==============================] - 0s 2ms/step - loss: 54890553344.0000 - val_loss: 53619924992.0000\n",
            "Epoch 53/400\n",
            "133/133 [==============================] - 0s 2ms/step - loss: 54839304192.0000 - val_loss: 53568729088.0000\n",
            "Epoch 54/400\n",
            "133/133 [==============================] - 0s 3ms/step - loss: 54787358720.0000 - val_loss: 53516996608.0000\n",
            "Epoch 55/400\n",
            "133/133 [==============================] - 0s 3ms/step - loss: 54734721024.0000 - val_loss: 53464657920.0000\n",
            "Epoch 56/400\n",
            "133/133 [==============================] - 0s 3ms/step - loss: 54681407488.0000 - val_loss: 53411487744.0000\n",
            "Epoch 57/400\n",
            "133/133 [==============================] - 0s 3ms/step - loss: 54627364864.0000 - val_loss: 53357686784.0000\n",
            "Epoch 58/400\n",
            "133/133 [==============================] - 0s 3ms/step - loss: 54572670976.0000 - val_loss: 53303123968.0000\n",
            "Epoch 59/400\n",
            "133/133 [==============================] - 0s 3ms/step - loss: 54517284864.0000 - val_loss: 53248008192.0000\n",
            "Epoch 60/400\n",
            "133/133 [==============================] - 0s 2ms/step - loss: 54461214720.0000 - val_loss: 53192175616.0000\n",
            "Epoch 61/400\n",
            "133/133 [==============================] - 0s 3ms/step - loss: 54404460544.0000 - val_loss: 53135634432.0000\n",
            "Epoch 62/400\n",
            "133/133 [==============================] - 0s 2ms/step - loss: 54347075584.0000 - val_loss: 53078446080.0000\n",
            "Epoch 63/400\n",
            "133/133 [==============================] - 0s 3ms/step - loss: 54288982016.0000 - val_loss: 53020581888.0000\n",
            "Epoch 64/400\n",
            "133/133 [==============================] - 0s 3ms/step - loss: 54230253568.0000 - val_loss: 52962168832.0000\n",
            "Epoch 65/400\n",
            "133/133 [==============================] - 0s 3ms/step - loss: 54170820608.0000 - val_loss: 52903067648.0000\n",
            "Epoch 66/400\n",
            "133/133 [==============================] - 0s 3ms/step - loss: 54110736384.0000 - val_loss: 52843229184.0000\n",
            "Epoch 67/400\n",
            "133/133 [==============================] - 0s 3ms/step - loss: 54049980416.0000 - val_loss: 52782825472.0000\n",
            "Epoch 68/400\n",
            "133/133 [==============================] - 0s 3ms/step - loss: 53988564992.0000 - val_loss: 52721602560.0000\n",
            "Epoch 69/400\n",
            "133/133 [==============================] - 0s 3ms/step - loss: 53926494208.0000 - val_loss: 52659822592.0000\n",
            "Epoch 70/400\n",
            "133/133 [==============================] - 0s 3ms/step - loss: 53863776256.0000 - val_loss: 52597403648.0000\n",
            "Epoch 71/400\n",
            "133/133 [==============================] - 0s 3ms/step - loss: 53800382464.0000 - val_loss: 52534378496.0000\n",
            "Epoch 72/400\n",
            "133/133 [==============================] - 0s 3ms/step - loss: 53736370176.0000 - val_loss: 52470554624.0000\n",
            "Epoch 73/400\n",
            "133/133 [==============================] - 0s 3ms/step - loss: 53671682048.0000 - val_loss: 52406353920.0000\n",
            "Epoch 74/400\n",
            "133/133 [==============================] - 0s 2ms/step - loss: 53606363136.0000 - val_loss: 52341329920.0000\n",
            "Epoch 75/400\n",
            "133/133 [==============================] - 0s 2ms/step - loss: 53540413440.0000 - val_loss: 52275740672.0000\n",
            "Epoch 76/400\n",
            "133/133 [==============================] - 0s 2ms/step - loss: 53473824768.0000 - val_loss: 52209487872.0000\n",
            "Epoch 77/400\n",
            "133/133 [==============================] - 0s 2ms/step - loss: 53406572544.0000 - val_loss: 52142542848.0000\n",
            "Epoch 78/400\n",
            "133/133 [==============================] - 0s 3ms/step - loss: 53338664960.0000 - val_loss: 52075089920.0000\n",
            "Epoch 79/400\n",
            "133/133 [==============================] - 0s 2ms/step - loss: 53270163456.0000 - val_loss: 52006981632.0000\n",
            "Epoch 80/400\n",
            "133/133 [==============================] - 0s 3ms/step - loss: 53200990208.0000 - val_loss: 51938230272.0000\n",
            "Epoch 81/400\n",
            "133/133 [==============================] - 1s 4ms/step - loss: 53131157504.0000 - val_loss: 51868848128.0000\n",
            "Epoch 82/400\n",
            "133/133 [==============================] - 0s 3ms/step - loss: 53060739072.0000 - val_loss: 51798798336.0000\n",
            "Epoch 83/400\n",
            "133/133 [==============================] - 0s 3ms/step - loss: 52989693952.0000 - val_loss: 51728125952.0000\n",
            "Epoch 84/400\n",
            "133/133 [==============================] - 0s 3ms/step - loss: 52918022144.0000 - val_loss: 51656912896.0000\n",
            "Epoch 85/400\n",
            "133/133 [==============================] - 0s 3ms/step - loss: 52845731840.0000 - val_loss: 51585060864.0000\n",
            "Epoch 86/400\n",
            "133/133 [==============================] - 0s 2ms/step - loss: 52772810752.0000 - val_loss: 51512594432.0000\n",
            "Epoch 87/400\n",
            "133/133 [==============================] - 0s 2ms/step - loss: 52699279360.0000 - val_loss: 51439566848.0000\n",
            "Epoch 88/400\n",
            "133/133 [==============================] - 0s 2ms/step - loss: 52625162240.0000 - val_loss: 51365728256.0000\n",
            "Epoch 89/400\n",
            "133/133 [==============================] - 0s 3ms/step - loss: 52550410240.0000 - val_loss: 51291545600.0000\n",
            "Epoch 90/400\n",
            "133/133 [==============================] - 0s 2ms/step - loss: 52475060224.0000 - val_loss: 51216662528.0000\n",
            "Epoch 91/400\n",
            "133/133 [==============================] - 0s 2ms/step - loss: 52399116288.0000 - val_loss: 51141099520.0000\n",
            "Epoch 92/400\n",
            "133/133 [==============================] - 0s 2ms/step - loss: 52322570240.0000 - val_loss: 51065065472.0000\n",
            "Epoch 93/400\n",
            "133/133 [==============================] - 0s 2ms/step - loss: 52245413888.0000 - val_loss: 50988466176.0000\n",
            "Epoch 94/400\n",
            "133/133 [==============================] - 0s 2ms/step - loss: 52167680000.0000 - val_loss: 50911186944.0000\n",
            "Epoch 95/400\n",
            "133/133 [==============================] - 0s 2ms/step - loss: 52089327616.0000 - val_loss: 50833248256.0000\n",
            "Epoch 96/400\n",
            "133/133 [==============================] - 0s 2ms/step - loss: 52010364928.0000 - val_loss: 50755026944.0000\n",
            "Epoch 97/400\n",
            "133/133 [==============================] - 0s 2ms/step - loss: 51930873856.0000 - val_loss: 50675884032.0000\n",
            "Epoch 98/400\n",
            "133/133 [==============================] - 0s 2ms/step - loss: 51850719232.0000 - val_loss: 50596302848.0000\n",
            "Epoch 99/400\n",
            "133/133 [==============================] - 0s 2ms/step - loss: 51770007552.0000 - val_loss: 50516070400.0000\n",
            "Epoch 100/400\n",
            "133/133 [==============================] - 0s 2ms/step - loss: 51688730624.0000 - val_loss: 50435420160.0000\n",
            "Epoch 101/400\n",
            "133/133 [==============================] - 0s 2ms/step - loss: 51606863872.0000 - val_loss: 50354085888.0000\n",
            "Epoch 102/400\n",
            "133/133 [==============================] - 0s 2ms/step - loss: 51524411392.0000 - val_loss: 50272317440.0000\n",
            "Epoch 103/400\n",
            "133/133 [==============================] - 0s 2ms/step - loss: 51441373184.0000 - val_loss: 50189758464.0000\n",
            "Epoch 104/400\n",
            "133/133 [==============================] - 0s 2ms/step - loss: 51357794304.0000 - val_loss: 50106613760.0000\n",
            "Epoch 105/400\n",
            "133/133 [==============================] - 0s 2ms/step - loss: 51273646080.0000 - val_loss: 50023116800.0000\n",
            "Epoch 106/400\n",
            "133/133 [==============================] - 0s 2ms/step - loss: 51188920320.0000 - val_loss: 49939111936.0000\n",
            "Epoch 107/400\n",
            "133/133 [==============================] - 0s 2ms/step - loss: 51103633408.0000 - val_loss: 49854353408.0000\n",
            "Epoch 108/400\n",
            "133/133 [==============================] - 0s 2ms/step - loss: 51017793536.0000 - val_loss: 49769111552.0000\n",
            "Epoch 109/400\n",
            "133/133 [==============================] - 0s 2ms/step - loss: 50931363840.0000 - val_loss: 49683292160.0000\n",
            "Epoch 110/400\n",
            "133/133 [==============================] - 0s 2ms/step - loss: 50844405760.0000 - val_loss: 49596952576.0000\n",
            "Epoch 111/400\n",
            "133/133 [==============================] - 0s 2ms/step - loss: 50756890624.0000 - val_loss: 49509982208.0000\n",
            "Epoch 112/400\n",
            "133/133 [==============================] - 0s 2ms/step - loss: 50668785664.0000 - val_loss: 49422643200.0000\n",
            "Epoch 113/400\n",
            "133/133 [==============================] - 0s 2ms/step - loss: 50580156416.0000 - val_loss: 49334616064.0000\n",
            "Epoch 114/400\n",
            "133/133 [==============================] - 0s 2ms/step - loss: 50490974208.0000 - val_loss: 49246154752.0000\n",
            "Epoch 115/400\n",
            "133/133 [==============================] - 0s 2ms/step - loss: 50401255424.0000 - val_loss: 49157058560.0000\n",
            "Epoch 116/400\n",
            "133/133 [==============================] - 0s 2ms/step - loss: 50311004160.0000 - val_loss: 49067524096.0000\n",
            "Epoch 117/400\n",
            "133/133 [==============================] - 0s 2ms/step - loss: 50220191744.0000 - val_loss: 48977305600.0000\n",
            "Epoch 118/400\n",
            "133/133 [==============================] - 0s 2ms/step - loss: 50128855040.0000 - val_loss: 48886566912.0000\n",
            "Epoch 119/400\n",
            "133/133 [==============================] - 0s 2ms/step - loss: 50036985856.0000 - val_loss: 48795492352.0000\n",
            "Epoch 120/400\n",
            "133/133 [==============================] - 0s 2ms/step - loss: 49944604672.0000 - val_loss: 48703901696.0000\n",
            "Epoch 121/400\n",
            "133/133 [==============================] - 0s 2ms/step - loss: 49851699200.0000 - val_loss: 48611651584.0000\n",
            "Epoch 122/400\n",
            "133/133 [==============================] - 0s 2ms/step - loss: 49758253056.0000 - val_loss: 48518971392.0000\n",
            "Epoch 123/400\n",
            "133/133 [==============================] - 0s 2ms/step - loss: 49664286720.0000 - val_loss: 48425721856.0000\n",
            "Epoch 124/400\n",
            "133/133 [==============================] - 0s 2ms/step - loss: 49569857536.0000 - val_loss: 48331866112.0000\n",
            "Epoch 125/400\n",
            "133/133 [==============================] - 0s 2ms/step - loss: 49474859008.0000 - val_loss: 48237654016.0000\n",
            "Epoch 126/400\n",
            "133/133 [==============================] - 0s 3ms/step - loss: 49379364864.0000 - val_loss: 48142819328.0000\n",
            "Epoch 127/400\n",
            "133/133 [==============================] - 0s 2ms/step - loss: 49283358720.0000 - val_loss: 48047603712.0000\n",
            "Epoch 128/400\n",
            "133/133 [==============================] - 0s 2ms/step - loss: 49186844672.0000 - val_loss: 47951974400.0000\n",
            "Epoch 129/400\n",
            "133/133 [==============================] - 0s 3ms/step - loss: 49089765376.0000 - val_loss: 47855751168.0000\n",
            "Epoch 130/400\n",
            "133/133 [==============================] - 0s 2ms/step - loss: 48992247808.0000 - val_loss: 47758749696.0000\n",
            "Epoch 131/400\n",
            "133/133 [==============================] - 0s 2ms/step - loss: 48894193664.0000 - val_loss: 47661580288.0000\n",
            "Epoch 132/400\n",
            "133/133 [==============================] - 0s 2ms/step - loss: 48795672576.0000 - val_loss: 47563853824.0000\n",
            "Epoch 133/400\n",
            "133/133 [==============================] - 0s 2ms/step - loss: 48696623104.0000 - val_loss: 47465603072.0000\n",
            "Epoch 134/400\n",
            "133/133 [==============================] - 0s 2ms/step - loss: 48597114880.0000 - val_loss: 47366852608.0000\n",
            "Epoch 135/400\n",
            "133/133 [==============================] - 0s 2ms/step - loss: 48497164288.0000 - val_loss: 47267708928.0000\n",
            "Epoch 136/400\n",
            "133/133 [==============================] - 0s 3ms/step - loss: 48396701696.0000 - val_loss: 47167991808.0000\n",
            "Epoch 137/400\n",
            "133/133 [==============================] - 0s 2ms/step - loss: 48295718912.0000 - val_loss: 47067947008.0000\n",
            "Epoch 138/400\n",
            "133/133 [==============================] - 0s 2ms/step - loss: 48194260992.0000 - val_loss: 46967308288.0000\n",
            "Epoch 139/400\n",
            "133/133 [==============================] - 0s 2ms/step - loss: 48092356608.0000 - val_loss: 46866219008.0000\n",
            "Epoch 140/400\n",
            "133/133 [==============================] - 0s 2ms/step - loss: 47989952512.0000 - val_loss: 46764564480.0000\n",
            "Epoch 141/400\n",
            "133/133 [==============================] - 0s 2ms/step - loss: 47887073280.0000 - val_loss: 46662692864.0000\n",
            "Epoch 142/400\n",
            "133/133 [==============================] - 0s 2ms/step - loss: 47783792640.0000 - val_loss: 46560251904.0000\n",
            "Epoch 143/400\n",
            "133/133 [==============================] - 0s 3ms/step - loss: 47680020480.0000 - val_loss: 46457389056.0000\n",
            "Epoch 144/400\n",
            "133/133 [==============================] - 0s 2ms/step - loss: 47575781376.0000 - val_loss: 46354026496.0000\n",
            "Epoch 145/400\n",
            "133/133 [==============================] - 0s 3ms/step - loss: 47471050752.0000 - val_loss: 46250299392.0000\n",
            "Epoch 146/400\n",
            "133/133 [==============================] - 0s 2ms/step - loss: 47365869568.0000 - val_loss: 46145826816.0000\n",
            "Epoch 147/400\n",
            "133/133 [==============================] - 0s 2ms/step - loss: 47260225536.0000 - val_loss: 46041161728.0000\n",
            "Epoch 148/400\n",
            "133/133 [==============================] - 0s 2ms/step - loss: 47154216960.0000 - val_loss: 45935939584.0000\n",
            "Epoch 149/400\n",
            "133/133 [==============================] - 0s 2ms/step - loss: 47047770112.0000 - val_loss: 45830434816.0000\n",
            "Epoch 150/400\n",
            "133/133 [==============================] - 0s 2ms/step - loss: 46940835840.0000 - val_loss: 45724348416.0000\n",
            "Epoch 151/400\n",
            "133/133 [==============================] - 0s 2ms/step - loss: 46833446912.0000 - val_loss: 45617950720.0000\n",
            "Epoch 152/400\n",
            "133/133 [==============================] - 0s 2ms/step - loss: 46725632000.0000 - val_loss: 45511032832.0000\n",
            "Epoch 153/400\n",
            "133/133 [==============================] - 0s 3ms/step - loss: 46617350144.0000 - val_loss: 45403885568.0000\n",
            "Epoch 154/400\n",
            "133/133 [==============================] - 0s 2ms/step - loss: 46508654592.0000 - val_loss: 45295968256.0000\n",
            "Epoch 155/400\n",
            "133/133 [==============================] - 0s 2ms/step - loss: 46399524864.0000 - val_loss: 45187883008.0000\n",
            "Epoch 156/400\n",
            "133/133 [==============================] - 0s 2ms/step - loss: 46290010112.0000 - val_loss: 45079347200.0000\n",
            "Epoch 157/400\n",
            "133/133 [==============================] - 0s 2ms/step - loss: 46180032512.0000 - val_loss: 44970287104.0000\n",
            "Epoch 158/400\n",
            "133/133 [==============================] - 0s 2ms/step - loss: 46069604352.0000 - val_loss: 44860932096.0000\n",
            "Epoch 159/400\n",
            "133/133 [==============================] - 0s 2ms/step - loss: 45958799360.0000 - val_loss: 44751040512.0000\n",
            "Epoch 160/400\n",
            "133/133 [==============================] - 0s 2ms/step - loss: 45847580672.0000 - val_loss: 44640628736.0000\n",
            "Epoch 161/400\n",
            "133/133 [==============================] - 0s 3ms/step - loss: 45735989248.0000 - val_loss: 44530180096.0000\n",
            "Epoch 162/400\n",
            "133/133 [==============================] - 0s 2ms/step - loss: 45624000512.0000 - val_loss: 44419264512.0000\n",
            "Epoch 163/400\n",
            "133/133 [==============================] - 0s 2ms/step - loss: 45511581696.0000 - val_loss: 44307812352.0000\n",
            "Epoch 164/400\n",
            "133/133 [==============================] - 0s 2ms/step - loss: 45398806528.0000 - val_loss: 44195860480.0000\n",
            "Epoch 165/400\n",
            "133/133 [==============================] - 0s 3ms/step - loss: 45285621760.0000 - val_loss: 44083838976.0000\n",
            "Epoch 166/400\n",
            "133/133 [==============================] - 0s 2ms/step - loss: 45172056064.0000 - val_loss: 43971354624.0000\n",
            "Epoch 167/400\n",
            "133/133 [==============================] - 0s 2ms/step - loss: 45058072576.0000 - val_loss: 43858497536.0000\n",
            "Epoch 168/400\n",
            "133/133 [==============================] - 0s 3ms/step - loss: 44943736832.0000 - val_loss: 43745071104.0000\n",
            "Epoch 169/400\n",
            "133/133 [==============================] - 0s 2ms/step - loss: 44829028352.0000 - val_loss: 43631276032.0000\n",
            "Epoch 170/400\n",
            "133/133 [==============================] - 0s 3ms/step - loss: 44713938944.0000 - val_loss: 43517255680.0000\n",
            "Epoch 171/400\n",
            "133/133 [==============================] - 0s 2ms/step - loss: 44598439936.0000 - val_loss: 43402936320.0000\n",
            "Epoch 172/400\n",
            "133/133 [==============================] - 0s 2ms/step - loss: 44482613248.0000 - val_loss: 43288219648.0000\n",
            "Epoch 173/400\n",
            "133/133 [==============================] - 0s 2ms/step - loss: 44366397440.0000 - val_loss: 43173113856.0000\n",
            "Epoch 174/400\n",
            "133/133 [==============================] - 0s 2ms/step - loss: 44249845760.0000 - val_loss: 43057664000.0000\n",
            "Epoch 175/400\n",
            "133/133 [==============================] - 0s 2ms/step - loss: 44132933632.0000 - val_loss: 42941804544.0000\n",
            "Epoch 176/400\n",
            "133/133 [==============================] - 0s 2ms/step - loss: 44015652864.0000 - val_loss: 42825465856.0000\n",
            "Epoch 177/400\n",
            "133/133 [==============================] - 0s 2ms/step - loss: 43897991168.0000 - val_loss: 42709118976.0000\n",
            "Epoch 178/400\n",
            "133/133 [==============================] - 0s 2ms/step - loss: 43780050944.0000 - val_loss: 42592186368.0000\n",
            "Epoch 179/400\n",
            "133/133 [==============================] - 0s 2ms/step - loss: 43661746176.0000 - val_loss: 42474971136.0000\n",
            "Epoch 180/400\n",
            "133/133 [==============================] - 0s 2ms/step - loss: 43543089152.0000 - val_loss: 42357473280.0000\n",
            "Epoch 181/400\n",
            "133/133 [==============================] - 0s 2ms/step - loss: 43424088064.0000 - val_loss: 42239643648.0000\n",
            "Epoch 182/400\n",
            "133/133 [==============================] - 0s 2ms/step - loss: 43304771584.0000 - val_loss: 42121416704.0000\n",
            "Epoch 183/400\n",
            "133/133 [==============================] - 0s 2ms/step - loss: 43185143808.0000 - val_loss: 42002833408.0000\n",
            "Epoch 184/400\n",
            "133/133 [==============================] - 0s 2ms/step - loss: 43065217024.0000 - val_loss: 41883885568.0000\n",
            "Epoch 185/400\n",
            "133/133 [==============================] - 0s 2ms/step - loss: 42944864256.0000 - val_loss: 41765011456.0000\n",
            "Epoch 186/400\n",
            "133/133 [==============================] - 0s 2ms/step - loss: 42824151040.0000 - val_loss: 41645608960.0000\n",
            "Epoch 187/400\n",
            "133/133 [==============================] - 0s 2ms/step - loss: 42703187968.0000 - val_loss: 41525608448.0000\n",
            "Epoch 188/400\n",
            "133/133 [==============================] - 0s 2ms/step - loss: 42581909504.0000 - val_loss: 41405644800.0000\n",
            "Epoch 189/400\n",
            "133/133 [==============================] - 0s 2ms/step - loss: 42460393472.0000 - val_loss: 41285042176.0000\n",
            "Epoch 190/400\n",
            "133/133 [==============================] - 0s 2ms/step - loss: 42338488320.0000 - val_loss: 41164644352.0000\n",
            "Epoch 191/400\n",
            "133/133 [==============================] - 0s 2ms/step - loss: 42216316928.0000 - val_loss: 41043566592.0000\n",
            "Epoch 192/400\n",
            "133/133 [==============================] - 0s 2ms/step - loss: 42093801472.0000 - val_loss: 40922218496.0000\n",
            "Epoch 193/400\n",
            "133/133 [==============================] - 0s 2ms/step - loss: 41970995200.0000 - val_loss: 40800739328.0000\n",
            "Epoch 194/400\n",
            "133/133 [==============================] - 0s 3ms/step - loss: 41847980032.0000 - val_loss: 40678629376.0000\n",
            "Epoch 195/400\n",
            "133/133 [==============================] - 0s 2ms/step - loss: 41724588032.0000 - val_loss: 40556761088.0000\n",
            "Epoch 196/400\n",
            "133/133 [==============================] - 0s 4ms/step - loss: 41600987136.0000 - val_loss: 40434274304.0000\n",
            "Epoch 197/400\n",
            "133/133 [==============================] - 0s 3ms/step - loss: 41477058560.0000 - val_loss: 40311689216.0000\n",
            "Epoch 198/400\n",
            "133/133 [==============================] - 0s 3ms/step - loss: 41352896512.0000 - val_loss: 40188624896.0000\n",
            "Epoch 199/400\n",
            "133/133 [==============================] - 0s 4ms/step - loss: 41228427264.0000 - val_loss: 40065507328.0000\n",
            "Epoch 200/400\n",
            "133/133 [==============================] - 0s 3ms/step - loss: 41103704064.0000 - val_loss: 39941959680.0000\n",
            "Epoch 201/400\n",
            "133/133 [==============================] - 0s 4ms/step - loss: 40978694144.0000 - val_loss: 39818240000.0000\n",
            "Epoch 202/400\n",
            "133/133 [==============================] - 0s 4ms/step - loss: 40853401600.0000 - val_loss: 39694299136.0000\n",
            "Epoch 203/400\n",
            "133/133 [==============================] - 0s 2ms/step - loss: 40727883776.0000 - val_loss: 39570100224.0000\n",
            "Epoch 204/400\n",
            "133/133 [==============================] - 0s 2ms/step - loss: 40602103808.0000 - val_loss: 39445573632.0000\n",
            "Epoch 205/400\n",
            "133/133 [==============================] - 0s 2ms/step - loss: 40476069888.0000 - val_loss: 39320743936.0000\n",
            "Epoch 206/400\n",
            "133/133 [==============================] - 0s 2ms/step - loss: 40349802496.0000 - val_loss: 39195766784.0000\n",
            "Epoch 207/400\n",
            "133/133 [==============================] - 0s 2ms/step - loss: 40223346688.0000 - val_loss: 39070490624.0000\n",
            "Epoch 208/400\n",
            "133/133 [==============================] - 0s 2ms/step - loss: 40096628736.0000 - val_loss: 38945345536.0000\n",
            "Epoch 209/400\n",
            "133/133 [==============================] - 0s 2ms/step - loss: 39969665024.0000 - val_loss: 38819614720.0000\n",
            "Epoch 210/400\n",
            "133/133 [==============================] - 0s 2ms/step - loss: 39842398208.0000 - val_loss: 38693736448.0000\n",
            "Epoch 211/400\n",
            "133/133 [==============================] - 0s 3ms/step - loss: 39714975744.0000 - val_loss: 38567440384.0000\n",
            "Epoch 212/400\n",
            "133/133 [==============================] - 0s 2ms/step - loss: 39587299328.0000 - val_loss: 38441488384.0000\n",
            "Epoch 213/400\n",
            "133/133 [==============================] - 0s 2ms/step - loss: 39459463168.0000 - val_loss: 38314926080.0000\n",
            "Epoch 214/400\n",
            "133/133 [==============================] - 0s 2ms/step - loss: 39331401728.0000 - val_loss: 38188032000.0000\n",
            "Epoch 215/400\n",
            "133/133 [==============================] - 0s 2ms/step - loss: 39203078144.0000 - val_loss: 38061236224.0000\n",
            "Epoch 216/400\n",
            "133/133 [==============================] - 0s 3ms/step - loss: 39074603008.0000 - val_loss: 37933875200.0000\n",
            "Epoch 217/400\n",
            "133/133 [==============================] - 0s 3ms/step - loss: 38945873920.0000 - val_loss: 37806604288.0000\n",
            "Epoch 218/400\n",
            "133/133 [==============================] - 0s 3ms/step - loss: 38817038336.0000 - val_loss: 37679198208.0000\n",
            "Epoch 219/400\n",
            "133/133 [==============================] - 0s 2ms/step - loss: 38687965184.0000 - val_loss: 37551529984.0000\n",
            "Epoch 220/400\n",
            "133/133 [==============================] - 0s 2ms/step - loss: 38558687232.0000 - val_loss: 37423587328.0000\n",
            "Epoch 221/400\n",
            "133/133 [==============================] - 0s 2ms/step - loss: 38429261824.0000 - val_loss: 37295493120.0000\n",
            "Epoch 222/400\n",
            "133/133 [==============================] - 0s 2ms/step - loss: 38299627520.0000 - val_loss: 37167300608.0000\n",
            "Epoch 223/400\n",
            "133/133 [==============================] - 0s 3ms/step - loss: 38169817088.0000 - val_loss: 37038665728.0000\n",
            "Epoch 224/400\n",
            "133/133 [==============================] - 0s 2ms/step - loss: 38039830528.0000 - val_loss: 36910194688.0000\n",
            "Epoch 225/400\n",
            "133/133 [==============================] - 0s 2ms/step - loss: 37909667840.0000 - val_loss: 36781719552.0000\n",
            "Epoch 226/400\n",
            "133/133 [==============================] - 0s 3ms/step - loss: 37779369984.0000 - val_loss: 36652503040.0000\n",
            "Epoch 227/400\n",
            "133/133 [==============================] - 0s 2ms/step - loss: 37648871424.0000 - val_loss: 36523315200.0000\n",
            "Epoch 228/400\n",
            "133/133 [==============================] - 0s 2ms/step - loss: 37518249984.0000 - val_loss: 36394278912.0000\n",
            "Epoch 229/400\n",
            "133/133 [==============================] - 0s 2ms/step - loss: 37387534336.0000 - val_loss: 36264980480.0000\n",
            "Epoch 230/400\n",
            "133/133 [==============================] - 0s 2ms/step - loss: 37256577024.0000 - val_loss: 36135727104.0000\n",
            "Epoch 231/400\n",
            "133/133 [==============================] - 0s 3ms/step - loss: 37125513216.0000 - val_loss: 36005982208.0000\n",
            "Epoch 232/400\n",
            "133/133 [==============================] - 0s 2ms/step - loss: 36994273280.0000 - val_loss: 35876143104.0000\n",
            "Epoch 233/400\n",
            "133/133 [==============================] - 0s 2ms/step - loss: 36862971904.0000 - val_loss: 35746238464.0000\n",
            "Epoch 234/400\n",
            "133/133 [==============================] - 0s 2ms/step - loss: 36731498496.0000 - val_loss: 35616116736.0000\n",
            "Epoch 235/400\n",
            "133/133 [==============================] - 0s 2ms/step - loss: 36599881728.0000 - val_loss: 35486031872.0000\n",
            "Epoch 236/400\n",
            "133/133 [==============================] - 0s 2ms/step - loss: 36468137984.0000 - val_loss: 35356143616.0000\n",
            "Epoch 237/400\n",
            "133/133 [==============================] - 0s 2ms/step - loss: 36336300032.0000 - val_loss: 35225690112.0000\n",
            "Epoch 238/400\n",
            "133/133 [==============================] - 0s 3ms/step - loss: 36204318720.0000 - val_loss: 35095199744.0000\n",
            "Epoch 239/400\n",
            "133/133 [==============================] - 0s 2ms/step - loss: 36072271872.0000 - val_loss: 34964512768.0000\n",
            "Epoch 240/400\n",
            "133/133 [==============================] - 0s 2ms/step - loss: 35940102144.0000 - val_loss: 34834034688.0000\n",
            "Epoch 241/400\n",
            "133/133 [==============================] - 0s 2ms/step - loss: 35807809536.0000 - val_loss: 34703245312.0000\n",
            "Epoch 242/400\n",
            "133/133 [==============================] - 0s 2ms/step - loss: 35675381760.0000 - val_loss: 34572296192.0000\n",
            "Epoch 243/400\n",
            "133/133 [==============================] - 0s 2ms/step - loss: 35542884352.0000 - val_loss: 34441203712.0000\n",
            "Epoch 244/400\n",
            "133/133 [==============================] - 0s 2ms/step - loss: 35410284544.0000 - val_loss: 34310238208.0000\n",
            "Epoch 245/400\n",
            "133/133 [==============================] - 0s 3ms/step - loss: 35277668352.0000 - val_loss: 34178916352.0000\n",
            "Epoch 246/400\n",
            "133/133 [==============================] - 0s 3ms/step - loss: 35144925184.0000 - val_loss: 34047969280.0000\n",
            "Epoch 247/400\n",
            "133/133 [==============================] - 0s 3ms/step - loss: 35012132864.0000 - val_loss: 33916559360.0000\n",
            "Epoch 248/400\n",
            "133/133 [==============================] - 0s 3ms/step - loss: 34879246336.0000 - val_loss: 33785284608.0000\n",
            "Epoch 249/400\n",
            "133/133 [==============================] - 0s 3ms/step - loss: 34746265600.0000 - val_loss: 33653995520.0000\n",
            "Epoch 250/400\n",
            "133/133 [==============================] - 0s 3ms/step - loss: 34613272576.0000 - val_loss: 33522395136.0000\n",
            "Epoch 251/400\n",
            "133/133 [==============================] - 0s 3ms/step - loss: 34480185344.0000 - val_loss: 33390931968.0000\n",
            "Epoch 252/400\n",
            "133/133 [==============================] - 0s 3ms/step - loss: 34347137024.0000 - val_loss: 33259233280.0000\n",
            "Epoch 253/400\n",
            "133/133 [==============================] - 0s 2ms/step - loss: 34214000640.0000 - val_loss: 33127829504.0000\n",
            "Epoch 254/400\n",
            "133/133 [==============================] - 0s 3ms/step - loss: 34080829440.0000 - val_loss: 32996239360.0000\n",
            "Epoch 255/400\n",
            "133/133 [==============================] - 0s 2ms/step - loss: 33947582464.0000 - val_loss: 32864600064.0000\n",
            "Epoch 256/400\n",
            "133/133 [==============================] - 0s 2ms/step - loss: 33814304768.0000 - val_loss: 32732909568.0000\n",
            "Epoch 257/400\n",
            "133/133 [==============================] - 0s 3ms/step - loss: 33680996352.0000 - val_loss: 32601344000.0000\n",
            "Epoch 258/400\n",
            "133/133 [==============================] - 0s 2ms/step - loss: 33547669504.0000 - val_loss: 32469551104.0000\n",
            "Epoch 259/400\n",
            "133/133 [==============================] - 0s 3ms/step - loss: 33414332416.0000 - val_loss: 32337879040.0000\n",
            "Epoch 260/400\n",
            "133/133 [==============================] - 0s 3ms/step - loss: 33280995328.0000 - val_loss: 32206176256.0000\n",
            "Epoch 261/400\n",
            "133/133 [==============================] - 0s 2ms/step - loss: 33147602944.0000 - val_loss: 32074469376.0000\n",
            "Epoch 262/400\n",
            "133/133 [==============================] - 0s 2ms/step - loss: 33014226944.0000 - val_loss: 31942516736.0000\n",
            "Epoch 263/400\n",
            "133/133 [==============================] - 0s 2ms/step - loss: 32880881664.0000 - val_loss: 31810664448.0000\n",
            "Epoch 264/400\n",
            "133/133 [==============================] - 0s 3ms/step - loss: 32747479040.0000 - val_loss: 31679037440.0000\n",
            "Epoch 265/400\n",
            "133/133 [==============================] - 0s 2ms/step - loss: 32614129664.0000 - val_loss: 31547410432.0000\n",
            "Epoch 266/400\n",
            "133/133 [==============================] - 0s 3ms/step - loss: 32480841728.0000 - val_loss: 31415599104.0000\n",
            "Epoch 267/400\n",
            "133/133 [==============================] - 0s 2ms/step - loss: 32347541504.0000 - val_loss: 31284051968.0000\n",
            "Epoch 268/400\n",
            "133/133 [==============================] - 0s 2ms/step - loss: 32214235136.0000 - val_loss: 31152535552.0000\n",
            "Epoch 269/400\n",
            "133/133 [==============================] - 0s 2ms/step - loss: 32080887808.0000 - val_loss: 31020974080.0000\n",
            "Epoch 270/400\n",
            "133/133 [==============================] - 0s 2ms/step - loss: 31947608064.0000 - val_loss: 30889138176.0000\n",
            "Epoch 271/400\n",
            "133/133 [==============================] - 0s 3ms/step - loss: 31814334464.0000 - val_loss: 30757619712.0000\n",
            "Epoch 272/400\n",
            "133/133 [==============================] - 0s 2ms/step - loss: 31681161216.0000 - val_loss: 30626033664.0000\n",
            "Epoch 273/400\n",
            "133/133 [==============================] - 0s 2ms/step - loss: 31548010496.0000 - val_loss: 30494541824.0000\n",
            "Epoch 274/400\n",
            "133/133 [==============================] - 0s 2ms/step - loss: 31414890496.0000 - val_loss: 30363357184.0000\n",
            "Epoch 275/400\n",
            "133/133 [==============================] - 0s 2ms/step - loss: 31281848320.0000 - val_loss: 30231910400.0000\n",
            "Epoch 276/400\n",
            "133/133 [==============================] - 0s 3ms/step - loss: 31148935168.0000 - val_loss: 30100635648.0000\n",
            "Epoch 277/400\n",
            "133/133 [==============================] - 0s 2ms/step - loss: 31016085504.0000 - val_loss: 29969381376.0000\n",
            "Epoch 278/400\n",
            "133/133 [==============================] - 0s 2ms/step - loss: 30883241984.0000 - val_loss: 29838530560.0000\n",
            "Epoch 279/400\n",
            "133/133 [==============================] - 0s 2ms/step - loss: 30750464000.0000 - val_loss: 29707366400.0000\n",
            "Epoch 280/400\n",
            "133/133 [==============================] - 0s 2ms/step - loss: 30617796608.0000 - val_loss: 29576259584.0000\n",
            "Epoch 281/400\n",
            "133/133 [==============================] - 0s 3ms/step - loss: 30485198848.0000 - val_loss: 29445562368.0000\n",
            "Epoch 282/400\n",
            "133/133 [==============================] - 0s 2ms/step - loss: 30352668672.0000 - val_loss: 29314715648.0000\n",
            "Epoch 283/400\n",
            "133/133 [==============================] - 0s 2ms/step - loss: 30220222464.0000 - val_loss: 29183987712.0000\n",
            "Epoch 284/400\n",
            "133/133 [==============================] - 0s 2ms/step - loss: 30087872512.0000 - val_loss: 29053509632.0000\n",
            "Epoch 285/400\n",
            "133/133 [==============================] - 0s 2ms/step - loss: 29955618816.0000 - val_loss: 28923080704.0000\n",
            "Epoch 286/400\n",
            "133/133 [==============================] - 0s 2ms/step - loss: 29823514624.0000 - val_loss: 28792422400.0000\n",
            "Epoch 287/400\n",
            "133/133 [==============================] - 0s 2ms/step - loss: 29691521024.0000 - val_loss: 28662290432.0000\n",
            "Epoch 288/400\n",
            "133/133 [==============================] - 0s 2ms/step - loss: 29559646208.0000 - val_loss: 28532076544.0000\n",
            "Epoch 289/400\n",
            "133/133 [==============================] - 0s 3ms/step - loss: 29427853312.0000 - val_loss: 28402120704.0000\n",
            "Epoch 290/400\n",
            "133/133 [==============================] - 0s 2ms/step - loss: 29296185344.0000 - val_loss: 28272220160.0000\n",
            "Epoch 291/400\n",
            "133/133 [==============================] - 0s 2ms/step - loss: 29164679168.0000 - val_loss: 28142544896.0000\n",
            "Epoch 292/400\n",
            "133/133 [==============================] - 0s 3ms/step - loss: 29033334784.0000 - val_loss: 28012937216.0000\n",
            "Epoch 293/400\n",
            "133/133 [==============================] - 0s 2ms/step - loss: 28902141952.0000 - val_loss: 27883327488.0000\n",
            "Epoch 294/400\n",
            "133/133 [==============================] - 0s 3ms/step - loss: 28771033088.0000 - val_loss: 27754186752.0000\n",
            "Epoch 295/400\n",
            "133/133 [==============================] - 0s 2ms/step - loss: 28640069632.0000 - val_loss: 27625254912.0000\n",
            "Epoch 296/400\n",
            "133/133 [==============================] - 0s 2ms/step - loss: 28509329408.0000 - val_loss: 27495999488.0000\n",
            "Epoch 297/400\n",
            "133/133 [==============================] - 0s 2ms/step - loss: 28378664960.0000 - val_loss: 27367290880.0000\n",
            "Epoch 298/400\n",
            "133/133 [==============================] - 0s 2ms/step - loss: 28248242176.0000 - val_loss: 27238649856.0000\n",
            "Epoch 299/400\n",
            "133/133 [==============================] - 0s 3ms/step - loss: 28117964800.0000 - val_loss: 27110184960.0000\n",
            "Epoch 300/400\n",
            "133/133 [==============================] - 0s 3ms/step - loss: 27987871744.0000 - val_loss: 26981775360.0000\n",
            "Epoch 301/400\n",
            "133/133 [==============================] - 0s 2ms/step - loss: 27857922048.0000 - val_loss: 26854047744.0000\n",
            "Epoch 302/400\n",
            "133/133 [==============================] - 0s 2ms/step - loss: 27728189440.0000 - val_loss: 26725578752.0000\n",
            "Epoch 303/400\n",
            "133/133 [==============================] - 0s 2ms/step - loss: 27598608384.0000 - val_loss: 26598184960.0000\n",
            "Epoch 304/400\n",
            "133/133 [==============================] - 0s 3ms/step - loss: 27469305856.0000 - val_loss: 26470559744.0000\n",
            "Epoch 305/400\n",
            "133/133 [==============================] - 0s 2ms/step - loss: 27340177408.0000 - val_loss: 26343323648.0000\n",
            "Epoch 306/400\n",
            "133/133 [==============================] - 0s 3ms/step - loss: 27211307008.0000 - val_loss: 26216402944.0000\n",
            "Epoch 307/400\n",
            "133/133 [==============================] - 0s 3ms/step - loss: 27082647552.0000 - val_loss: 26089367552.0000\n",
            "Epoch 308/400\n",
            "133/133 [==============================] - 1s 4ms/step - loss: 26954192896.0000 - val_loss: 25962942464.0000\n",
            "Epoch 309/400\n",
            "133/133 [==============================] - 2s 12ms/step - loss: 26825977856.0000 - val_loss: 25836359680.0000\n",
            "Epoch 310/400\n",
            "133/133 [==============================] - 2s 12ms/step - loss: 26697932800.0000 - val_loss: 25710073856.0000\n",
            "Epoch 311/400\n",
            "133/133 [==============================] - 1s 6ms/step - loss: 26570141696.0000 - val_loss: 25584513024.0000\n",
            "Epoch 312/400\n",
            "133/133 [==============================] - 1s 4ms/step - loss: 26442616832.0000 - val_loss: 25458890752.0000\n",
            "Epoch 313/400\n",
            "133/133 [==============================] - 0s 2ms/step - loss: 26315313152.0000 - val_loss: 25333329920.0000\n",
            "Epoch 314/400\n",
            "133/133 [==============================] - 0s 3ms/step - loss: 26188269568.0000 - val_loss: 25208197120.0000\n",
            "Epoch 315/400\n",
            "133/133 [==============================] - 0s 3ms/step - loss: 26061463552.0000 - val_loss: 25083392000.0000\n",
            "Epoch 316/400\n",
            "133/133 [==============================] - 0s 3ms/step - loss: 25934893056.0000 - val_loss: 24958828544.0000\n",
            "Epoch 317/400\n",
            "133/133 [==============================] - 0s 3ms/step - loss: 25808543744.0000 - val_loss: 24834177024.0000\n",
            "Epoch 318/400\n",
            "133/133 [==============================] - 0s 3ms/step - loss: 25682577408.0000 - val_loss: 24709771264.0000\n",
            "Epoch 319/400\n",
            "133/133 [==============================] - 0s 3ms/step - loss: 25556842496.0000 - val_loss: 24586074112.0000\n",
            "Epoch 320/400\n",
            "133/133 [==============================] - 0s 3ms/step - loss: 25431398400.0000 - val_loss: 24462790656.0000\n",
            "Epoch 321/400\n",
            "133/133 [==============================] - 0s 3ms/step - loss: 25306269696.0000 - val_loss: 24339261440.0000\n",
            "Epoch 322/400\n",
            "133/133 [==============================] - 0s 3ms/step - loss: 25181390848.0000 - val_loss: 24216446976.0000\n",
            "Epoch 323/400\n",
            "133/133 [==============================] - 0s 2ms/step - loss: 25056759808.0000 - val_loss: 24093806592.0000\n",
            "Epoch 324/400\n",
            "133/133 [==============================] - 0s 2ms/step - loss: 24932395008.0000 - val_loss: 23971543040.0000\n",
            "Epoch 325/400\n",
            "133/133 [==============================] - 0s 2ms/step - loss: 24808384512.0000 - val_loss: 23849172992.0000\n",
            "Epoch 326/400\n",
            "133/133 [==============================] - 0s 2ms/step - loss: 24684699648.0000 - val_loss: 23727253504.0000\n",
            "Epoch 327/400\n",
            "133/133 [==============================] - 0s 2ms/step - loss: 24561391616.0000 - val_loss: 23606011904.0000\n",
            "Epoch 328/400\n",
            "133/133 [==============================] - 0s 2ms/step - loss: 24438405120.0000 - val_loss: 23484895232.0000\n",
            "Epoch 329/400\n",
            "133/133 [==============================] - 0s 3ms/step - loss: 24315738112.0000 - val_loss: 23364063232.0000\n",
            "Epoch 330/400\n",
            "133/133 [==============================] - 0s 3ms/step - loss: 24193452032.0000 - val_loss: 23243759616.0000\n",
            "Epoch 331/400\n",
            "133/133 [==============================] - 0s 3ms/step - loss: 24071456768.0000 - val_loss: 23123953664.0000\n",
            "Epoch 332/400\n",
            "133/133 [==============================] - 0s 3ms/step - loss: 23949795328.0000 - val_loss: 23003987968.0000\n",
            "Epoch 333/400\n",
            "133/133 [==============================] - 0s 3ms/step - loss: 23828490240.0000 - val_loss: 22884700160.0000\n",
            "Epoch 334/400\n",
            "133/133 [==============================] - 0s 3ms/step - loss: 23707502592.0000 - val_loss: 22765791232.0000\n",
            "Epoch 335/400\n",
            "133/133 [==============================] - 0s 3ms/step - loss: 23586879488.0000 - val_loss: 22647144448.0000\n",
            "Epoch 336/400\n",
            "133/133 [==============================] - 0s 2ms/step - loss: 23466612736.0000 - val_loss: 22528839680.0000\n",
            "Epoch 337/400\n",
            "133/133 [==============================] - 0s 2ms/step - loss: 23346726912.0000 - val_loss: 22410688512.0000\n",
            "Epoch 338/400\n",
            "133/133 [==============================] - 0s 3ms/step - loss: 23227203584.0000 - val_loss: 22293331968.0000\n",
            "Epoch 339/400\n",
            "133/133 [==============================] - 0s 2ms/step - loss: 23108083712.0000 - val_loss: 22176192512.0000\n",
            "Epoch 340/400\n",
            "133/133 [==============================] - 0s 3ms/step - loss: 22989391872.0000 - val_loss: 22059106304.0000\n",
            "Epoch 341/400\n",
            "133/133 [==============================] - 0s 3ms/step - loss: 22871105536.0000 - val_loss: 21942921216.0000\n",
            "Epoch 342/400\n",
            "133/133 [==============================] - 0s 3ms/step - loss: 22753204224.0000 - val_loss: 21826918400.0000\n",
            "Epoch 343/400\n",
            "133/133 [==============================] - 0s 2ms/step - loss: 22635646976.0000 - val_loss: 21711495168.0000\n",
            "Epoch 344/400\n",
            "133/133 [==============================] - 0s 3ms/step - loss: 22518425600.0000 - val_loss: 21596827648.0000\n",
            "Epoch 345/400\n",
            "133/133 [==============================] - 0s 2ms/step - loss: 22401658880.0000 - val_loss: 21481699328.0000\n",
            "Epoch 346/400\n",
            "133/133 [==============================] - 0s 2ms/step - loss: 22285330432.0000 - val_loss: 21367025664.0000\n",
            "Epoch 347/400\n",
            "133/133 [==============================] - 0s 2ms/step - loss: 22169389056.0000 - val_loss: 21253099520.0000\n",
            "Epoch 348/400\n",
            "133/133 [==============================] - 0s 2ms/step - loss: 22053949440.0000 - val_loss: 21139668992.0000\n",
            "Epoch 349/400\n",
            "133/133 [==============================] - 0s 2ms/step - loss: 21938952192.0000 - val_loss: 21026756608.0000\n",
            "Epoch 350/400\n",
            "133/133 [==============================] - 0s 3ms/step - loss: 21824471040.0000 - val_loss: 20914046976.0000\n",
            "Epoch 351/400\n",
            "133/133 [==============================] - 0s 2ms/step - loss: 21710397440.0000 - val_loss: 20802099200.0000\n",
            "Epoch 352/400\n",
            "133/133 [==============================] - 0s 3ms/step - loss: 21596749824.0000 - val_loss: 20690688000.0000\n",
            "Epoch 353/400\n",
            "133/133 [==============================] - 0s 3ms/step - loss: 21483563008.0000 - val_loss: 20579495936.0000\n",
            "Epoch 354/400\n",
            "133/133 [==============================] - 0s 3ms/step - loss: 21370750976.0000 - val_loss: 20469067776.0000\n",
            "Epoch 355/400\n",
            "133/133 [==============================] - 0s 3ms/step - loss: 21258471424.0000 - val_loss: 20358621184.0000\n",
            "Epoch 356/400\n",
            "133/133 [==============================] - 0s 3ms/step - loss: 21146689536.0000 - val_loss: 20248743936.0000\n",
            "Epoch 357/400\n",
            "133/133 [==============================] - 0s 3ms/step - loss: 21035347968.0000 - val_loss: 20139247616.0000\n",
            "Epoch 358/400\n",
            "133/133 [==============================] - 0s 2ms/step - loss: 20924499968.0000 - val_loss: 20030580736.0000\n",
            "Epoch 359/400\n",
            "133/133 [==============================] - 0s 3ms/step - loss: 20814141440.0000 - val_loss: 19922372608.0000\n",
            "Epoch 360/400\n",
            "133/133 [==============================] - 0s 3ms/step - loss: 20704331776.0000 - val_loss: 19814569984.0000\n",
            "Epoch 361/400\n",
            "133/133 [==============================] - 0s 3ms/step - loss: 20595015680.0000 - val_loss: 19706957824.0000\n",
            "Epoch 362/400\n",
            "133/133 [==============================] - 0s 2ms/step - loss: 20486217728.0000 - val_loss: 19600541696.0000\n",
            "Epoch 363/400\n",
            "133/133 [==============================] - 0s 2ms/step - loss: 20377991168.0000 - val_loss: 19494105088.0000\n",
            "Epoch 364/400\n",
            "133/133 [==============================] - 0s 3ms/step - loss: 20270143488.0000 - val_loss: 19388471296.0000\n",
            "Epoch 365/400\n",
            "133/133 [==============================] - 0s 3ms/step - loss: 20162863104.0000 - val_loss: 19282923520.0000\n",
            "Epoch 366/400\n",
            "133/133 [==============================] - 0s 3ms/step - loss: 20056068096.0000 - val_loss: 19178387456.0000\n",
            "Epoch 367/400\n",
            "133/133 [==============================] - 0s 3ms/step - loss: 19949899776.0000 - val_loss: 19074152448.0000\n",
            "Epoch 368/400\n",
            "133/133 [==============================] - 0s 3ms/step - loss: 19844229120.0000 - val_loss: 18970310656.0000\n",
            "Epoch 369/400\n",
            "133/133 [==============================] - 0s 3ms/step - loss: 19739070464.0000 - val_loss: 18867320832.0000\n",
            "Epoch 370/400\n",
            "133/133 [==============================] - 0s 3ms/step - loss: 19634462720.0000 - val_loss: 18764931072.0000\n",
            "Epoch 371/400\n",
            "133/133 [==============================] - 0s 3ms/step - loss: 19530373120.0000 - val_loss: 18662819840.0000\n",
            "Epoch 372/400\n",
            "133/133 [==============================] - 0s 3ms/step - loss: 19426859008.0000 - val_loss: 18561394688.0000\n",
            "Epoch 373/400\n",
            "133/133 [==============================] - 0s 3ms/step - loss: 19323879424.0000 - val_loss: 18460641280.0000\n",
            "Epoch 374/400\n",
            "133/133 [==============================] - 0s 4ms/step - loss: 19221403648.0000 - val_loss: 18360678400.0000\n",
            "Epoch 375/400\n",
            "133/133 [==============================] - 1s 5ms/step - loss: 19119673344.0000 - val_loss: 18260312064.0000\n",
            "Epoch 376/400\n",
            "133/133 [==============================] - 1s 4ms/step - loss: 19018407936.0000 - val_loss: 18161215488.0000\n",
            "Epoch 377/400\n",
            "133/133 [==============================] - 1s 4ms/step - loss: 18917758976.0000 - val_loss: 18062880768.0000\n",
            "Epoch 378/400\n",
            "133/133 [==============================] - 1s 4ms/step - loss: 18817658880.0000 - val_loss: 17964902400.0000\n",
            "Epoch 379/400\n",
            "133/133 [==============================] - 1s 5ms/step - loss: 18718212096.0000 - val_loss: 17867335680.0000\n",
            "Epoch 380/400\n",
            "133/133 [==============================] - 1s 4ms/step - loss: 18619377664.0000 - val_loss: 17770315776.0000\n",
            "Epoch 381/400\n",
            "133/133 [==============================] - 1s 4ms/step - loss: 18521096192.0000 - val_loss: 17674391552.0000\n",
            "Epoch 382/400\n",
            "133/133 [==============================] - 1s 5ms/step - loss: 18423521280.0000 - val_loss: 17578956800.0000\n",
            "Epoch 383/400\n",
            "133/133 [==============================] - 1s 4ms/step - loss: 18326528000.0000 - val_loss: 17484060672.0000\n",
            "Epoch 384/400\n",
            "133/133 [==============================] - 1s 4ms/step - loss: 18230112256.0000 - val_loss: 17389594624.0000\n",
            "Epoch 385/400\n",
            "133/133 [==============================] - 0s 3ms/step - loss: 18134358016.0000 - val_loss: 17296037888.0000\n",
            "Epoch 386/400\n",
            "133/133 [==============================] - 0s 3ms/step - loss: 18039304192.0000 - val_loss: 17202825216.0000\n",
            "Epoch 387/400\n",
            "133/133 [==============================] - 0s 3ms/step - loss: 17944879104.0000 - val_loss: 17110554624.0000\n",
            "Epoch 388/400\n",
            "133/133 [==============================] - 0s 3ms/step - loss: 17851035648.0000 - val_loss: 17019193344.0000\n",
            "Epoch 389/400\n",
            "133/133 [==============================] - 0s 2ms/step - loss: 17757853696.0000 - val_loss: 16927903744.0000\n",
            "Epoch 390/400\n",
            "133/133 [==============================] - 0s 3ms/step - loss: 17665284096.0000 - val_loss: 16837130240.0000\n",
            "Epoch 391/400\n",
            "133/133 [==============================] - 0s 3ms/step - loss: 17573406720.0000 - val_loss: 16747512832.0000\n",
            "Epoch 392/400\n",
            "133/133 [==============================] - 0s 3ms/step - loss: 17482233856.0000 - val_loss: 16658300928.0000\n",
            "Epoch 393/400\n",
            "133/133 [==============================] - 0s 3ms/step - loss: 17391745024.0000 - val_loss: 16569715712.0000\n",
            "Epoch 394/400\n",
            "133/133 [==============================] - 0s 2ms/step - loss: 17301854208.0000 - val_loss: 16482290688.0000\n",
            "Epoch 395/400\n",
            "133/133 [==============================] - 0s 2ms/step - loss: 17212692480.0000 - val_loss: 16395255808.0000\n",
            "Epoch 396/400\n",
            "133/133 [==============================] - 0s 2ms/step - loss: 17124230144.0000 - val_loss: 16308590592.0000\n",
            "Epoch 397/400\n",
            "133/133 [==============================] - 0s 3ms/step - loss: 17036396544.0000 - val_loss: 16222908416.0000\n",
            "Epoch 398/400\n",
            "133/133 [==============================] - 1s 4ms/step - loss: 16949314560.0000 - val_loss: 16138061824.0000\n",
            "Epoch 399/400\n",
            "133/133 [==============================] - 0s 3ms/step - loss: 16862904320.0000 - val_loss: 16053803008.0000\n",
            "Epoch 400/400\n",
            "133/133 [==============================] - 0s 4ms/step - loss: 16777175040.0000 - val_loss: 15970195456.0000\n"
          ]
        },
        {
          "data": {
            "text/plain": [
              "<keras.callbacks.History at 0x7f0403de6e50>"
            ]
          },
          "execution_count": 13,
          "metadata": {},
          "output_type": "execute_result"
        }
      ],
      "source": [
        "# defining early stop \n",
        "early_stop = EarlyStopping(monitor='val_loss', mode='min', verbose=1, patience=10)\n",
        "\n",
        "# fitting the model\n",
        "model.fit(x=X_train,y=y_train.values,\n",
        "          validation_data=(X_test,y_test.values),\n",
        "          batch_size=128,epochs=400, callbacks=[early_stop])\n",
        "          "
      ]
    },
    {
      "cell_type": "code",
      "execution_count": null,
      "metadata": {
        "colab": {
          "base_uri": "https://localhost:8080/"
        },
        "id": "DzYPgOOEdqNn",
        "outputId": "71b02af1-b549-40d8-c2ee-6d166ef9f795"
      },
      "outputs": [
        {
          "name": "stdout",
          "output_type": "stream",
          "text": [
            "Model: \"sequential\"\n",
            "_________________________________________________________________\n",
            " Layer (type)                Output Shape              Param #   \n",
            "=================================================================\n",
            " dense (Dense)               (None, 30)                270       \n",
            "                                                                 \n",
            " dense_1 (Dense)             (None, 1)                 31        \n",
            "                                                                 \n",
            "=================================================================\n",
            "Total params: 301\n",
            "Trainable params: 301\n",
            "Non-trainable params: 0\n",
            "_________________________________________________________________\n"
          ]
        }
      ],
      "source": [
        "# Sequential Model Summary \n",
        "model.summary() "
      ]
    },
    {
      "cell_type": "markdown",
      "metadata": {
        "id": "X0IzyLyTdqNo"
      },
      "source": [
        "##### Prediction"
      ]
    },
    {
      "cell_type": "code",
      "execution_count": null,
      "metadata": {
        "colab": {
          "base_uri": "https://localhost:8080/"
        },
        "id": "-_0If9N3dqNp",
        "outputId": "42aea1f0-d239-47f6-e55a-b9b9c47baf63"
      },
      "outputs": [
        {
          "name": "stdout",
          "output_type": "stream",
          "text": [
            "94/94 [==============================] - 0s 3ms/step\n"
          ]
        },
        {
          "data": {
            "text/plain": [
              "array([[151323.72],\n",
              "       [149246.77],\n",
              "       [148054.86],\n",
              "       ...,\n",
              "       [113961.9 ],\n",
              "       [142815.25],\n",
              "       [159410.56]], dtype=float32)"
            ]
          },
          "execution_count": 15,
          "metadata": {},
          "output_type": "execute_result"
        }
      ],
      "source": [
        "y_pred = model.predict(X_test)\n",
        "y_pred"
      ]
    },
    {
      "cell_type": "markdown",
      "metadata": {
        "id": "osGmwIw7dqNq"
      },
      "source": [
        "##### Evaluation"
      ]
    },
    {
      "cell_type": "code",
      "execution_count": null,
      "metadata": {
        "colab": {
          "base_uri": "https://localhost:8080/"
        },
        "id": "Eou7_DeldqNr",
        "outputId": "4b802da1-ab3b-4950-9aae-f36d3d3b459a"
      },
      "outputs": [
        {
          "data": {
            "text/plain": [
              "126373.24078630931"
            ]
          },
          "execution_count": 16,
          "metadata": {},
          "output_type": "execute_result"
        }
      ],
      "source": [
        "np.sqrt(mean_squared_error(y_test,y_pred))"
      ]
    },
    {
      "cell_type": "markdown",
      "metadata": {
        "id": "52QacZPvdqNs"
      },
      "source": [
        "#### 2. Using Sci-kit Learn API"
      ]
    },
    {
      "cell_type": "markdown",
      "metadata": {
        "id": "bgmVeddndqNs"
      },
      "source": [
        "Using the same dataset, we will implement MLP regressor using sci-kit learn API. "
      ]
    },
    {
      "cell_type": "markdown",
      "metadata": {
        "id": "CUVZ9KE8dqNt"
      },
      "source": [
        "In the below code, one hidden layer is modeled with 32 neurons. Considering\n",
        "the input and output layer, we have a total of 5 layers in the model. In case any optimizer is not mentioned then “Adam” is the default optimizer and it can manage a pretty large dataset."
      ]
    },
    {
      "cell_type": "code",
      "execution_count": null,
      "metadata": {
        "colab": {
          "base_uri": "https://localhost:8080/"
        },
        "id": "EkBzCoekdqNu",
        "outputId": "fbd68825-2951-4f25-f733-448e55a0e583"
      },
      "outputs": [
        {
          "name": "stderr",
          "output_type": "stream",
          "text": [
            "/usr/local/lib/python3.7/dist-packages/sklearn/neural_network/_multilayer_perceptron.py:696: ConvergenceWarning: Stochastic Optimizer: Maximum iterations (500) reached and the optimization hasn't converged yet.\n",
            "  ConvergenceWarning,\n"
          ]
        }
      ],
      "source": [
        "# implementing MLPregressor\n",
        "regr = MLPRegressor(hidden_layer_sizes=(32), activation=\"relu\", random_state=1, max_iter=500).fit(X_train, y_train)"
      ]
    },
    {
      "cell_type": "markdown",
      "metadata": {
        "id": "Rruum2FKdqNv"
      },
      "source": [
        "##### Prediction"
      ]
    },
    {
      "cell_type": "code",
      "execution_count": null,
      "metadata": {
        "colab": {
          "base_uri": "https://localhost:8080/"
        },
        "id": "5yPBpSl0dqN1",
        "outputId": "9c66fdb1-e5c1-4174-a12c-13cd1fb7fa3a"
      },
      "outputs": [
        {
          "data": {
            "text/plain": [
              "array([106943.7296704 , 105433.71377299, 104575.22478819, ...,\n",
              "        80490.94502437, 100875.35533722, 112639.58639599])"
            ]
          },
          "execution_count": 18,
          "metadata": {},
          "output_type": "execute_result"
        }
      ],
      "source": [
        "y_pred = regr.predict(X_test)\n",
        "y_pred"
      ]
    },
    {
      "cell_type": "markdown",
      "metadata": {
        "id": "l-HUagWGdqN2"
      },
      "source": [
        "##### Evaluation"
      ]
    },
    {
      "cell_type": "code",
      "execution_count": null,
      "metadata": {
        "colab": {
          "base_uri": "https://localhost:8080/"
        },
        "id": "PKmNxwzodqN3",
        "outputId": "b3d3ca88-439b-49a9-f9ab-9a6ebe8db9f2"
      },
      "outputs": [
        {
          "data": {
            "text/plain": [
              "152367.3177159458"
            ]
          },
          "execution_count": 19,
          "metadata": {},
          "output_type": "execute_result"
        }
      ],
      "source": [
        "np.sqrt(mean_squared_error(y_test,y_pred))"
      ]
    },
    {
      "cell_type": "markdown",
      "metadata": {
        "id": "ehdUQLWSdqN4"
      },
      "source": [
        "Now, let us look at the tuning of the neural network hyperparameters or hyperparameter regularization."
      ]
    },
    {
      "cell_type": "markdown",
      "metadata": {
        "id": "SYgkmzLEdqN5"
      },
      "source": [
        "### Fine-Tuning Neural Network Hyperparameters"
      ]
    },
    {
      "cell_type": "markdown",
      "metadata": {
        "id": "gEYREMR3dqN6"
      },
      "source": [
        "The flexibility of neural networks is also one of their main drawbacks: there are many hyperparameters  to  tweak.  Not  only  can  we  use  any  imaginable  network  architecture, but even in a simple MLP we can change the number of layers, the number of neurons per layer, the type of activation function to use in each layer, the weight initialization  logic,  and  much  more. \n",
        "\n",
        "One  option  is  to  simply  try  many  combinations  of  hyperparameters  and  see  which one works best on the validation set (or using K-fold cross-validation). For this, one approach  is  simply to use  GridSearchCV  or  RandomizedSearchCV  to  explore  the  hyperparameter space."
      ]
    },
    {
      "cell_type": "markdown",
      "metadata": {
        "id": "WawLE5TndqN6"
      },
      "source": [
        "The first step is to create a function that will build and compile a Keras model, given a set of hyperparameters:"
      ]
    },
    {
      "cell_type": "code",
      "execution_count": null,
      "metadata": {
        "id": "KYsW5K_VdqN7"
      },
      "outputs": [],
      "source": [
        "def build_model(n_hidden=1, n_neurons=30, learning_rate=3e-3, input_shape=[8]):\n",
        "    model = Sequential()\n",
        "    options = {\"input_shape\": input_shape}\n",
        "    for layer in range(n_hidden):\n",
        "        model.add(Dense(n_neurons, activation=\"relu\", **options))\n",
        "        options = {}\n",
        "    model.add(Dense(1, **options))\n",
        "    optimizer = SGD(learning_rate)\n",
        "    model.compile(loss=\"mse\", optimizer=optimizer)\n",
        "    return model"
      ]
    },
    {
      "cell_type": "markdown",
      "metadata": {
        "id": "DBH4CYF5dqN8"
      },
      "source": [
        "This function creates a simple Sequential model for univariate regression (only one output  neuron),  with  the  given  input  shape  and  the  given  number  of  hidden  layers and  neurons,  and  it  compiles  it  using  an  SGD  optimizer  configured  with  the  given learning rate.\n",
        "\n",
        "Next, let’s create a KerasRegressor based on this build_model() function:"
      ]
    },
    {
      "cell_type": "code",
      "execution_count": null,
      "metadata": {
        "colab": {
          "base_uri": "https://localhost:8080/"
        },
        "id": "gLNf-9oFdqN9",
        "outputId": "69220d19-83bd-49f8-9983-d08e91b58b53"
      },
      "outputs": [
        {
          "name": "stderr",
          "output_type": "stream",
          "text": [
            "/usr/local/lib/python3.7/dist-packages/ipykernel_launcher.py:1: DeprecationWarning: KerasRegressor is deprecated, use Sci-Keras (https://github.com/adriangb/scikeras) instead. See https://www.adriangb.com/scikeras/stable/migration.html for help migrating.\n",
            "  \"\"\"Entry point for launching an IPython kernel.\n"
          ]
        }
      ],
      "source": [
        "keras_reg = keras.wrappers.scikit_learn.KerasRegressor(build_model)"
      ]
    },
    {
      "cell_type": "markdown",
      "metadata": {
        "id": "fUo6pP6JdqN-"
      },
      "source": [
        "We want to train hundreds of variants and see which one performs best on the validation set. Since there are many hyperparameters, it is preferable to use a randomized search rather than grid search. \n",
        "\n",
        "Let’s try to explore the number of hidden layers, the number of neurons, and the learning rate:"
      ]
    },
    {
      "cell_type": "code",
      "execution_count": null,
      "metadata": {
        "id": "JKMjD2XHdqN_"
      },
      "outputs": [],
      "source": [
        "param_distribs = {\n",
        "    \"n_hidden\": [0, 1, 2, 3],\n",
        "    \"n_neurons\": np.arange(1, 100),\n",
        "    \"learning_rate\": reciprocal(3e-4, 3e-2),\n",
        "}"
      ]
    },
    {
      "cell_type": "code",
      "execution_count": null,
      "metadata": {
        "colab": {
          "base_uri": "https://localhost:8080/"
        },
        "id": "Nl4MtAGwdqOA",
        "outputId": "8c92990a-1df8-41cc-df9a-4bd2a5f16d06"
      },
      "outputs": [
        {
          "name": "stdout",
          "output_type": "stream",
          "text": [
            "Epoch 1/100\n",
            "355/355 [==============================] - 1s 3ms/step - loss: 35687347118931968.0000 - val_loss: 66503249920.0000\n",
            "Epoch 2/100\n",
            "355/355 [==============================] - 1s 2ms/step - loss: 20006658048.0000 - val_loss: 12863083520.0000\n",
            "Epoch 3/100\n",
            "355/355 [==============================] - 1s 2ms/step - loss: 15153284096.0000 - val_loss: 12834814976.0000\n",
            "Epoch 4/100\n",
            "355/355 [==============================] - 1s 2ms/step - loss: 15147398144.0000 - val_loss: 12795695104.0000\n",
            "Epoch 5/100\n",
            "355/355 [==============================] - 1s 2ms/step - loss: 15152366592.0000 - val_loss: 12815329280.0000\n",
            "Epoch 6/100\n",
            "355/355 [==============================] - 1s 2ms/step - loss: 15149869056.0000 - val_loss: 12831555584.0000\n",
            "Epoch 7/100\n",
            "355/355 [==============================] - 1s 2ms/step - loss: 15150866432.0000 - val_loss: 12803919872.0000\n",
            "Epoch 8/100\n",
            "355/355 [==============================] - 1s 2ms/step - loss: 15150437376.0000 - val_loss: 12831808512.0000\n",
            "Epoch 9/100\n",
            "355/355 [==============================] - 1s 2ms/step - loss: 15151600640.0000 - val_loss: 12807264256.0000\n",
            "Epoch 10/100\n",
            "355/355 [==============================] - 1s 2ms/step - loss: 15152178176.0000 - val_loss: 12818038784.0000\n",
            "Epoch 11/100\n",
            "355/355 [==============================] - 1s 2ms/step - loss: 15148919808.0000 - val_loss: 12811130880.0000\n",
            "Epoch 12/100\n",
            "355/355 [==============================] - 1s 2ms/step - loss: 15149544448.0000 - val_loss: 12807334912.0000\n",
            "Epoch 13/100\n",
            "355/355 [==============================] - 1s 2ms/step - loss: 15148908544.0000 - val_loss: 12814507008.0000\n",
            "Epoch 14/100\n",
            "355/355 [==============================] - 1s 2ms/step - loss: 15151098880.0000 - val_loss: 12837042176.0000\n",
            "178/178 [==============================] - 1s 2ms/step - loss: 10143247360.0000\n",
            "Epoch 1/100\n",
            "355/355 [==============================] - 1s 2ms/step - loss: 22351510172073984.0000 - val_loss: 32860618752.0000\n",
            "Epoch 2/100\n",
            "355/355 [==============================] - 1s 2ms/step - loss: 14190465024.0000 - val_loss: 12794771456.0000\n",
            "Epoch 3/100\n",
            "355/355 [==============================] - 1s 2ms/step - loss: 12383262720.0000 - val_loss: 12825137152.0000\n",
            "Epoch 4/100\n",
            "355/355 [==============================] - 1s 2ms/step - loss: 12384935936.0000 - val_loss: 12803098624.0000\n",
            "Epoch 5/100\n",
            "355/355 [==============================] - 1s 2ms/step - loss: 12383781888.0000 - val_loss: 12791874560.0000\n",
            "Epoch 6/100\n",
            "355/355 [==============================] - 1s 2ms/step - loss: 12384136192.0000 - val_loss: 12804720640.0000\n",
            "Epoch 7/100\n",
            "355/355 [==============================] - 1s 2ms/step - loss: 12384958464.0000 - val_loss: 12793538560.0000\n",
            "Epoch 8/100\n",
            "355/355 [==============================] - 1s 2ms/step - loss: 12385030144.0000 - val_loss: 12802010112.0000\n",
            "Epoch 9/100\n",
            "355/355 [==============================] - 1s 2ms/step - loss: 12384558080.0000 - val_loss: 12812804096.0000\n",
            "Epoch 10/100\n",
            "355/355 [==============================] - 1s 2ms/step - loss: 12381981696.0000 - val_loss: 12812497920.0000\n",
            "Epoch 11/100\n",
            "355/355 [==============================] - 1s 2ms/step - loss: 12386046976.0000 - val_loss: 12793123840.0000\n",
            "Epoch 12/100\n",
            "355/355 [==============================] - 1s 2ms/step - loss: 12384365568.0000 - val_loss: 12795220992.0000\n",
            "Epoch 13/100\n",
            "355/355 [==============================] - 1s 2ms/step - loss: 12385025024.0000 - val_loss: 12801051648.0000\n",
            "Epoch 14/100\n",
            "355/355 [==============================] - 1s 2ms/step - loss: 12386088960.0000 - val_loss: 12796500992.0000\n",
            "Epoch 15/100\n",
            "355/355 [==============================] - 1s 2ms/step - loss: 12385289216.0000 - val_loss: 12804208640.0000\n",
            "178/178 [==============================] - 1s 2ms/step - loss: 15605126144.0000\n",
            "Epoch 1/100\n",
            "355/355 [==============================] - 1s 3ms/step - loss: 95955848634826752.0000 - val_loss: 210071027712.0000\n",
            "Epoch 2/100\n",
            "355/355 [==============================] - 1s 2ms/step - loss: 29638723584.0000 - val_loss: 12841333760.0000\n",
            "Epoch 3/100\n",
            "355/355 [==============================] - 1s 2ms/step - loss: 12783982592.0000 - val_loss: 12796109824.0000\n",
            "Epoch 4/100\n",
            "355/355 [==============================] - 1s 2ms/step - loss: 12785475584.0000 - val_loss: 12802530304.0000\n",
            "Epoch 5/100\n",
            "355/355 [==============================] - 1s 2ms/step - loss: 12786028544.0000 - val_loss: 12798820352.0000\n",
            "Epoch 6/100\n",
            "355/355 [==============================] - 1s 2ms/step - loss: 12784517120.0000 - val_loss: 12803986432.0000\n",
            "Epoch 7/100\n",
            "355/355 [==============================] - 1s 2ms/step - loss: 12786683904.0000 - val_loss: 12818007040.0000\n",
            "Epoch 8/100\n",
            "355/355 [==============================] - 1s 2ms/step - loss: 12785503232.0000 - val_loss: 12841084928.0000\n",
            "Epoch 9/100\n",
            "355/355 [==============================] - 1s 2ms/step - loss: 12786557952.0000 - val_loss: 12830483456.0000\n",
            "Epoch 10/100\n",
            "355/355 [==============================] - 1s 2ms/step - loss: 12788139008.0000 - val_loss: 12806461440.0000\n",
            "Epoch 11/100\n",
            "355/355 [==============================] - 1s 2ms/step - loss: 12785452032.0000 - val_loss: 12804008960.0000\n",
            "Epoch 12/100\n",
            "355/355 [==============================] - 1s 2ms/step - loss: 12786368512.0000 - val_loss: 12815065088.0000\n",
            "Epoch 13/100\n",
            "355/355 [==============================] - 1s 2ms/step - loss: 12786315264.0000 - val_loss: 12811957248.0000\n",
            "178/178 [==============================] - 0s 2ms/step - loss: 14895932416.0000\n",
            "Epoch 1/100\n",
            "355/355 [==============================] - 1s 3ms/step - loss: nan - val_loss: nan\n",
            "Epoch 2/100\n",
            "355/355 [==============================] - 1s 2ms/step - loss: nan - val_loss: nan\n",
            "Epoch 3/100\n",
            "355/355 [==============================] - 1s 2ms/step - loss: nan - val_loss: nan\n",
            "Epoch 4/100\n",
            "355/355 [==============================] - 1s 2ms/step - loss: nan - val_loss: nan\n",
            "Epoch 5/100\n",
            "355/355 [==============================] - 1s 2ms/step - loss: nan - val_loss: nan\n",
            "Epoch 6/100\n",
            "355/355 [==============================] - 1s 2ms/step - loss: nan - val_loss: nan\n",
            "Epoch 7/100\n",
            "355/355 [==============================] - 1s 4ms/step - loss: nan - val_loss: nan\n",
            "Epoch 8/100\n",
            "355/355 [==============================] - 1s 4ms/step - loss: nan - val_loss: nan\n",
            "Epoch 9/100\n",
            "355/355 [==============================] - 1s 2ms/step - loss: nan - val_loss: nan\n",
            "Epoch 10/100\n",
            "355/355 [==============================] - 1s 2ms/step - loss: nan - val_loss: nan\n",
            "178/178 [==============================] - 1s 2ms/step - loss: nan\n",
            "Epoch 1/100\n",
            "355/355 [==============================] - 1s 3ms/step - loss: nan - val_loss: nan\n",
            "Epoch 2/100\n",
            "355/355 [==============================] - 1s 2ms/step - loss: nan - val_loss: nan\n",
            "Epoch 3/100\n",
            "355/355 [==============================] - 1s 2ms/step - loss: nan - val_loss: nan\n",
            "Epoch 4/100\n",
            "355/355 [==============================] - 1s 3ms/step - loss: nan - val_loss: nan\n",
            "Epoch 5/100\n",
            "355/355 [==============================] - 1s 3ms/step - loss: nan - val_loss: nan\n",
            "Epoch 6/100\n",
            "355/355 [==============================] - 1s 2ms/step - loss: nan - val_loss: nan\n",
            "Epoch 7/100\n",
            "355/355 [==============================] - 1s 3ms/step - loss: nan - val_loss: nan\n",
            "Epoch 8/100\n",
            "355/355 [==============================] - 1s 3ms/step - loss: nan - val_loss: nan\n",
            "Epoch 9/100\n",
            "355/355 [==============================] - 1s 3ms/step - loss: nan - val_loss: nan\n",
            "Epoch 10/100\n",
            "355/355 [==============================] - 1s 2ms/step - loss: nan - val_loss: nan\n",
            "178/178 [==============================] - 1s 2ms/step - loss: nan\n",
            "Epoch 1/100\n",
            "355/355 [==============================] - 1s 3ms/step - loss: nan - val_loss: nan\n",
            "Epoch 2/100\n",
            "355/355 [==============================] - 1s 3ms/step - loss: nan - val_loss: nan\n",
            "Epoch 3/100\n",
            "355/355 [==============================] - 1s 2ms/step - loss: nan - val_loss: nan\n",
            "Epoch 4/100\n",
            "355/355 [==============================] - 1s 2ms/step - loss: nan - val_loss: nan\n",
            "Epoch 5/100\n",
            "355/355 [==============================] - 1s 2ms/step - loss: nan - val_loss: nan\n",
            "Epoch 6/100\n",
            "355/355 [==============================] - 1s 2ms/step - loss: nan - val_loss: nan\n",
            "Epoch 7/100\n",
            "355/355 [==============================] - 1s 2ms/step - loss: nan - val_loss: nan\n",
            "Epoch 8/100\n",
            "355/355 [==============================] - 1s 2ms/step - loss: nan - val_loss: nan\n",
            "Epoch 9/100\n",
            "355/355 [==============================] - 1s 2ms/step - loss: nan - val_loss: nan\n",
            "Epoch 10/100\n",
            "355/355 [==============================] - 1s 2ms/step - loss: nan - val_loss: nan\n",
            "178/178 [==============================] - 1s 2ms/step - loss: nan\n",
            "Epoch 1/100\n",
            "355/355 [==============================] - 1s 3ms/step - loss: nan - val_loss: nan\n",
            "Epoch 2/100\n",
            "355/355 [==============================] - 1s 2ms/step - loss: nan - val_loss: nan\n",
            "Epoch 3/100\n",
            "355/355 [==============================] - 1s 3ms/step - loss: nan - val_loss: nan\n",
            "Epoch 4/100\n",
            "355/355 [==============================] - 1s 2ms/step - loss: nan - val_loss: nan\n",
            "Epoch 5/100\n",
            "355/355 [==============================] - 1s 2ms/step - loss: nan - val_loss: nan\n",
            "Epoch 6/100\n",
            "355/355 [==============================] - 1s 3ms/step - loss: nan - val_loss: nan\n",
            "Epoch 7/100\n",
            "355/355 [==============================] - 1s 3ms/step - loss: nan - val_loss: nan\n",
            "Epoch 8/100\n",
            "355/355 [==============================] - 1s 2ms/step - loss: nan - val_loss: nan\n",
            "Epoch 9/100\n",
            "355/355 [==============================] - 1s 2ms/step - loss: nan - val_loss: nan\n",
            "Epoch 10/100\n",
            "355/355 [==============================] - 1s 2ms/step - loss: nan - val_loss: nan\n",
            "178/178 [==============================] - 1s 3ms/step - loss: nan\n",
            "Epoch 1/100\n",
            "355/355 [==============================] - 2s 3ms/step - loss: nan - val_loss: nan\n",
            "Epoch 2/100\n",
            "355/355 [==============================] - 1s 2ms/step - loss: nan - val_loss: nan\n",
            "Epoch 3/100\n",
            "355/355 [==============================] - 1s 3ms/step - loss: nan - val_loss: nan\n",
            "Epoch 4/100\n",
            "355/355 [==============================] - 1s 2ms/step - loss: nan - val_loss: nan\n",
            "Epoch 5/100\n",
            "355/355 [==============================] - 1s 2ms/step - loss: nan - val_loss: nan\n",
            "Epoch 6/100\n",
            "355/355 [==============================] - 1s 2ms/step - loss: nan - val_loss: nan\n",
            "Epoch 7/100\n",
            "355/355 [==============================] - 1s 2ms/step - loss: nan - val_loss: nan\n",
            "Epoch 8/100\n",
            "355/355 [==============================] - 1s 2ms/step - loss: nan - val_loss: nan\n",
            "Epoch 9/100\n",
            "355/355 [==============================] - 1s 2ms/step - loss: nan - val_loss: nan\n",
            "Epoch 10/100\n",
            "355/355 [==============================] - 1s 2ms/step - loss: nan - val_loss: nan\n",
            "178/178 [==============================] - 1s 2ms/step - loss: nan\n",
            "Epoch 1/100\n",
            "355/355 [==============================] - 1s 3ms/step - loss: nan - val_loss: nan\n",
            "Epoch 2/100\n",
            "355/355 [==============================] - 1s 2ms/step - loss: nan - val_loss: nan\n",
            "Epoch 3/100\n",
            "355/355 [==============================] - 1s 2ms/step - loss: nan - val_loss: nan\n",
            "Epoch 4/100\n",
            "355/355 [==============================] - 1s 3ms/step - loss: nan - val_loss: nan\n",
            "Epoch 5/100\n",
            "355/355 [==============================] - 1s 3ms/step - loss: nan - val_loss: nan\n",
            "Epoch 6/100\n",
            "355/355 [==============================] - 1s 2ms/step - loss: nan - val_loss: nan\n",
            "Epoch 7/100\n",
            "355/355 [==============================] - 1s 2ms/step - loss: nan - val_loss: nan\n",
            "Epoch 8/100\n",
            "355/355 [==============================] - 1s 2ms/step - loss: nan - val_loss: nan\n",
            "Epoch 9/100\n",
            "355/355 [==============================] - 1s 3ms/step - loss: nan - val_loss: nan\n",
            "Epoch 10/100\n",
            "355/355 [==============================] - 1s 2ms/step - loss: nan - val_loss: nan\n",
            "178/178 [==============================] - 1s 2ms/step - loss: nan\n",
            "Epoch 1/100\n",
            "355/355 [==============================] - 1s 3ms/step - loss: nan - val_loss: nan\n",
            "Epoch 2/100\n",
            "355/355 [==============================] - 1s 2ms/step - loss: nan - val_loss: nan\n",
            "Epoch 3/100\n",
            "355/355 [==============================] - 1s 3ms/step - loss: nan - val_loss: nan\n",
            "Epoch 4/100\n",
            "355/355 [==============================] - 1s 2ms/step - loss: nan - val_loss: nan\n",
            "Epoch 5/100\n",
            "355/355 [==============================] - 1s 2ms/step - loss: nan - val_loss: nan\n",
            "Epoch 6/100\n",
            "355/355 [==============================] - 1s 2ms/step - loss: nan - val_loss: nan\n",
            "Epoch 7/100\n",
            "355/355 [==============================] - 1s 2ms/step - loss: nan - val_loss: nan\n",
            "Epoch 8/100\n",
            "355/355 [==============================] - 1s 2ms/step - loss: nan - val_loss: nan\n",
            "Epoch 9/100\n",
            "355/355 [==============================] - 1s 2ms/step - loss: nan - val_loss: nan\n",
            "Epoch 10/100\n",
            "355/355 [==============================] - 1s 2ms/step - loss: nan - val_loss: nan\n",
            "178/178 [==============================] - 1s 2ms/step - loss: nan\n",
            "Epoch 1/100\n",
            "355/355 [==============================] - 2s 3ms/step - loss: 26162720269139968.0000 - val_loss: 13863612416.0000\n",
            "Epoch 2/100\n",
            "355/355 [==============================] - 1s 2ms/step - loss: 12468436992.0000 - val_loss: 12826897408.0000\n",
            "Epoch 3/100\n",
            "355/355 [==============================] - 1s 2ms/step - loss: 12388247552.0000 - val_loss: 12793178112.0000\n",
            "Epoch 4/100\n",
            "355/355 [==============================] - 1s 2ms/step - loss: 12383784960.0000 - val_loss: 12793967616.0000\n",
            "Epoch 5/100\n",
            "355/355 [==============================] - 1s 4ms/step - loss: 12384559104.0000 - val_loss: 12829744128.0000\n",
            "Epoch 6/100\n",
            "355/355 [==============================] - 1s 4ms/step - loss: 12386027520.0000 - val_loss: 12804640768.0000\n",
            "Epoch 7/100\n",
            "355/355 [==============================] - 1s 2ms/step - loss: 12386974720.0000 - val_loss: 12798807040.0000\n",
            "Epoch 8/100\n",
            "355/355 [==============================] - 1s 2ms/step - loss: 12387312640.0000 - val_loss: 12808632320.0000\n",
            "Epoch 9/100\n",
            "355/355 [==============================] - 1s 2ms/step - loss: 12385909760.0000 - val_loss: 12807629824.0000\n",
            "Epoch 10/100\n",
            "355/355 [==============================] - 1s 2ms/step - loss: 12382895104.0000 - val_loss: 12794260480.0000\n",
            "Epoch 11/100\n",
            "355/355 [==============================] - 1s 2ms/step - loss: 12384173056.0000 - val_loss: 12794994688.0000\n",
            "Epoch 12/100\n",
            "355/355 [==============================] - 1s 2ms/step - loss: 12386866176.0000 - val_loss: 12792298496.0000\n",
            "Epoch 13/100\n",
            "355/355 [==============================] - 1s 2ms/step - loss: 12382396416.0000 - val_loss: 12791820288.0000\n",
            "Epoch 14/100\n",
            "355/355 [==============================] - 1s 2ms/step - loss: 12385766400.0000 - val_loss: 12820858880.0000\n",
            "Epoch 15/100\n",
            "355/355 [==============================] - 1s 2ms/step - loss: 12386095104.0000 - val_loss: 12829534208.0000\n",
            "Epoch 16/100\n",
            "355/355 [==============================] - 1s 2ms/step - loss: 12386487296.0000 - val_loss: 12804269056.0000\n",
            "Epoch 17/100\n",
            "355/355 [==============================] - 1s 2ms/step - loss: 12383165440.0000 - val_loss: 12792811520.0000\n",
            "Epoch 18/100\n",
            "355/355 [==============================] - 1s 2ms/step - loss: 12389276672.0000 - val_loss: 12804157440.0000\n",
            "Epoch 19/100\n",
            "355/355 [==============================] - 1s 2ms/step - loss: 12384730112.0000 - val_loss: 12794261504.0000\n",
            "Epoch 20/100\n",
            "355/355 [==============================] - 1s 2ms/step - loss: 12384909312.0000 - val_loss: 12812259328.0000\n",
            "Epoch 21/100\n",
            "355/355 [==============================] - 1s 2ms/step - loss: 12385627136.0000 - val_loss: 12812778496.0000\n",
            "Epoch 22/100\n",
            "355/355 [==============================] - 1s 2ms/step - loss: 12385113088.0000 - val_loss: 12792461312.0000\n",
            "Epoch 23/100\n",
            "355/355 [==============================] - 1s 2ms/step - loss: 12386193408.0000 - val_loss: 12791862272.0000\n",
            "178/178 [==============================] - 1s 2ms/step - loss: 15582321664.0000\n",
            "Epoch 1/100\n",
            "355/355 [==============================] - 1s 3ms/step - loss: 3816052741411700736.0000 - val_loss: 782547222528.0000\n",
            "Epoch 2/100\n",
            "355/355 [==============================] - 1s 2ms/step - loss: 64991690752.0000 - val_loss: 12798352384.0000\n",
            "Epoch 3/100\n",
            "355/355 [==============================] - 1s 2ms/step - loss: 12788290560.0000 - val_loss: 12830679040.0000\n",
            "Epoch 4/100\n",
            "355/355 [==============================] - 1s 2ms/step - loss: 12787490816.0000 - val_loss: 12811579392.0000\n",
            "Epoch 5/100\n",
            "355/355 [==============================] - 1s 2ms/step - loss: 12787101696.0000 - val_loss: 12839751680.0000\n",
            "Epoch 6/100\n",
            "355/355 [==============================] - 1s 2ms/step - loss: 12785231872.0000 - val_loss: 12805787648.0000\n",
            "Epoch 7/100\n",
            "355/355 [==============================] - 1s 2ms/step - loss: 12782448640.0000 - val_loss: 12792738816.0000\n",
            "Epoch 8/100\n",
            "355/355 [==============================] - 1s 2ms/step - loss: 12789312512.0000 - val_loss: 12800621568.0000\n",
            "Epoch 9/100\n",
            "355/355 [==============================] - 1s 2ms/step - loss: 12786056192.0000 - val_loss: 12816480256.0000\n",
            "Epoch 10/100\n",
            "355/355 [==============================] - 1s 2ms/step - loss: 12788013056.0000 - val_loss: 12804487168.0000\n",
            "Epoch 11/100\n",
            "355/355 [==============================] - 1s 2ms/step - loss: 12786787328.0000 - val_loss: 12798380032.0000\n",
            "Epoch 12/100\n",
            "355/355 [==============================] - 1s 3ms/step - loss: 12787500032.0000 - val_loss: 12801822720.0000\n",
            "Epoch 13/100\n",
            "355/355 [==============================] - 1s 2ms/step - loss: 12786640896.0000 - val_loss: 12797555712.0000\n",
            "Epoch 14/100\n",
            "355/355 [==============================] - 1s 2ms/step - loss: 12785763328.0000 - val_loss: 12797186048.0000\n",
            "Epoch 15/100\n",
            "355/355 [==============================] - 1s 2ms/step - loss: 12788088832.0000 - val_loss: 12811648000.0000\n",
            "Epoch 16/100\n",
            "355/355 [==============================] - 1s 3ms/step - loss: 12788925440.0000 - val_loss: 12805336064.0000\n",
            "Epoch 17/100\n",
            "355/355 [==============================] - 1s 2ms/step - loss: 12787270656.0000 - val_loss: 12802423808.0000\n",
            "178/178 [==============================] - 1s 3ms/step - loss: 14856297472.0000\n",
            "Epoch 1/100\n",
            "355/355 [==============================] - 1s 3ms/step - loss: nan - val_loss: nan\n",
            "Epoch 2/100\n",
            "355/355 [==============================] - 1s 2ms/step - loss: nan - val_loss: nan\n",
            "Epoch 3/100\n",
            "355/355 [==============================] - 1s 2ms/step - loss: nan - val_loss: nan\n",
            "Epoch 4/100\n",
            "355/355 [==============================] - 1s 3ms/step - loss: nan - val_loss: nan\n",
            "Epoch 5/100\n",
            "355/355 [==============================] - 1s 3ms/step - loss: nan - val_loss: nan\n",
            "Epoch 6/100\n",
            "355/355 [==============================] - 1s 2ms/step - loss: nan - val_loss: nan\n",
            "Epoch 7/100\n",
            "355/355 [==============================] - 1s 2ms/step - loss: nan - val_loss: nan\n",
            "Epoch 8/100\n",
            "355/355 [==============================] - 1s 2ms/step - loss: nan - val_loss: nan\n",
            "Epoch 9/100\n",
            "355/355 [==============================] - 1s 2ms/step - loss: nan - val_loss: nan\n",
            "Epoch 10/100\n",
            "355/355 [==============================] - 1s 3ms/step - loss: nan - val_loss: nan\n",
            "178/178 [==============================] - 1s 2ms/step - loss: nan\n",
            "Epoch 1/100\n",
            "355/355 [==============================] - 1s 3ms/step - loss: nan - val_loss: nan\n",
            "Epoch 2/100\n",
            "355/355 [==============================] - 1s 2ms/step - loss: nan - val_loss: nan\n",
            "Epoch 3/100\n",
            "355/355 [==============================] - 1s 2ms/step - loss: nan - val_loss: nan\n",
            "Epoch 4/100\n",
            "355/355 [==============================] - 1s 2ms/step - loss: nan - val_loss: nan\n",
            "Epoch 5/100\n",
            "355/355 [==============================] - 1s 3ms/step - loss: nan - val_loss: nan\n",
            "Epoch 6/100\n",
            "355/355 [==============================] - 2s 4ms/step - loss: nan - val_loss: nan\n",
            "Epoch 7/100\n",
            "355/355 [==============================] - 1s 4ms/step - loss: nan - val_loss: nan\n",
            "Epoch 8/100\n",
            "355/355 [==============================] - 1s 4ms/step - loss: nan - val_loss: nan\n",
            "Epoch 9/100\n",
            "355/355 [==============================] - 1s 3ms/step - loss: nan - val_loss: nan\n",
            "Epoch 10/100\n",
            "355/355 [==============================] - 1s 2ms/step - loss: nan - val_loss: nan\n",
            "178/178 [==============================] - 1s 2ms/step - loss: nan\n",
            "Epoch 1/100\n",
            "355/355 [==============================] - 1s 3ms/step - loss: nan - val_loss: nan\n",
            "Epoch 2/100\n",
            "355/355 [==============================] - 1s 2ms/step - loss: nan - val_loss: nan\n",
            "Epoch 3/100\n",
            "355/355 [==============================] - 1s 2ms/step - loss: nan - val_loss: nan\n",
            "Epoch 4/100\n",
            "355/355 [==============================] - 1s 3ms/step - loss: nan - val_loss: nan\n",
            "Epoch 5/100\n",
            "355/355 [==============================] - 1s 2ms/step - loss: nan - val_loss: nan\n",
            "Epoch 6/100\n",
            "355/355 [==============================] - 1s 2ms/step - loss: nan - val_loss: nan\n",
            "Epoch 7/100\n",
            "355/355 [==============================] - 1s 2ms/step - loss: nan - val_loss: nan\n",
            "Epoch 8/100\n",
            "355/355 [==============================] - 1s 2ms/step - loss: nan - val_loss: nan\n",
            "Epoch 9/100\n",
            "355/355 [==============================] - 1s 2ms/step - loss: nan - val_loss: nan\n",
            "Epoch 10/100\n",
            "355/355 [==============================] - 1s 2ms/step - loss: nan - val_loss: nan\n",
            "178/178 [==============================] - 1s 2ms/step - loss: nan\n",
            "Epoch 1/100\n",
            "355/355 [==============================] - 1s 3ms/step - loss: nan - val_loss: nan\n",
            "Epoch 2/100\n",
            "355/355 [==============================] - 1s 2ms/step - loss: nan - val_loss: nan\n",
            "Epoch 3/100\n",
            "355/355 [==============================] - 1s 4ms/step - loss: nan - val_loss: nan\n",
            "Epoch 4/100\n",
            "355/355 [==============================] - 1s 4ms/step - loss: nan - val_loss: nan\n",
            "Epoch 5/100\n",
            "355/355 [==============================] - 1s 2ms/step - loss: nan - val_loss: nan\n",
            "Epoch 6/100\n",
            "355/355 [==============================] - 1s 2ms/step - loss: nan - val_loss: nan\n",
            "Epoch 7/100\n",
            "355/355 [==============================] - 1s 2ms/step - loss: nan - val_loss: nan\n",
            "Epoch 8/100\n",
            "355/355 [==============================] - 1s 2ms/step - loss: nan - val_loss: nan\n",
            "Epoch 9/100\n",
            "355/355 [==============================] - 1s 2ms/step - loss: nan - val_loss: nan\n",
            "Epoch 10/100\n",
            "355/355 [==============================] - 1s 2ms/step - loss: nan - val_loss: nan\n",
            "178/178 [==============================] - 1s 2ms/step - loss: nan\n",
            "Epoch 1/100\n",
            "355/355 [==============================] - 1s 3ms/step - loss: 723256893325180928.0000 - val_loss: 135208132608.0000\n",
            "Epoch 2/100\n",
            "355/355 [==============================] - 1s 2ms/step - loss: 21170176000.0000 - val_loss: 12798926848.0000\n",
            "Epoch 3/100\n",
            "355/355 [==============================] - 1s 2ms/step - loss: 12386320384.0000 - val_loss: 12798552064.0000\n",
            "Epoch 4/100\n",
            "355/355 [==============================] - 1s 2ms/step - loss: 12386083840.0000 - val_loss: 12795539456.0000\n",
            "Epoch 5/100\n",
            "355/355 [==============================] - 1s 2ms/step - loss: 12384520192.0000 - val_loss: 12801808384.0000\n",
            "Epoch 6/100\n",
            "355/355 [==============================] - 1s 2ms/step - loss: 12385907712.0000 - val_loss: 12791827456.0000\n",
            "Epoch 7/100\n",
            "355/355 [==============================] - 1s 2ms/step - loss: 12387103744.0000 - val_loss: 12796752896.0000\n",
            "Epoch 8/100\n",
            "355/355 [==============================] - 1s 2ms/step - loss: 12386847744.0000 - val_loss: 12796659712.0000\n",
            "Epoch 9/100\n",
            "355/355 [==============================] - 1s 2ms/step - loss: 12386900992.0000 - val_loss: 12804914176.0000\n",
            "Epoch 10/100\n",
            "355/355 [==============================] - 1s 2ms/step - loss: 12385067008.0000 - val_loss: 12802622464.0000\n",
            "Epoch 11/100\n",
            "355/355 [==============================] - 1s 2ms/step - loss: 12384683008.0000 - val_loss: 12806228992.0000\n",
            "Epoch 12/100\n",
            "355/355 [==============================] - 1s 2ms/step - loss: 12385694720.0000 - val_loss: 12793242624.0000\n",
            "Epoch 13/100\n",
            "355/355 [==============================] - 1s 2ms/step - loss: 12385798144.0000 - val_loss: 12791904256.0000\n",
            "Epoch 14/100\n",
            "355/355 [==============================] - 1s 2ms/step - loss: 12386172928.0000 - val_loss: 12823028736.0000\n",
            "Epoch 15/100\n",
            "355/355 [==============================] - 1s 2ms/step - loss: 12384399360.0000 - val_loss: 12806841344.0000\n",
            "Epoch 16/100\n",
            "355/355 [==============================] - 1s 2ms/step - loss: 12386985984.0000 - val_loss: 12805331968.0000\n",
            "178/178 [==============================] - 1s 2ms/step - loss: 15606740992.0000\n",
            "Epoch 1/100\n",
            "355/355 [==============================] - 1s 2ms/step - loss: nan - val_loss: nan\n",
            "Epoch 2/100\n",
            "355/355 [==============================] - 1s 2ms/step - loss: nan - val_loss: nan\n",
            "Epoch 3/100\n",
            "355/355 [==============================] - 1s 2ms/step - loss: nan - val_loss: nan\n",
            "Epoch 4/100\n",
            "355/355 [==============================] - 1s 2ms/step - loss: nan - val_loss: nan\n",
            "Epoch 5/100\n",
            "355/355 [==============================] - 1s 2ms/step - loss: nan - val_loss: nan\n",
            "Epoch 6/100\n",
            "355/355 [==============================] - 1s 2ms/step - loss: nan - val_loss: nan\n",
            "Epoch 7/100\n",
            "355/355 [==============================] - 1s 2ms/step - loss: nan - val_loss: nan\n",
            "Epoch 8/100\n",
            "355/355 [==============================] - 1s 2ms/step - loss: nan - val_loss: nan\n",
            "Epoch 9/100\n",
            "355/355 [==============================] - 1s 2ms/step - loss: nan - val_loss: nan\n",
            "Epoch 10/100\n",
            "355/355 [==============================] - 1s 2ms/step - loss: nan - val_loss: nan\n",
            "178/178 [==============================] - 1s 2ms/step - loss: nan\n",
            "Epoch 1/100\n",
            "355/355 [==============================] - 1s 3ms/step - loss: nan - val_loss: nan\n",
            "Epoch 2/100\n",
            "355/355 [==============================] - 1s 2ms/step - loss: nan - val_loss: nan\n",
            "Epoch 3/100\n",
            "355/355 [==============================] - 1s 2ms/step - loss: nan - val_loss: nan\n",
            "Epoch 4/100\n",
            "355/355 [==============================] - 1s 2ms/step - loss: nan - val_loss: nan\n",
            "Epoch 5/100\n",
            "355/355 [==============================] - 1s 2ms/step - loss: nan - val_loss: nan\n",
            "Epoch 6/100\n",
            "355/355 [==============================] - 1s 2ms/step - loss: nan - val_loss: nan\n",
            "Epoch 7/100\n",
            "355/355 [==============================] - 1s 2ms/step - loss: nan - val_loss: nan\n",
            "Epoch 8/100\n",
            "355/355 [==============================] - 1s 3ms/step - loss: nan - val_loss: nan\n",
            "Epoch 9/100\n",
            "355/355 [==============================] - 1s 4ms/step - loss: nan - val_loss: nan\n",
            "Epoch 10/100\n",
            "355/355 [==============================] - 1s 3ms/step - loss: nan - val_loss: nan\n",
            "178/178 [==============================] - 1s 2ms/step - loss: nan\n",
            "Epoch 1/100\n",
            "355/355 [==============================] - 1s 3ms/step - loss: nan - val_loss: nan\n",
            "Epoch 2/100\n",
            "355/355 [==============================] - 1s 2ms/step - loss: nan - val_loss: nan\n",
            "Epoch 3/100\n",
            "355/355 [==============================] - 1s 2ms/step - loss: nan - val_loss: nan\n",
            "Epoch 4/100\n",
            "355/355 [==============================] - 1s 2ms/step - loss: nan - val_loss: nan\n",
            "Epoch 5/100\n",
            "355/355 [==============================] - 1s 2ms/step - loss: nan - val_loss: nan\n",
            "Epoch 6/100\n",
            "355/355 [==============================] - 1s 3ms/step - loss: nan - val_loss: nan\n",
            "Epoch 7/100\n",
            "355/355 [==============================] - 1s 2ms/step - loss: nan - val_loss: nan\n",
            "Epoch 8/100\n",
            "355/355 [==============================] - 1s 2ms/step - loss: nan - val_loss: nan\n",
            "Epoch 9/100\n",
            "355/355 [==============================] - 1s 2ms/step - loss: nan - val_loss: nan\n",
            "Epoch 10/100\n",
            "355/355 [==============================] - 1s 2ms/step - loss: nan - val_loss: nan\n",
            "178/178 [==============================] - 1s 2ms/step - loss: nan\n",
            "Epoch 1/100\n",
            "355/355 [==============================] - 1s 3ms/step - loss: nan - val_loss: nan\n",
            "Epoch 2/100\n",
            "355/355 [==============================] - 1s 2ms/step - loss: nan - val_loss: nan\n",
            "Epoch 3/100\n",
            "355/355 [==============================] - 1s 2ms/step - loss: nan - val_loss: nan\n",
            "Epoch 4/100\n",
            "355/355 [==============================] - 1s 2ms/step - loss: nan - val_loss: nan\n",
            "Epoch 5/100\n",
            "355/355 [==============================] - 1s 2ms/step - loss: nan - val_loss: nan\n",
            "Epoch 6/100\n",
            "355/355 [==============================] - 1s 2ms/step - loss: nan - val_loss: nan\n",
            "Epoch 7/100\n",
            "355/355 [==============================] - 1s 3ms/step - loss: nan - val_loss: nan\n",
            "Epoch 8/100\n",
            "355/355 [==============================] - 1s 2ms/step - loss: nan - val_loss: nan\n",
            "Epoch 9/100\n",
            "355/355 [==============================] - 1s 2ms/step - loss: nan - val_loss: nan\n",
            "Epoch 10/100\n",
            "355/355 [==============================] - 1s 2ms/step - loss: nan - val_loss: nan\n",
            "178/178 [==============================] - 1s 2ms/step - loss: nan\n",
            "Epoch 1/100\n",
            "355/355 [==============================] - 1s 3ms/step - loss: nan - val_loss: nan\n",
            "Epoch 2/100\n",
            "355/355 [==============================] - 1s 2ms/step - loss: nan - val_loss: nan\n",
            "Epoch 3/100\n",
            "355/355 [==============================] - 1s 2ms/step - loss: nan - val_loss: nan\n",
            "Epoch 4/100\n",
            "355/355 [==============================] - 1s 2ms/step - loss: nan - val_loss: nan\n",
            "Epoch 5/100\n",
            "355/355 [==============================] - 1s 2ms/step - loss: nan - val_loss: nan\n",
            "Epoch 6/100\n",
            "355/355 [==============================] - 1s 2ms/step - loss: nan - val_loss: nan\n",
            "Epoch 7/100\n",
            "355/355 [==============================] - 1s 2ms/step - loss: nan - val_loss: nan\n",
            "Epoch 8/100\n",
            "355/355 [==============================] - 1s 2ms/step - loss: nan - val_loss: nan\n",
            "Epoch 9/100\n",
            "355/355 [==============================] - 1s 2ms/step - loss: nan - val_loss: nan\n",
            "Epoch 10/100\n",
            "355/355 [==============================] - 1s 2ms/step - loss: nan - val_loss: nan\n",
            "178/178 [==============================] - 1s 2ms/step - loss: nan\n",
            "Epoch 1/100\n",
            "355/355 [==============================] - 1s 3ms/step - loss: nan - val_loss: nan\n",
            "Epoch 2/100\n",
            "355/355 [==============================] - 1s 2ms/step - loss: nan - val_loss: nan\n",
            "Epoch 3/100\n",
            "355/355 [==============================] - 1s 3ms/step - loss: nan - val_loss: nan\n",
            "Epoch 4/100\n",
            "355/355 [==============================] - 1s 3ms/step - loss: nan - val_loss: nan\n",
            "Epoch 5/100\n",
            "355/355 [==============================] - 1s 4ms/step - loss: nan - val_loss: nan\n",
            "Epoch 6/100\n",
            "355/355 [==============================] - 1s 3ms/step - loss: nan - val_loss: nan\n",
            "Epoch 7/100\n",
            "355/355 [==============================] - 1s 2ms/step - loss: nan - val_loss: nan\n",
            "Epoch 8/100\n",
            "355/355 [==============================] - 1s 2ms/step - loss: nan - val_loss: nan\n",
            "Epoch 9/100\n",
            "355/355 [==============================] - 1s 2ms/step - loss: nan - val_loss: nan\n",
            "Epoch 10/100\n",
            "355/355 [==============================] - 1s 2ms/step - loss: nan - val_loss: nan\n",
            "178/178 [==============================] - 1s 4ms/step - loss: nan\n",
            "Epoch 1/100\n",
            "355/355 [==============================] - 1s 3ms/step - loss: nan - val_loss: nan\n",
            "Epoch 2/100\n",
            "355/355 [==============================] - 1s 2ms/step - loss: nan - val_loss: nan\n",
            "Epoch 3/100\n",
            "355/355 [==============================] - 1s 2ms/step - loss: nan - val_loss: nan\n",
            "Epoch 4/100\n",
            "355/355 [==============================] - 1s 3ms/step - loss: nan - val_loss: nan\n",
            "Epoch 5/100\n",
            "355/355 [==============================] - 1s 2ms/step - loss: nan - val_loss: nan\n",
            "Epoch 6/100\n",
            "355/355 [==============================] - 1s 3ms/step - loss: nan - val_loss: nan\n",
            "Epoch 7/100\n",
            "355/355 [==============================] - 1s 2ms/step - loss: nan - val_loss: nan\n",
            "Epoch 8/100\n",
            "355/355 [==============================] - 1s 2ms/step - loss: nan - val_loss: nan\n",
            "Epoch 9/100\n",
            "355/355 [==============================] - 1s 2ms/step - loss: nan - val_loss: nan\n",
            "Epoch 10/100\n",
            "355/355 [==============================] - 1s 2ms/step - loss: nan - val_loss: nan\n",
            "178/178 [==============================] - 1s 2ms/step - loss: nan\n",
            "Epoch 1/100\n",
            "355/355 [==============================] - 1s 3ms/step - loss: 50463715328.0000 - val_loss: 38414110720.0000\n",
            "Epoch 2/100\n",
            "355/355 [==============================] - 1s 2ms/step - loss: 36814352384.0000 - val_loss: 28227289088.0000\n",
            "Epoch 3/100\n",
            "355/355 [==============================] - 1s 2ms/step - loss: 28442318848.0000 - val_loss: 22031298560.0000\n",
            "Epoch 4/100\n",
            "355/355 [==============================] - 1s 2ms/step - loss: 23297292288.0000 - val_loss: 18292860928.0000\n",
            "Epoch 5/100\n",
            "355/355 [==============================] - 1s 2ms/step - loss: 20149602304.0000 - val_loss: 16027163648.0000\n",
            "Epoch 6/100\n",
            "355/355 [==============================] - 1s 2ms/step - loss: 18212229120.0000 - val_loss: 14678950912.0000\n",
            "Epoch 7/100\n",
            "355/355 [==============================] - 1s 2ms/step - loss: 17028773888.0000 - val_loss: 13870906368.0000\n",
            "Epoch 8/100\n",
            "355/355 [==============================] - 1s 2ms/step - loss: 16299701248.0000 - val_loss: 13393495040.0000\n",
            "Epoch 9/100\n",
            "355/355 [==============================] - 1s 2ms/step - loss: 15851397120.0000 - val_loss: 13120036864.0000\n",
            "Epoch 10/100\n",
            "355/355 [==============================] - 1s 2ms/step - loss: 15580270592.0000 - val_loss: 12962412544.0000\n",
            "Epoch 11/100\n",
            "355/355 [==============================] - 1s 2ms/step - loss: 15413210112.0000 - val_loss: 12874270720.0000\n",
            "Epoch 12/100\n",
            "355/355 [==============================] - 1s 2ms/step - loss: 15310344192.0000 - val_loss: 12827811840.0000\n",
            "Epoch 13/100\n",
            "355/355 [==============================] - 1s 2ms/step - loss: 15247121408.0000 - val_loss: 12804403200.0000\n",
            "Epoch 14/100\n",
            "355/355 [==============================] - 1s 2ms/step - loss: 15207975936.0000 - val_loss: 12794269696.0000\n",
            "Epoch 15/100\n",
            "355/355 [==============================] - 1s 2ms/step - loss: 15183392768.0000 - val_loss: 12791804928.0000\n",
            "Epoch 16/100\n",
            "355/355 [==============================] - 1s 2ms/step - loss: 15168662528.0000 - val_loss: 12792955904.0000\n",
            "Epoch 17/100\n",
            "355/355 [==============================] - 1s 2ms/step - loss: 15160101888.0000 - val_loss: 12795803648.0000\n",
            "Epoch 18/100\n",
            "355/355 [==============================] - 1s 2ms/step - loss: 15154466816.0000 - val_loss: 12799193088.0000\n",
            "Epoch 19/100\n",
            "355/355 [==============================] - 1s 2ms/step - loss: 15151051776.0000 - val_loss: 12802665472.0000\n",
            "Epoch 20/100\n",
            "355/355 [==============================] - 1s 2ms/step - loss: 15148940288.0000 - val_loss: 12806063104.0000\n",
            "Epoch 21/100\n",
            "355/355 [==============================] - 1s 2ms/step - loss: 15147604992.0000 - val_loss: 12809147392.0000\n",
            "Epoch 22/100\n",
            "355/355 [==============================] - 1s 2ms/step - loss: 15146836992.0000 - val_loss: 12811307008.0000\n",
            "Epoch 23/100\n",
            "355/355 [==============================] - 1s 2ms/step - loss: 15146390528.0000 - val_loss: 12813296640.0000\n",
            "Epoch 24/100\n",
            "355/355 [==============================] - 1s 2ms/step - loss: 15146092544.0000 - val_loss: 12814813184.0000\n",
            "Epoch 25/100\n",
            "355/355 [==============================] - 1s 2ms/step - loss: 15145950208.0000 - val_loss: 12815737856.0000\n",
            "178/178 [==============================] - 1s 3ms/step - loss: 10098921472.0000\n",
            "Epoch 1/100\n",
            "355/355 [==============================] - 1s 2ms/step - loss: 155142356992.0000 - val_loss: 39723216896.0000\n",
            "Epoch 2/100\n",
            "355/355 [==============================] - 1s 2ms/step - loss: 34497200128.0000 - val_loss: 29165086720.0000\n",
            "Epoch 3/100\n",
            "355/355 [==============================] - 1s 2ms/step - loss: 25965058048.0000 - val_loss: 22719678464.0000\n",
            "Epoch 4/100\n",
            "355/355 [==============================] - 1s 2ms/step - loss: 20721225728.0000 - val_loss: 18778578944.0000\n",
            "Epoch 5/100\n",
            "355/355 [==============================] - 1s 2ms/step - loss: 17494605824.0000 - val_loss: 16388732928.0000\n",
            "Epoch 6/100\n",
            "355/355 [==============================] - 1s 2ms/step - loss: 15521482752.0000 - val_loss: 14940803072.0000\n",
            "Epoch 7/100\n",
            "355/355 [==============================] - 1s 2ms/step - loss: 14309537792.0000 - val_loss: 14065464320.0000\n",
            "Epoch 8/100\n",
            "355/355 [==============================] - 1s 2ms/step - loss: 13564890112.0000 - val_loss: 13537717248.0000\n",
            "Epoch 9/100\n",
            "355/355 [==============================] - 1s 2ms/step - loss: 13107316736.0000 - val_loss: 13223280640.0000\n",
            "Epoch 10/100\n",
            "355/355 [==============================] - 1s 2ms/step - loss: 12827836416.0000 - val_loss: 13036237824.0000\n",
            "Epoch 11/100\n",
            "355/355 [==============================] - 1s 2ms/step - loss: 12655261696.0000 - val_loss: 12926828544.0000\n",
            "Epoch 12/100\n",
            "355/355 [==============================] - 1s 2ms/step - loss: 12549890048.0000 - val_loss: 12862832640.0000\n",
            "Epoch 13/100\n",
            "355/355 [==============================] - 1s 2ms/step - loss: 12483998720.0000 - val_loss: 12827596800.0000\n",
            "Epoch 14/100\n",
            "355/355 [==============================] - 1s 2ms/step - loss: 12444478464.0000 - val_loss: 12807861248.0000\n",
            "Epoch 15/100\n",
            "355/355 [==============================] - 1s 2ms/step - loss: 12419601408.0000 - val_loss: 12797932544.0000\n",
            "Epoch 16/100\n",
            "355/355 [==============================] - 1s 2ms/step - loss: 12404458496.0000 - val_loss: 12793392128.0000\n",
            "Epoch 17/100\n",
            "355/355 [==============================] - 1s 2ms/step - loss: 12395226112.0000 - val_loss: 12791908352.0000\n",
            "Epoch 18/100\n",
            "355/355 [==============================] - 1s 2ms/step - loss: 12389535744.0000 - val_loss: 12792004608.0000\n",
            "Epoch 19/100\n",
            "355/355 [==============================] - 1s 2ms/step - loss: 12385910784.0000 - val_loss: 12792808448.0000\n",
            "Epoch 20/100\n",
            "355/355 [==============================] - 1s 2ms/step - loss: 12383954944.0000 - val_loss: 12793738240.0000\n",
            "Epoch 21/100\n",
            "355/355 [==============================] - 1s 2ms/step - loss: 12382889984.0000 - val_loss: 12794816512.0000\n",
            "Epoch 22/100\n",
            "355/355 [==============================] - 1s 2ms/step - loss: 12382139392.0000 - val_loss: 12795712512.0000\n",
            "Epoch 23/100\n",
            "355/355 [==============================] - 1s 2ms/step - loss: 12381704192.0000 - val_loss: 12796535808.0000\n",
            "Epoch 24/100\n",
            "355/355 [==============================] - 1s 2ms/step - loss: 12381423616.0000 - val_loss: 12797254656.0000\n",
            "Epoch 25/100\n",
            "355/355 [==============================] - 1s 2ms/step - loss: 12381234176.0000 - val_loss: 12797976576.0000\n",
            "Epoch 26/100\n",
            "355/355 [==============================] - 1s 3ms/step - loss: 12381084672.0000 - val_loss: 12798593024.0000\n",
            "Epoch 27/100\n",
            "355/355 [==============================] - 1s 2ms/step - loss: 12380989440.0000 - val_loss: 12798994432.0000\n",
            "178/178 [==============================] - 1s 2ms/step - loss: 15597216768.0000\n",
            "Epoch 1/100\n",
            "355/355 [==============================] - 1s 3ms/step - loss: 19357654581248.0000 - val_loss: 55518068736.0000\n",
            "Epoch 2/100\n",
            "355/355 [==============================] - 1s 2ms/step - loss: 45349191680.0000 - val_loss: 39298342912.0000\n",
            "Epoch 3/100\n",
            "355/355 [==============================] - 1s 2ms/step - loss: 32774672384.0000 - val_loss: 29265930240.0000\n",
            "Epoch 4/100\n",
            "355/355 [==============================] - 1s 2ms/step - loss: 25042636800.0000 - val_loss: 23077060608.0000\n",
            "Epoch 5/100\n",
            "355/355 [==============================] - 1s 2ms/step - loss: 20311140352.0000 - val_loss: 19250423808.0000\n",
            "Epoch 6/100\n",
            "355/355 [==============================] - 1s 2ms/step - loss: 17409382400.0000 - val_loss: 16866956288.0000\n",
            "Epoch 7/100\n",
            "355/355 [==============================] - 1s 2ms/step - loss: 15625856000.0000 - val_loss: 15379738624.0000\n",
            "Epoch 8/100\n",
            "355/355 [==============================] - 1s 2ms/step - loss: 14527350784.0000 - val_loss: 14451266560.0000\n",
            "Epoch 9/100\n",
            "355/355 [==============================] - 1s 2ms/step - loss: 13854295040.0000 - val_loss: 13860587520.0000\n",
            "Epoch 10/100\n",
            "355/355 [==============================] - 1s 2ms/step - loss: 13437493248.0000 - val_loss: 13492146176.0000\n",
            "Epoch 11/100\n",
            "355/355 [==============================] - 1s 2ms/step - loss: 13183685632.0000 - val_loss: 13255929856.0000\n",
            "Epoch 12/100\n",
            "355/355 [==============================] - 1s 2ms/step - loss: 13027660800.0000 - val_loss: 13106026496.0000\n",
            "Epoch 13/100\n",
            "355/355 [==============================] - 1s 2ms/step - loss: 12932674560.0000 - val_loss: 13007810560.0000\n",
            "Epoch 14/100\n",
            "355/355 [==============================] - 1s 2ms/step - loss: 12873804800.0000 - val_loss: 12945007616.0000\n",
            "Epoch 15/100\n",
            "355/355 [==============================] - 1s 2ms/step - loss: 12838922240.0000 - val_loss: 12903984128.0000\n",
            "Epoch 16/100\n",
            "355/355 [==============================] - 1s 2ms/step - loss: 12817332224.0000 - val_loss: 12875667456.0000\n",
            "Epoch 17/100\n",
            "355/355 [==============================] - 1s 2ms/step - loss: 12803930112.0000 - val_loss: 12855954432.0000\n",
            "Epoch 18/100\n",
            "355/355 [==============================] - 1s 2ms/step - loss: 12795438080.0000 - val_loss: 12842414080.0000\n",
            "Epoch 19/100\n",
            "355/355 [==============================] - 1s 2ms/step - loss: 12790342656.0000 - val_loss: 12833338368.0000\n",
            "Epoch 20/100\n",
            "355/355 [==============================] - 1s 2ms/step - loss: 12787261440.0000 - val_loss: 12826553344.0000\n",
            "Epoch 21/100\n",
            "355/355 [==============================] - 1s 2ms/step - loss: 12785295360.0000 - val_loss: 12822012928.0000\n",
            "Epoch 22/100\n",
            "355/355 [==============================] - 1s 2ms/step - loss: 12784189440.0000 - val_loss: 12818524160.0000\n",
            "Epoch 23/100\n",
            "355/355 [==============================] - 1s 2ms/step - loss: 12783497216.0000 - val_loss: 12816316416.0000\n",
            "Epoch 24/100\n",
            "355/355 [==============================] - 1s 2ms/step - loss: 12783062016.0000 - val_loss: 12814138368.0000\n",
            "Epoch 25/100\n",
            "355/355 [==============================] - 1s 2ms/step - loss: 12782799872.0000 - val_loss: 12813035520.0000\n",
            "Epoch 26/100\n",
            "355/355 [==============================] - 1s 2ms/step - loss: 12782620672.0000 - val_loss: 12811731968.0000\n",
            "Epoch 27/100\n",
            "355/355 [==============================] - 1s 2ms/step - loss: 12782500864.0000 - val_loss: 12811041792.0000\n",
            "Epoch 28/100\n",
            "355/355 [==============================] - 1s 2ms/step - loss: 12782444544.0000 - val_loss: 12810209280.0000\n",
            "Epoch 29/100\n",
            "355/355 [==============================] - 1s 2ms/step - loss: 12782398464.0000 - val_loss: 12809824256.0000\n",
            "Epoch 30/100\n",
            "355/355 [==============================] - 1s 2ms/step - loss: 12782304256.0000 - val_loss: 12808940544.0000\n",
            "Epoch 31/100\n",
            "355/355 [==============================] - 1s 2ms/step - loss: 12782290944.0000 - val_loss: 12808287232.0000\n",
            "Epoch 32/100\n",
            "355/355 [==============================] - 1s 2ms/step - loss: 12782333952.0000 - val_loss: 12807725056.0000\n",
            "Epoch 33/100\n",
            "355/355 [==============================] - 1s 2ms/step - loss: 12782298112.0000 - val_loss: 12807433216.0000\n",
            "Epoch 34/100\n",
            "355/355 [==============================] - 1s 2ms/step - loss: 12782244864.0000 - val_loss: 12807089152.0000\n",
            "Epoch 35/100\n",
            "355/355 [==============================] - 1s 2ms/step - loss: 12782314496.0000 - val_loss: 12807449600.0000\n",
            "Epoch 36/100\n",
            "355/355 [==============================] - 1s 2ms/step - loss: 12782309376.0000 - val_loss: 12807564288.0000\n",
            "Epoch 37/100\n",
            "355/355 [==============================] - 1s 2ms/step - loss: 12782267392.0000 - val_loss: 12807817216.0000\n",
            "Epoch 38/100\n",
            "355/355 [==============================] - 1s 2ms/step - loss: 12782277632.0000 - val_loss: 12807586816.0000\n",
            "Epoch 39/100\n",
            "355/355 [==============================] - 1s 2ms/step - loss: 12782272512.0000 - val_loss: 12807139328.0000\n",
            "Epoch 40/100\n",
            "355/355 [==============================] - 1s 2ms/step - loss: 12782290944.0000 - val_loss: 12807059456.0000\n",
            "Epoch 41/100\n",
            "355/355 [==============================] - 1s 3ms/step - loss: 12782275584.0000 - val_loss: 12806784000.0000\n",
            "Epoch 42/100\n",
            "355/355 [==============================] - 1s 4ms/step - loss: 12782277632.0000 - val_loss: 12806585344.0000\n",
            "Epoch 43/100\n",
            "355/355 [==============================] - 1s 4ms/step - loss: 12782261248.0000 - val_loss: 12807134208.0000\n",
            "Epoch 44/100\n",
            "355/355 [==============================] - 1s 2ms/step - loss: 12782251008.0000 - val_loss: 12807262208.0000\n",
            "Epoch 45/100\n",
            "355/355 [==============================] - 1s 2ms/step - loss: 12782311424.0000 - val_loss: 12807754752.0000\n",
            "Epoch 46/100\n",
            "355/355 [==============================] - 1s 2ms/step - loss: 12782298112.0000 - val_loss: 12807681024.0000\n",
            "Epoch 47/100\n",
            "355/355 [==============================] - 1s 2ms/step - loss: 12782278656.0000 - val_loss: 12807901184.0000\n",
            "Epoch 48/100\n",
            "355/355 [==============================] - 1s 2ms/step - loss: 12782235648.0000 - val_loss: 12807793664.0000\n",
            "Epoch 49/100\n",
            "355/355 [==============================] - 1s 2ms/step - loss: 12782274560.0000 - val_loss: 12807524352.0000\n",
            "Epoch 50/100\n",
            "355/355 [==============================] - 1s 2ms/step - loss: 12782281728.0000 - val_loss: 12807203840.0000\n",
            "Epoch 51/100\n",
            "355/355 [==============================] - 1s 2ms/step - loss: 12782275584.0000 - val_loss: 12807291904.0000\n",
            "Epoch 52/100\n",
            "355/355 [==============================] - 1s 3ms/step - loss: 12782288896.0000 - val_loss: 12807227392.0000\n",
            "178/178 [==============================] - 1s 2ms/step - loss: 14877461504.0000\n",
            "Epoch 1/100\n",
            "355/355 [==============================] - 1s 3ms/step - loss: 37667731406848.0000 - val_loss: 61896290304.0000\n",
            "Epoch 2/100\n",
            "355/355 [==============================] - 1s 2ms/step - loss: 56652267520.0000 - val_loss: 43714830336.0000\n",
            "Epoch 3/100\n",
            "355/355 [==============================] - 1s 2ms/step - loss: 41604648960.0000 - val_loss: 32211771392.0000\n",
            "Epoch 4/100\n",
            "355/355 [==============================] - 1s 2ms/step - loss: 32015593472.0000 - val_loss: 24928753664.0000\n",
            "Epoch 5/100\n",
            "355/355 [==============================] - 1s 2ms/step - loss: 25898721280.0000 - val_loss: 20351277056.0000\n",
            "Epoch 6/100\n",
            "355/355 [==============================] - 1s 2ms/step - loss: 22010169344.0000 - val_loss: 17459255296.0000\n",
            "Epoch 7/100\n",
            "355/355 [==============================] - 1s 2ms/step - loss: 19516997632.0000 - val_loss: 15652493312.0000\n",
            "Epoch 8/100\n",
            "355/355 [==============================] - 1s 2ms/step - loss: 17933635584.0000 - val_loss: 14524294144.0000\n",
            "Epoch 9/100\n",
            "355/355 [==============================] - 1s 2ms/step - loss: 16923426816.0000 - val_loss: 13825779712.0000\n",
            "Epoch 10/100\n",
            "355/355 [==============================] - 1s 2ms/step - loss: 16278014976.0000 - val_loss: 13397819392.0000\n",
            "Epoch 11/100\n",
            "355/355 [==============================] - 1s 2ms/step - loss: 15868565504.0000 - val_loss: 13138283520.0000\n",
            "Epoch 12/100\n",
            "355/355 [==============================] - 1s 3ms/step - loss: 15607385088.0000 - val_loss: 12981226496.0000\n",
            "Epoch 13/100\n",
            "355/355 [==============================] - 1s 2ms/step - loss: 15439377408.0000 - val_loss: 12890097664.0000\n",
            "Epoch 14/100\n",
            "355/355 [==============================] - 1s 2ms/step - loss: 15332867072.0000 - val_loss: 12837626880.0000\n",
            "Epoch 15/100\n",
            "355/355 [==============================] - 1s 2ms/step - loss: 15263354880.0000 - val_loss: 12810296320.0000\n",
            "Epoch 16/100\n",
            "355/355 [==============================] - 1s 2ms/step - loss: 15220422656.0000 - val_loss: 12797364224.0000\n",
            "Epoch 17/100\n",
            "355/355 [==============================] - 1s 2ms/step - loss: 15193257984.0000 - val_loss: 12792423424.0000\n",
            "Epoch 18/100\n",
            "355/355 [==============================] - 1s 2ms/step - loss: 15175630848.0000 - val_loss: 12791994368.0000\n",
            "Epoch 19/100\n",
            "355/355 [==============================] - 1s 2ms/step - loss: 15164841984.0000 - val_loss: 12793826304.0000\n",
            "Epoch 20/100\n",
            "355/355 [==============================] - 1s 2ms/step - loss: 15157970944.0000 - val_loss: 12796511232.0000\n",
            "Epoch 21/100\n",
            "355/355 [==============================] - 1s 2ms/step - loss: 15153611776.0000 - val_loss: 12799501312.0000\n",
            "Epoch 22/100\n",
            "355/355 [==============================] - 1s 2ms/step - loss: 15150924800.0000 - val_loss: 12802700288.0000\n",
            "Epoch 23/100\n",
            "355/355 [==============================] - 1s 2ms/step - loss: 15148999680.0000 - val_loss: 12805126144.0000\n",
            "Epoch 24/100\n",
            "355/355 [==============================] - 1s 2ms/step - loss: 15147965440.0000 - val_loss: 12807702528.0000\n",
            "Epoch 25/100\n",
            "355/355 [==============================] - 1s 2ms/step - loss: 15147039744.0000 - val_loss: 12810013696.0000\n",
            "Epoch 26/100\n",
            "355/355 [==============================] - 1s 2ms/step - loss: 15146588160.0000 - val_loss: 12812210176.0000\n",
            "Epoch 27/100\n",
            "355/355 [==============================] - 1s 2ms/step - loss: 15146182656.0000 - val_loss: 12813580288.0000\n",
            "Epoch 28/100\n",
            "355/355 [==============================] - 1s 2ms/step - loss: 15146039296.0000 - val_loss: 12815183872.0000\n",
            "178/178 [==============================] - 1s 2ms/step - loss: 10097664000.0000\n",
            "Epoch 1/100\n",
            "355/355 [==============================] - 1s 3ms/step - loss: 97034838908862464.0000 - val_loss: 10673287331840.0000\n",
            "Epoch 2/100\n",
            "355/355 [==============================] - 1s 2ms/step - loss: 8622401650688.0000 - val_loss: 6807099539456.0000\n",
            "Epoch 3/100\n",
            "355/355 [==============================] - 1s 2ms/step - loss: 5502383161344.0000 - val_loss: 4342535946240.0000\n",
            "Epoch 4/100\n",
            "355/355 [==============================] - 1s 2ms/step - loss: 3512972083200.0000 - val_loss: 2771593199616.0000\n",
            "Epoch 5/100\n",
            "355/355 [==============================] - 1s 3ms/step - loss: 2244472733696.0000 - val_loss: 1770188439552.0000\n",
            "Epoch 6/100\n",
            "355/355 [==============================] - 1s 2ms/step - loss: 1435547992064.0000 - val_loss: 1132032557056.0000\n",
            "Epoch 7/100\n",
            "355/355 [==============================] - 1s 2ms/step - loss: 919770890240.0000 - val_loss: 725485944832.0000\n",
            "Epoch 8/100\n",
            "355/355 [==============================] - 1s 2ms/step - loss: 591019507712.0000 - val_loss: 466398740480.0000\n",
            "Epoch 9/100\n",
            "355/355 [==============================] - 1s 2ms/step - loss: 381305520128.0000 - val_loss: 301361397760.0000\n",
            "Epoch 10/100\n",
            "355/355 [==============================] - 1s 2ms/step - loss: 247617060864.0000 - val_loss: 196297850880.0000\n",
            "Epoch 11/100\n",
            "355/355 [==============================] - 1s 3ms/step - loss: 162378924032.0000 - val_loss: 129390247936.0000\n",
            "Epoch 12/100\n",
            "355/355 [==============================] - 1s 2ms/step - loss: 108041543680.0000 - val_loss: 86836109312.0000\n",
            "Epoch 13/100\n",
            "355/355 [==============================] - 1s 2ms/step - loss: 73382207488.0000 - val_loss: 59740893184.0000\n",
            "Epoch 14/100\n",
            "355/355 [==============================] - 1s 2ms/step - loss: 51282448384.0000 - val_loss: 42533146624.0000\n",
            "Epoch 15/100\n",
            "355/355 [==============================] - 1s 2ms/step - loss: 37193859072.0000 - val_loss: 31591385088.0000\n",
            "Epoch 16/100\n",
            "355/355 [==============================] - 1s 2ms/step - loss: 28202489856.0000 - val_loss: 24648806400.0000\n",
            "Epoch 17/100\n",
            "355/355 [==============================] - 1s 2ms/step - loss: 22472200192.0000 - val_loss: 20239224832.0000\n",
            "Epoch 18/100\n",
            "355/355 [==============================] - 1s 2ms/step - loss: 18806919168.0000 - val_loss: 17458860032.0000\n",
            "Epoch 19/100\n",
            "355/355 [==============================] - 1s 2ms/step - loss: 16478336000.0000 - val_loss: 15697912832.0000\n",
            "Epoch 20/100\n",
            "355/355 [==============================] - 1s 2ms/step - loss: 14989281280.0000 - val_loss: 14594311168.0000\n",
            "Epoch 21/100\n",
            "355/355 [==============================] - 1s 2ms/step - loss: 14045724672.0000 - val_loss: 13903284224.0000\n",
            "Epoch 22/100\n",
            "355/355 [==============================] - 1s 2ms/step - loss: 13443688448.0000 - val_loss: 13469820928.0000\n",
            "Epoch 23/100\n",
            "355/355 [==============================] - 1s 2ms/step - loss: 13060406272.0000 - val_loss: 13201955840.0000\n",
            "Epoch 24/100\n",
            "355/355 [==============================] - 1s 2ms/step - loss: 12816155648.0000 - val_loss: 13033776128.0000\n",
            "Epoch 25/100\n",
            "355/355 [==============================] - 1s 2ms/step - loss: 12657727488.0000 - val_loss: 12930802688.0000\n",
            "Epoch 26/100\n",
            "355/355 [==============================] - 1s 2ms/step - loss: 12556857344.0000 - val_loss: 12870065152.0000\n",
            "Epoch 27/100\n",
            "355/355 [==============================] - 1s 2ms/step - loss: 12493357056.0000 - val_loss: 12833159168.0000\n",
            "Epoch 28/100\n",
            "355/355 [==============================] - 1s 2ms/step - loss: 12452284416.0000 - val_loss: 12812136448.0000\n",
            "Epoch 29/100\n",
            "355/355 [==============================] - 1s 3ms/step - loss: 12426094592.0000 - val_loss: 12800885760.0000\n",
            "Epoch 30/100\n",
            "355/355 [==============================] - 1s 3ms/step - loss: 12409865216.0000 - val_loss: 12794919936.0000\n",
            "Epoch 31/100\n",
            "355/355 [==============================] - 1s 4ms/step - loss: 12399079424.0000 - val_loss: 12792485888.0000\n",
            "Epoch 32/100\n",
            "355/355 [==============================] - 1s 3ms/step - loss: 12392662016.0000 - val_loss: 12791808000.0000\n",
            "Epoch 33/100\n",
            "355/355 [==============================] - 1s 2ms/step - loss: 12388472832.0000 - val_loss: 12792095744.0000\n",
            "Epoch 34/100\n",
            "355/355 [==============================] - 1s 2ms/step - loss: 12385656832.0000 - val_loss: 12792808448.0000\n",
            "Epoch 35/100\n",
            "355/355 [==============================] - 1s 2ms/step - loss: 12384032768.0000 - val_loss: 12793758720.0000\n",
            "Epoch 36/100\n",
            "355/355 [==============================] - 1s 2ms/step - loss: 12382911488.0000 - val_loss: 12794648576.0000\n",
            "Epoch 37/100\n",
            "355/355 [==============================] - 1s 3ms/step - loss: 12382199808.0000 - val_loss: 12795710464.0000\n",
            "Epoch 38/100\n",
            "355/355 [==============================] - 1s 2ms/step - loss: 12381643776.0000 - val_loss: 12796615680.0000\n",
            "Epoch 39/100\n",
            "355/355 [==============================] - 1s 2ms/step - loss: 12381362176.0000 - val_loss: 12797506560.0000\n",
            "Epoch 40/100\n",
            "355/355 [==============================] - 1s 2ms/step - loss: 12381128704.0000 - val_loss: 12798057472.0000\n",
            "Epoch 41/100\n",
            "355/355 [==============================] - 1s 2ms/step - loss: 12381026304.0000 - val_loss: 12798363648.0000\n",
            "Epoch 42/100\n",
            "355/355 [==============================] - 1s 2ms/step - loss: 12380997632.0000 - val_loss: 12798622720.0000\n",
            "178/178 [==============================] - 1s 2ms/step - loss: 15596625920.0000\n",
            "Epoch 1/100\n",
            "355/355 [==============================] - 1s 3ms/step - loss: 54476291440640000.0000 - val_loss: 6678591832064.0000\n",
            "Epoch 2/100\n",
            "355/355 [==============================] - 1s 2ms/step - loss: 5370190757888.0000 - val_loss: 4266386784256.0000\n",
            "Epoch 3/100\n",
            "355/355 [==============================] - 1s 2ms/step - loss: 3428814159872.0000 - val_loss: 2727740178432.0000\n",
            "Epoch 4/100\n",
            "355/355 [==============================] - 1s 2ms/step - loss: 2191051194368.0000 - val_loss: 1746035802112.0000\n",
            "Epoch 5/100\n",
            "355/355 [==============================] - 1s 2ms/step - loss: 1401738887168.0000 - val_loss: 1119682822144.0000\n",
            "Epoch 6/100\n",
            "355/355 [==============================] - 1s 2ms/step - loss: 898473721856.0000 - val_loss: 719944613888.0000\n",
            "Epoch 7/100\n",
            "355/355 [==============================] - 1s 2ms/step - loss: 577537114112.0000 - val_loss: 464809558016.0000\n",
            "Epoch 8/100\n",
            "355/355 [==============================] - 1s 2ms/step - loss: 372936343552.0000 - val_loss: 301900496896.0000\n",
            "Epoch 9/100\n",
            "355/355 [==============================] - 1s 2ms/step - loss: 242459262976.0000 - val_loss: 197851791360.0000\n",
            "Epoch 10/100\n",
            "355/355 [==============================] - 1s 2ms/step - loss: 159253626880.0000 - val_loss: 131333447680.0000\n",
            "Epoch 11/100\n",
            "355/355 [==============================] - 1s 2ms/step - loss: 106172809216.0000 - val_loss: 88819933184.0000\n",
            "Epoch 12/100\n",
            "355/355 [==============================] - 1s 2ms/step - loss: 72332050432.0000 - val_loss: 61617909760.0000\n",
            "Epoch 13/100\n",
            "355/355 [==============================] - 1s 2ms/step - loss: 50754502656.0000 - val_loss: 44210102272.0000\n",
            "Epoch 14/100\n",
            "355/355 [==============================] - 1s 2ms/step - loss: 36995162112.0000 - val_loss: 33042151424.0000\n",
            "Epoch 15/100\n",
            "355/355 [==============================] - 1s 2ms/step - loss: 28217145344.0000 - val_loss: 25884907520.0000\n",
            "Epoch 16/100\n",
            "355/355 [==============================] - 1s 2ms/step - loss: 22623178752.0000 - val_loss: 21279674368.0000\n",
            "Epoch 17/100\n",
            "355/355 [==============================] - 1s 2ms/step - loss: 19052306432.0000 - val_loss: 18312368128.0000\n",
            "Epoch 18/100\n",
            "355/355 [==============================] - 1s 2ms/step - loss: 16774894592.0000 - val_loss: 16405553152.0000\n",
            "Epoch 19/100\n",
            "355/355 [==============================] - 1s 2ms/step - loss: 15325172736.0000 - val_loss: 15167474688.0000\n",
            "Epoch 20/100\n",
            "355/355 [==============================] - 1s 2ms/step - loss: 14400591872.0000 - val_loss: 14371739648.0000\n",
            "Epoch 21/100\n",
            "355/355 [==============================] - 1s 2ms/step - loss: 13816227840.0000 - val_loss: 13848670208.0000\n",
            "Epoch 22/100\n",
            "355/355 [==============================] - 1s 2ms/step - loss: 13440240640.0000 - val_loss: 13505735680.0000\n",
            "Epoch 23/100\n",
            "355/355 [==============================] - 1s 2ms/step - loss: 13200963584.0000 - val_loss: 13281484800.0000\n",
            "Epoch 24/100\n",
            "355/355 [==============================] - 1s 3ms/step - loss: 13049241600.0000 - val_loss: 13132573696.0000\n",
            "Epoch 25/100\n",
            "355/355 [==============================] - 1s 3ms/step - loss: 12952453120.0000 - val_loss: 13033003008.0000\n",
            "Epoch 26/100\n",
            "355/355 [==============================] - 1s 3ms/step - loss: 12890954752.0000 - val_loss: 12966544384.0000\n",
            "Epoch 27/100\n",
            "355/355 [==============================] - 1s 2ms/step - loss: 12851625984.0000 - val_loss: 12920251392.0000\n",
            "Epoch 28/100\n",
            "355/355 [==============================] - 1s 2ms/step - loss: 12826375168.0000 - val_loss: 12889444352.0000\n",
            "Epoch 29/100\n",
            "355/355 [==============================] - 1s 2ms/step - loss: 12810723328.0000 - val_loss: 12866996224.0000\n",
            "Epoch 30/100\n",
            "355/355 [==============================] - 1s 2ms/step - loss: 12800324608.0000 - val_loss: 12851170304.0000\n",
            "Epoch 31/100\n",
            "355/355 [==============================] - 1s 2ms/step - loss: 12793749504.0000 - val_loss: 12840332288.0000\n",
            "Epoch 32/100\n",
            "355/355 [==============================] - 1s 2ms/step - loss: 12789666816.0000 - val_loss: 12832397312.0000\n",
            "Epoch 33/100\n",
            "355/355 [==============================] - 1s 2ms/step - loss: 12787036160.0000 - val_loss: 12826174464.0000\n",
            "Epoch 34/100\n",
            "355/355 [==============================] - 1s 2ms/step - loss: 12785255424.0000 - val_loss: 12821726208.0000\n",
            "Epoch 35/100\n",
            "355/355 [==============================] - 1s 2ms/step - loss: 12784135168.0000 - val_loss: 12818320384.0000\n",
            "Epoch 36/100\n",
            "355/355 [==============================] - 1s 2ms/step - loss: 12783434752.0000 - val_loss: 12815939584.0000\n",
            "Epoch 37/100\n",
            "355/355 [==============================] - 1s 2ms/step - loss: 12783019008.0000 - val_loss: 12814345216.0000\n",
            "Epoch 38/100\n",
            "355/355 [==============================] - 1s 2ms/step - loss: 12782789632.0000 - val_loss: 12812955648.0000\n",
            "Epoch 39/100\n",
            "355/355 [==============================] - 1s 2ms/step - loss: 12782606336.0000 - val_loss: 12811553792.0000\n",
            "Epoch 40/100\n",
            "355/355 [==============================] - 1s 2ms/step - loss: 12782453760.0000 - val_loss: 12810694656.0000\n",
            "Epoch 41/100\n",
            "355/355 [==============================] - 1s 2ms/step - loss: 12782387200.0000 - val_loss: 12810001408.0000\n",
            "Epoch 42/100\n",
            "355/355 [==============================] - 1s 2ms/step - loss: 12782308352.0000 - val_loss: 12809717760.0000\n",
            "Epoch 43/100\n",
            "355/355 [==============================] - 1s 2ms/step - loss: 12782327808.0000 - val_loss: 12809388032.0000\n",
            "Epoch 44/100\n",
            "355/355 [==============================] - 1s 2ms/step - loss: 12782309376.0000 - val_loss: 12809060352.0000\n",
            "Epoch 45/100\n",
            "355/355 [==============================] - 1s 2ms/step - loss: 12782302208.0000 - val_loss: 12808781824.0000\n",
            "Epoch 46/100\n",
            "355/355 [==============================] - 1s 3ms/step - loss: 12782282752.0000 - val_loss: 12808561664.0000\n",
            "Epoch 47/100\n",
            "355/355 [==============================] - 1s 2ms/step - loss: 12782304256.0000 - val_loss: 12808333312.0000\n",
            "Epoch 48/100\n",
            "355/355 [==============================] - 1s 3ms/step - loss: 12782269440.0000 - val_loss: 12808275968.0000\n",
            "Epoch 49/100\n",
            "355/355 [==============================] - 1s 2ms/step - loss: 12782269440.0000 - val_loss: 12808417280.0000\n",
            "Epoch 50/100\n",
            "355/355 [==============================] - 1s 2ms/step - loss: 12782254080.0000 - val_loss: 12807746560.0000\n",
            "Epoch 51/100\n",
            "355/355 [==============================] - 1s 3ms/step - loss: 12782271488.0000 - val_loss: 12807909376.0000\n",
            "Epoch 52/100\n",
            "355/355 [==============================] - 1s 2ms/step - loss: 12782294016.0000 - val_loss: 12807885824.0000\n",
            "Epoch 53/100\n",
            "355/355 [==============================] - 1s 2ms/step - loss: 12782271488.0000 - val_loss: 12807720960.0000\n",
            "Epoch 54/100\n",
            "355/355 [==============================] - 1s 2ms/step - loss: 12782284800.0000 - val_loss: 12807378944.0000\n",
            "Epoch 55/100\n",
            "355/355 [==============================] - 1s 2ms/step - loss: 12782267392.0000 - val_loss: 12807505920.0000\n",
            "Epoch 56/100\n",
            "355/355 [==============================] - 1s 2ms/step - loss: 12782268416.0000 - val_loss: 12806833152.0000\n",
            "Epoch 57/100\n",
            "355/355 [==============================] - 1s 2ms/step - loss: 12782255104.0000 - val_loss: 12807336960.0000\n",
            "Epoch 58/100\n",
            "355/355 [==============================] - 1s 2ms/step - loss: 12782237696.0000 - val_loss: 12807400448.0000\n",
            "Epoch 59/100\n",
            "355/355 [==============================] - 1s 2ms/step - loss: 12782254080.0000 - val_loss: 12807290880.0000\n",
            "Epoch 60/100\n",
            "355/355 [==============================] - 1s 2ms/step - loss: 12782252032.0000 - val_loss: 12807561216.0000\n",
            "Epoch 61/100\n",
            "355/355 [==============================] - 1s 2ms/step - loss: 12782291968.0000 - val_loss: 12807552000.0000\n",
            "Epoch 62/100\n",
            "355/355 [==============================] - 1s 3ms/step - loss: 12782229504.0000 - val_loss: 12807677952.0000\n",
            "Epoch 63/100\n",
            "355/355 [==============================] - 1s 2ms/step - loss: 12782239744.0000 - val_loss: 12807530496.0000\n",
            "Epoch 64/100\n",
            "355/355 [==============================] - 1s 2ms/step - loss: 12782275584.0000 - val_loss: 12807420928.0000\n",
            "Epoch 65/100\n",
            "355/355 [==============================] - 1s 2ms/step - loss: 12782251008.0000 - val_loss: 12807308288.0000\n",
            "Epoch 66/100\n",
            "355/355 [==============================] - 1s 3ms/step - loss: 12782262272.0000 - val_loss: 12807437312.0000\n",
            "178/178 [==============================] - 1s 2ms/step - loss: 14878324736.0000\n",
            "Epoch 1/100\n"
          ]
        },
        {
          "name": "stderr",
          "output_type": "stream",
          "text": [
            "/usr/local/lib/python3.7/dist-packages/sklearn/model_selection/_search.py:972: UserWarning: One or more of the test scores are non-finite: [-1.35481020e+10             nan             nan             nan\n",
            "             nan             nan             nan             nan\n",
            " -1.35245332e+10 -1.35242049e+10]\n",
            "  category=UserWarning,\n"
          ]
        },
        {
          "name": "stdout",
          "output_type": "stream",
          "text": [
            "532/532 [==============================] - 2s 2ms/step - loss: 1662473400947310592.0000 - val_loss: 419732456996864.0000\n",
            "Epoch 2/100\n",
            "532/532 [==============================] - 1s 2ms/step - loss: 305677083869184.0000 - val_loss: 213841673715712.0000\n",
            "Epoch 3/100\n",
            "532/532 [==============================] - 1s 2ms/step - loss: 155744875839488.0000 - val_loss: 108948078198784.0000\n",
            "Epoch 4/100\n",
            "532/532 [==============================] - 1s 2ms/step - loss: 79357389307904.0000 - val_loss: 55508094418944.0000\n",
            "Epoch 5/100\n",
            "532/532 [==============================] - 1s 2ms/step - loss: 40438400548864.0000 - val_loss: 28282634371072.0000\n",
            "Epoch 6/100\n",
            "532/532 [==============================] - 1s 2ms/step - loss: 20609494941696.0000 - val_loss: 14412680265728.0000\n",
            "Epoch 7/100\n",
            "532/532 [==============================] - 1s 2ms/step - loss: 10506710548480.0000 - val_loss: 7346912231424.0000\n",
            "Epoch 8/100\n",
            "532/532 [==============================] - 1s 2ms/step - loss: 5359679832064.0000 - val_loss: 3747874340864.0000\n",
            "Epoch 9/100\n",
            "532/532 [==============================] - 1s 2ms/step - loss: 2737242374144.0000 - val_loss: 1914575781888.0000\n",
            "Epoch 10/100\n",
            "532/532 [==============================] - 1s 2ms/step - loss: 1401135955968.0000 - val_loss: 980889305088.0000\n",
            "Epoch 11/100\n",
            "532/532 [==============================] - 1s 2ms/step - loss: 720451272704.0000 - val_loss: 505406259200.0000\n",
            "Epoch 12/100\n",
            "532/532 [==============================] - 1s 2ms/step - loss: 373619654656.0000 - val_loss: 263338246144.0000\n",
            "Epoch 13/100\n",
            "532/532 [==============================] - 1s 2ms/step - loss: 196940087296.0000 - val_loss: 140134531072.0000\n",
            "Epoch 14/100\n",
            "532/532 [==============================] - 2s 3ms/step - loss: 106931838976.0000 - val_loss: 77463502848.0000\n",
            "Epoch 15/100\n",
            "532/532 [==============================] - 2s 4ms/step - loss: 61084401664.0000 - val_loss: 45596061696.0000\n",
            "Epoch 16/100\n",
            "532/532 [==============================] - 2s 4ms/step - loss: 37724438528.0000 - val_loss: 29400707072.0000\n",
            "Epoch 17/100\n",
            "532/532 [==============================] - 2s 4ms/step - loss: 25820821504.0000 - val_loss: 21180448768.0000\n",
            "Epoch 18/100\n",
            "532/532 [==============================] - 1s 3ms/step - loss: 19754117120.0000 - val_loss: 17009314816.0000\n",
            "Epoch 19/100\n",
            "532/532 [==============================] - 1s 2ms/step - loss: 16660177920.0000 - val_loss: 14895954944.0000\n",
            "Epoch 20/100\n",
            "532/532 [==============================] - 1s 2ms/step - loss: 15083714560.0000 - val_loss: 13838668800.0000\n",
            "Epoch 21/100\n",
            "532/532 [==============================] - 1s 2ms/step - loss: 14284002304.0000 - val_loss: 13307102208.0000\n",
            "Epoch 22/100\n",
            "532/532 [==============================] - 1s 2ms/step - loss: 13875362816.0000 - val_loss: 13039456256.0000\n",
            "Epoch 23/100\n",
            "532/532 [==============================] - 1s 2ms/step - loss: 13667134464.0000 - val_loss: 12909844480.0000\n",
            "Epoch 24/100\n",
            "532/532 [==============================] - 1s 2ms/step - loss: 13561957376.0000 - val_loss: 12845728768.0000\n",
            "Epoch 25/100\n",
            "532/532 [==============================] - 1s 2ms/step - loss: 13508143104.0000 - val_loss: 12815239168.0000\n",
            "Epoch 26/100\n",
            "532/532 [==============================] - 1s 2ms/step - loss: 13480288256.0000 - val_loss: 12800874496.0000\n",
            "Epoch 27/100\n",
            "532/532 [==============================] - 1s 2ms/step - loss: 13466079232.0000 - val_loss: 12794633216.0000\n",
            "Epoch 28/100\n",
            "532/532 [==============================] - 1s 2ms/step - loss: 13458837504.0000 - val_loss: 12792341504.0000\n",
            "Epoch 29/100\n",
            "532/532 [==============================] - 1s 2ms/step - loss: 13455158272.0000 - val_loss: 12791803904.0000\n",
            "Epoch 30/100\n",
            "532/532 [==============================] - 1s 2ms/step - loss: 13453426688.0000 - val_loss: 12791921664.0000\n",
            "Epoch 31/100\n",
            "532/532 [==============================] - 1s 2ms/step - loss: 13452591104.0000 - val_loss: 12792245248.0000\n",
            "Epoch 32/100\n",
            "532/532 [==============================] - 1s 2ms/step - loss: 13452144640.0000 - val_loss: 12792630272.0000\n",
            "Epoch 33/100\n",
            "532/532 [==============================] - 1s 2ms/step - loss: 13451859968.0000 - val_loss: 12793048064.0000\n",
            "Epoch 34/100\n",
            "532/532 [==============================] - 1s 2ms/step - loss: 13451816960.0000 - val_loss: 12793240576.0000\n",
            "Epoch 35/100\n",
            "532/532 [==============================] - 1s 2ms/step - loss: 13451751424.0000 - val_loss: 12793240576.0000\n",
            "Epoch 36/100\n",
            "532/532 [==============================] - 1s 2ms/step - loss: 13451739136.0000 - val_loss: 12793485312.0000\n",
            "Epoch 37/100\n",
            "532/532 [==============================] - 1s 2ms/step - loss: 13451747328.0000 - val_loss: 12793584640.0000\n",
            "Epoch 38/100\n",
            "532/532 [==============================] - 1s 2ms/step - loss: 13451687936.0000 - val_loss: 12793549824.0000\n",
            "Epoch 39/100\n",
            "532/532 [==============================] - 1s 2ms/step - loss: 13451693056.0000 - val_loss: 12793603072.0000\n"
          ]
        },
        {
          "data": {
            "text/plain": [
              "RandomizedSearchCV(cv=3,\n",
              "                   estimator=<keras.wrappers.scikit_learn.KerasRegressor object at 0x7f03fbb83b90>,\n",
              "                   param_distributions={'learning_rate': <scipy.stats._distn_infrastructure.rv_frozen object at 0x7f03fbb2cdd0>,\n",
              "                                        'n_hidden': [0, 1, 2, 3],\n",
              "                                        'n_neurons': array([ 1,  2,  3,  4,  5,  6,  7,  8,  9, 10, 11, 12, 13, 14, 15, 16, 17,\n",
              "       18, 19, 20, 21, 22, 23, 24, 25, 26, 27, 28, 29, 30, 31, 32, 33, 34,\n",
              "       35, 36, 37, 38, 39, 40, 41, 42, 43, 44, 45, 46, 47, 48, 49, 50, 51,\n",
              "       52, 53, 54, 55, 56, 57, 58, 59, 60, 61, 62, 63, 64, 65, 66, 67, 68,\n",
              "       69, 70, 71, 72, 73, 74, 75, 76, 77, 78, 79, 80, 81, 82, 83, 84, 85,\n",
              "       86, 87, 88, 89, 90, 91, 92, 93, 94, 95, 96, 97, 98, 99])})"
            ]
          },
          "execution_count": 23,
          "metadata": {},
          "output_type": "execute_result"
        }
      ],
      "source": [
        "rnd_search_cv = RandomizedSearchCV(keras_reg, param_distribs, n_iter=10, cv=3)\n",
        "rnd_search_cv.fit(X_train, y_train, epochs=100,\n",
        "                  validation_data=(X_test,y_test.values),\n",
        "                  callbacks=[keras.callbacks.EarlyStopping(patience=10)])   "
      ]
    },
    {
      "cell_type": "markdown",
      "metadata": {
        "id": "NDyLtOT8dqOB"
      },
      "source": [
        "The above  exploration  may  last  many  hours  depending  on  the  hardware,  the  size  of  the dataset, the complexity of the model and the value of n_iter and cv. When it is over, we can access the best parameters found, the best score, and the trained Keras model like this:"
      ]
    },
    {
      "cell_type": "code",
      "execution_count": null,
      "metadata": {
        "colab": {
          "base_uri": "https://localhost:8080/"
        },
        "id": "UgsAM812dqOC",
        "outputId": "4e639fe5-f91c-47b6-83f7-6a33f285753a"
      },
      "outputs": [
        {
          "data": {
            "text/plain": [
              "{'learning_rate': 0.0003167910552381549, 'n_hidden': 1, 'n_neurons': 46}"
            ]
          },
          "execution_count": 24,
          "metadata": {},
          "output_type": "execute_result"
        }
      ],
      "source": [
        "# finding the best parameters\n",
        "rnd_search_cv.best_params_"
      ]
    },
    {
      "cell_type": "code",
      "execution_count": null,
      "metadata": {
        "colab": {
          "base_uri": "https://localhost:8080/"
        },
        "id": "QeOHn8WVdqOC",
        "outputId": "f0b4c8b9-8146-4928-b9ba-3abb0086dfd0"
      },
      "outputs": [
        {
          "data": {
            "text/plain": [
              "-13524204885.333334"
            ]
          },
          "execution_count": 25,
          "metadata": {},
          "output_type": "execute_result"
        }
      ],
      "source": [
        "# best score\n",
        "rnd_search_cv.best_score_"
      ]
    },
    {
      "cell_type": "code",
      "execution_count": null,
      "metadata": {
        "id": "JNY1vgDAdqOD"
      },
      "outputs": [],
      "source": [
        "# applying best parameters to the model for predictions\n",
        "model = rnd_search_cv.best_estimator_.model"
      ]
    },
    {
      "cell_type": "markdown",
      "metadata": {
        "id": "Tqut1OR3dqOE"
      },
      "source": [
        "Refer to the guidelines below for choosing the  number  of  hidden  layers  and  neurons  in  an  MLP,  and  selecting  appropriate  values  for some of the main hyperparameters."
      ]
    },
    {
      "cell_type": "markdown",
      "metadata": {
        "id": "F9t_szGwdqOF"
      },
      "source": [
        "#### Number of Hidden Layers"
      ]
    },
    {
      "cell_type": "markdown",
      "metadata": {
        "id": "EqiYlS6AdqOG"
      },
      "source": [
        "- For simple problems, we can start with just one or two hidden layers and get the accurate results.\n",
        "- For more complex problems, we can gradually rampup the number of hidden layers, until we start overfitting the training set. Very complex  tasks,  such  as  large  image  classification  or  speech  recognition,  typically  require networks  with  dozens  of  layers  (or  even  hundreds,  but  not  fully  connected  ones),  and  they  need  a  huge  amount  of  training  data. "
      ]
    },
    {
      "cell_type": "markdown",
      "metadata": {
        "id": "DZu_Fc1ydqOH"
      },
      "source": [
        "#### Number of Neurons per Hidden Layer"
      ]
    },
    {
      "cell_type": "markdown",
      "metadata": {
        "id": "D-1AYlmBdqOI"
      },
      "source": [
        "- We can try increasing the number of neurons gradually  until  the  network  starts  overfitting. \n",
        "- In general, it may be more advantageous to increase  the  number  of  layers  than  the  number  of  neurons  per  layer.\n",
        "- A  simpler  approach  is  to  pick  a  model  with  more  layers  and  neurons  than  we actually need, then use early stopping to prevent it from overfitting (and other regularization  techniques,  such  as  dropout, which we will discuss further in this notebook)."
      ]
    },
    {
      "cell_type": "markdown",
      "metadata": {
        "id": "kQJXWhRIdqOJ"
      },
      "source": [
        "#### Learning Rate, Batch Size, and Other Hyperparameters"
      ]
    },
    {
      "cell_type": "markdown",
      "metadata": {
        "id": "QMuxqHl1dqOJ"
      },
      "source": [
        "Here are some of the important hyperparameters other than hidden layers and neurons, and some tips on how to set them:\n",
        "\n",
        "- The learning rate is arguably the most important hyperparameter. In general, the optimal learning rate is about half of the maximum learning rate (i.e., the learning rate above which the training algorithm diverges). So a  simple  approach  for  tuning  the  learning  rate  is  to  start  with  a  large  value  that makes  the  training  algorithm  diverge,  then  divide  this  value  by  3  and  try  again, and repeat until the training algorithm stops diverging.\n",
        "- Choosing  a  better  optimizer  than  plain  old  Mini-batch  Gradient  Descent  (and tuning its hyperparameters) is also quite important. We will discuss this in further sections.\n",
        "- The  batch  size  can  also  have  a  significant  impact  on  our  model’s  performance and the training time. In general the optimal batch size will be lower than 32. We will study batch normalization further in this notebook.\n",
        "- We discussed the choice of the activation function in previous assignment notebook, the $ReLU$ activation function will be a good default for all hidden layers. For the output layer, it really depends on our task.\n",
        "- In  most  cases,  the  number  of  training  iterations  does  not actually  need  to  be tweaked: just use early stopping instead.\n",
        "\n",
        "Let us also take a look at techniques such as Batch normalization, overfitting, drop out, optimizers and learning rate to  train deep neural networks.\n",
        "\n",
        "To know more about hyperparameter tuning of deep neural networks, click [here](https://towardsdatascience.com/the-art-of-hyperparameter-tuning-in-deep-neural-nets-by-example-685cb5429a38)."
      ]
    },
    {
      "cell_type": "markdown",
      "metadata": {
        "id": "Vc_IEVbFdqOK"
      },
      "source": [
        "### Accelerate Learning of Deep Neural Networks With Batch Normalization"
      ]
    },
    {
      "cell_type": "markdown",
      "metadata": {
        "id": "YRK5Px-qdqOM"
      },
      "source": [
        "Batch normalization is a technique for training very deep neural networks that standardizes the inputs to a layer for each mini-batch. This has the effect of stabilizing the learning process and dramatically reducing the number of training epochs required to train deep networks.\n",
        "\n",
        "![Image](https://lh3.googleusercontent.com/-9hMD_jyPLuE/YNQoKrc-_4I/AAAAAAAACTs/9nZ-BEdtI-QoAe6R5HXlG6X3AcprX8NaQCJEEGAsYHg/s512/2021-06-23.png)\n",
        "\n",
        "$\\text{Figure: Batch Normalization Algorithm}$\n",
        "\n",
        "So  during  training,  BN  just  standardizes  its  inputs  then  rescales  and  offsets  them."
      ]
    },
    {
      "cell_type": "markdown",
      "metadata": {
        "id": "I_el24cRdqON"
      },
      "source": [
        "#### Implementing Batch Normalization with Keras"
      ]
    },
    {
      "cell_type": "markdown",
      "metadata": {
        "id": "jmjykNm-dqOO"
      },
      "source": [
        "Implementing  Batch  Normalization  is  quite  simple, just  add  a  BatchNormalization  layer  before  or  after  each  hidden  layer’s  activation function,  and  optionally  add  a  BN  layer  as  well  as  the  first  layer  in  our  model.  For example,  this  model  applies  BN  after  every  hidden  layer  and  as  the  first  layer  in  the\n",
        "model (after flattening the input images):"
      ]
    },
    {
      "cell_type": "code",
      "execution_count": null,
      "metadata": {
        "id": "HUc-PjdHdqOP"
      },
      "outputs": [],
      "source": [
        "# create model with Batch Normalization\n",
        "model = Sequential([\n",
        "                    Flatten(input_shape=[28, 28]),\n",
        "                    BatchNormalization(),\n",
        "                    Dense(300, activation=\"relu\", kernel_initializer=\"he_normal\"),\n",
        "                    BatchNormalization(),\n",
        "                    Dense(100, activation=\"relu\", kernel_initializer=\"he_normal\"),\n",
        "                    BatchNormalization(),\n",
        "                    Dense(10, activation=\"softmax\")\n",
        "                    ])"
      ]
    },
    {
      "cell_type": "markdown",
      "metadata": {
        "id": "z3u4zONAdqOQ"
      },
      "source": [
        "If we display the model summary, we can see that each BN layer adds 4 parameters per input: γ, β, μ and σ (for example, the first BN layer adds 3136 parameters, which is 4 times 784). The last two parameters, μ and σ, are the moving averages, they are not affected by backpropagation, so Keras calls them “Nontrainable” (if we count the total number of BN parameters, 3136 + 1200 + 400, and divide  by  two,  we get  2,368,  which  is  the  total  number  of  non-trainable  params  in this model)."
      ]
    },
    {
      "cell_type": "code",
      "execution_count": null,
      "metadata": {
        "colab": {
          "base_uri": "https://localhost:8080/"
        },
        "id": "BpyQU5LLdqOR",
        "outputId": "e5abf1ce-ce59-4b2b-ede7-5dee98d11dfc"
      },
      "outputs": [
        {
          "name": "stdout",
          "output_type": "stream",
          "text": [
            "Model: \"sequential_32\"\n",
            "_________________________________________________________________\n",
            " Layer (type)                Output Shape              Param #   \n",
            "=================================================================\n",
            " flatten (Flatten)           (None, 784)               0         \n",
            "                                                                 \n",
            " batch_normalization (BatchN  (None, 784)              3136      \n",
            " ormalization)                                                   \n",
            "                                                                 \n",
            " dense_91 (Dense)            (None, 300)               235500    \n",
            "                                                                 \n",
            " batch_normalization_1 (Batc  (None, 300)              1200      \n",
            " hNormalization)                                                 \n",
            "                                                                 \n",
            " dense_92 (Dense)            (None, 100)               30100     \n",
            "                                                                 \n",
            " batch_normalization_2 (Batc  (None, 100)              400       \n",
            " hNormalization)                                                 \n",
            "                                                                 \n",
            " dense_93 (Dense)            (None, 10)                1010      \n",
            "                                                                 \n",
            "=================================================================\n",
            "Total params: 271,346\n",
            "Trainable params: 268,978\n",
            "Non-trainable params: 2,368\n",
            "_________________________________________________________________\n"
          ]
        }
      ],
      "source": [
        "# summary of model\n",
        "model.summary()"
      ]
    },
    {
      "cell_type": "markdown",
      "metadata": {
        "id": "iaE1qvfhdqOS"
      },
      "source": [
        "Let’s look at the parameters of the first BN layer. Two are trainable (by backprop), and two are not:"
      ]
    },
    {
      "cell_type": "code",
      "execution_count": null,
      "metadata": {
        "colab": {
          "base_uri": "https://localhost:8080/"
        },
        "id": "xTpS00QzdqOS",
        "outputId": "eb4abd0f-7679-45b9-95a0-1000f0bed1f1"
      },
      "outputs": [
        {
          "data": {
            "text/plain": [
              "[('batch_normalization/gamma:0', True),\n",
              " ('batch_normalization/beta:0', True),\n",
              " ('batch_normalization/moving_mean:0', False),\n",
              " ('batch_normalization/moving_variance:0', False)]"
            ]
          },
          "execution_count": 29,
          "metadata": {},
          "output_type": "execute_result"
        }
      ],
      "source": [
        "[(var.name, var.trainable) for var in model.layers[1].variables]"
      ]
    },
    {
      "cell_type": "code",
      "execution_count": null,
      "metadata": {
        "colab": {
          "base_uri": "https://localhost:8080/"
        },
        "id": "h6zEJrikdqOT",
        "outputId": "e9747163-b322-404f-d828-2efbd79e71c0"
      },
      "outputs": [
        {
          "name": "stderr",
          "output_type": "stream",
          "text": [
            "/usr/local/lib/python3.7/dist-packages/ipykernel_launcher.py:1: UserWarning: `layer.updates` will be removed in a future version. This property should not be used in TensorFlow 2.0, as `updates` are applied automatically.\n",
            "  \"\"\"Entry point for launching an IPython kernel.\n"
          ]
        },
        {
          "data": {
            "text/plain": [
              "[]"
            ]
          },
          "execution_count": 30,
          "metadata": {},
          "output_type": "execute_result"
        }
      ],
      "source": [
        "model.layers[1].updates"
      ]
    },
    {
      "cell_type": "markdown",
      "metadata": {
        "id": "9Ku_jrTpdqOU"
      },
      "source": [
        "Moreover,  since  a  Batch  Normalization layer includes one offset parameter per input, we can remove the bias term from the previous layer (just pass `use_bias=False` when creating it)."
      ]
    },
    {
      "cell_type": "code",
      "execution_count": null,
      "metadata": {
        "id": "lWeHUnCvdqOV"
      },
      "outputs": [],
      "source": [
        "# create model\n",
        "model = Sequential([\n",
        "                    Flatten(input_shape=[28, 28]),\n",
        "                    BatchNormalization(),\n",
        "                    Dense(300, kernel_initializer=\"he_normal\", use_bias=False),\n",
        "                    BatchNormalization(),\n",
        "                    Activation(\"relu\"),\n",
        "                    Dense(100, kernel_initializer=\"he_normal\", use_bias=False),\n",
        "                    Activation(\"relu\"),\n",
        "                    BatchNormalization(),\n",
        "                    Dense(10, activation=\"softmax\")\n",
        "                    ])"
      ]
    },
    {
      "cell_type": "markdown",
      "metadata": {
        "id": "-nQq1BuIdqOW"
      },
      "source": [
        "The  BatchNormalization class has regularizable hyperparameters. Tweaking the “momentum” argument allows us to control how much of the statistics from the previous mini batch to include when the update is calculated.\n",
        "\n",
        "\n",
        "A good momentum value is typically close to 1, for example, 0.9, 0.99, or 0.999 \n",
        "\n",
        "To know more about batch normalization, click [here](https://towardsdatascience.com/batch-normalization-in-practice-an-example-with-keras-and-tensorflow-2-0-b1ec28bde96f)."
      ]
    },
    {
      "cell_type": "markdown",
      "metadata": {
        "id": "VvBrjDXmdqOX"
      },
      "source": [
        "###  Optimizers"
      ]
    },
    {
      "cell_type": "markdown",
      "metadata": {
        "id": "4Tv15JM0dqOX"
      },
      "source": [
        "Some popular optimizers used for boosting the speed in training large deep neural networks are: Momentum optimization, RMSProp, and Adam optimization. Refer [here](https://mlfromscratch.com/optimizers-explained/#/) for a detailed understanding."
      ]
    },
    {
      "cell_type": "markdown",
      "metadata": {
        "id": "uA4iM1aQdqOY"
      },
      "source": [
        "#### Momentum Optimization"
      ]
    },
    {
      "cell_type": "markdown",
      "metadata": {
        "id": "Yz-Y0M-SdqOZ"
      },
      "source": [
        "Momentum  optimization subtracts  the  local  gradient  from  the  momentum  vector  m  (multiplied  by  the  learning  rate  η),  and  it  updates  the  weights  by  simply  adding  this momentum vector, thus accelerating the speed. The momentum hyperparameter $β$ is introduced to prevent  the momentum from growing too large (set between 0 and 1, typically 0.9).\n",
        "\n"
      ]
    },
    {
      "cell_type": "code",
      "execution_count": null,
      "metadata": {
        "colab": {
          "base_uri": "https://localhost:8080/"
        },
        "id": "wz1B-VDedqOa",
        "outputId": "1a26deee-4847-4cf1-bf5a-f2af8dcbc75d"
      },
      "outputs": [
        {
          "name": "stderr",
          "output_type": "stream",
          "text": [
            "/usr/local/lib/python3.7/dist-packages/keras/optimizers/optimizer_v2/gradient_descent.py:108: UserWarning: The `lr` argument is deprecated, use `learning_rate` instead.\n",
            "  super(SGD, self).__init__(name, **kwargs)\n"
          ]
        }
      ],
      "source": [
        "#Implementing the momentum optimizer\n",
        "optimizer = keras.optimizers.SGD(lr=0.001, momentum=0.9)"
      ]
    },
    {
      "cell_type": "markdown",
      "metadata": {
        "id": "cFp9_IkfdqOb"
      },
      "source": [
        "#### RMSProp"
      ]
    },
    {
      "cell_type": "markdown",
      "metadata": {
        "id": "1cWLQD2hdqOc"
      },
      "source": [
        "The RMSProp algorithm fixes only the gradients from the most recent iterations (as opposed to all the gradients since the beginning of training). It does so by using exponential decay in the first step. \n",
        "\n",
        "The decay rate $β$ is typically set to 0.9. Yes, it is once again a new hyperparameter, but this default value often works well, so we may not need to tune it at all.\n"
      ]
    },
    {
      "cell_type": "code",
      "execution_count": null,
      "metadata": {
        "colab": {
          "base_uri": "https://localhost:8080/"
        },
        "id": "_Ta7gsJFdqOd",
        "outputId": "c316f364-d365-460e-ad20-0a2999af46b6"
      },
      "outputs": [
        {
          "name": "stderr",
          "output_type": "stream",
          "text": [
            "/usr/local/lib/python3.7/dist-packages/keras/optimizers/optimizer_v2/rmsprop.py:135: UserWarning: The `lr` argument is deprecated, use `learning_rate` instead.\n",
            "  super(RMSprop, self).__init__(name, **kwargs)\n"
          ]
        }
      ],
      "source": [
        "#Implementing the RMSProp optimizer\n",
        "optimizer = keras.optimizers.RMSprop(lr=0.001, rho=0.9)"
      ]
    },
    {
      "cell_type": "markdown",
      "metadata": {
        "id": "v1vPNNs7dqOe"
      },
      "source": [
        "#### Adam Optimization"
      ]
    },
    {
      "cell_type": "markdown",
      "metadata": {
        "id": "wMvwuAridqOf"
      },
      "source": [
        "Adam combines the ideas of Momentum  optimization  and  RMSProp:  it keeps track of both, an  exponentially  decaying  average  of  past  gradients,  and  an  exponentially  decaying  average  of  past  squared  gradients.\n",
        "\n",
        "The momentum decay hyperparameter $β_1$ is typically initialized to 0.9, while the scaling  decay  hyperparameter  $β_2$  is  often  initialized  to  0.999."
      ]
    },
    {
      "cell_type": "code",
      "execution_count": null,
      "metadata": {
        "colab": {
          "base_uri": "https://localhost:8080/"
        },
        "id": "0EfFHwAFdqOg",
        "outputId": "4cead02c-e054-4058-a3be-5915a0261ec4"
      },
      "outputs": [
        {
          "name": "stderr",
          "output_type": "stream",
          "text": [
            "/usr/local/lib/python3.7/dist-packages/keras/optimizers/optimizer_v2/adam.py:110: UserWarning: The `lr` argument is deprecated, use `learning_rate` instead.\n",
            "  super(Adam, self).__init__(name, **kwargs)\n"
          ]
        }
      ],
      "source": [
        "#Implementing the Adam optimizer\n",
        "optimizer = keras.optimizers.Adam(lr=0.001, beta_1=0.9, beta_2=0.999)"
      ]
    },
    {
      "cell_type": "markdown",
      "metadata": {
        "id": "mYIwICgtdqOh"
      },
      "source": [
        "To know more about optimizers, click [here](https://towardsdatascience.com/optimizers-for-training-neural-network-59450d71caf6#:~:text=Optimizers%20are%20algorithms%20or%20methods,help%20to%20get%20results%20faster)."
      ]
    },
    {
      "cell_type": "markdown",
      "metadata": {
        "id": "Tt5i_U0udqOh"
      },
      "source": [
        "#### Learning Rate Schedule For Training Models"
      ]
    },
    {
      "cell_type": "markdown",
      "metadata": {
        "id": "I3ln8QNTdqOi"
      },
      "source": [
        "The simplest adaptation of learning rate during training are techniques that reduce the learning rate over time. These have the benefit of making large changes at the beginning of the training procedure when larger learning rate values are used, and decreasing the learning rate such that a smaller rate and therefore smaller training updates are made to weights later in the training procedure."
      ]
    },
    {
      "cell_type": "markdown",
      "metadata": {
        "id": "hdmHxgkMdqOj"
      },
      "source": [
        "##### Time-Based Learning Rate Scheduling"
      ]
    },
    {
      "cell_type": "markdown",
      "metadata": {
        "id": "PI2I4w5ZdqOk"
      },
      "source": [
        "Keras has an in-built time-based learning rate schedule function.\n",
        "\n",
        "The decay argument in the stochastic gradient descent optimization algorithm  is used in the time-based learning rate decay schedule equation as follows:\n",
        "\n",
        "- LearningRate = LearningRate * $\\frac{1}{(1 + decay * epoch)}$\n",
        "\n",
        "When the decay argument is zero (the default), this has no effect on the learning rate.\n",
        "\n",
        "- LearningRate = 0.1 * $\\frac{1}{(1 + 0.0 * 1)} \\implies $LearningRate = 0.1\n",
        "\n",
        "When the decay argument is specified, it will decrease the learning rate from the previous epoch by the given fixed amount.\n",
        "\n",
        "*See the implementation of time-based learning rate scheduling with the MNIST dataset Example at the end of this notebook.*"
      ]
    },
    {
      "cell_type": "markdown",
      "metadata": {
        "id": "9ltSUwe4dqOu"
      },
      "source": [
        "### Regularization"
      ]
    },
    {
      "cell_type": "markdown",
      "metadata": {
        "id": "pTtpElDodqOv"
      },
      "source": [
        "Deep neural networks may have millions of parameters. The network, therefore,   has vast freedom and can fit a huge variety of complex datasets. This flexibility however also makes it prone to overfitting the training set. Thus we need regularization.\n",
        "\n",
        "Let us now see some popular regularization techniques for neural networks: $ℓ1$ and $ℓ2$ regularization and dropout"
      ]
    },
    {
      "cell_type": "markdown",
      "metadata": {
        "id": "ZD98NJQ6dqOw"
      },
      "source": [
        "#### $ℓ1$ and $ℓ2$ Regularization"
      ]
    },
    {
      "cell_type": "markdown",
      "metadata": {
        "id": "Y7-pZLbsdqOw"
      },
      "source": [
        "We can use $ℓ1$ and $ℓ2$ regularization  to  constrain  a  neural  network’s  connection  weights  (but  typically  not  its  biases).  Here  is  how  to  apply  $ℓ2$  regularization  to  a  Keras  layer’s  connection  weights, using a regularization factor of 0.01:"
      ]
    },
    {
      "cell_type": "code",
      "execution_count": null,
      "metadata": {
        "id": "E369mam-dqOx"
      },
      "outputs": [],
      "source": [
        "layer = Dense(100, activation=\"relu\",\n",
        "                           kernel_initializer=\"he_normal\",\n",
        "                           kernel_regularizer=keras.regularizers.l2(0.01))"
      ]
    },
    {
      "cell_type": "markdown",
      "metadata": {
        "id": "UD9lTIltdqOy"
      },
      "source": [
        "Applying the  same  regularizer, activation function and initialization strategy repeatedly to  all  layers  in  our  network may make it error-prone. To avoid this, we can try refactoring our code to use loops. Another option is to use Python’s `functools.partial()` function: it lets us  create  a  thin  wrapper  for  any  callable,  with  some  default  argument  values.  For example:"
      ]
    },
    {
      "cell_type": "code",
      "execution_count": null,
      "metadata": {
        "id": "4IUZfTosdqOz"
      },
      "outputs": [],
      "source": [
        "# creating regularized dense layer for model\n",
        "RegularizedDense = partial(keras.layers.Dense,\n",
        "                           activation=\"relu\",\n",
        "                           kernel_initializer=\"he_normal\",\n",
        "                           kernel_regularizer=keras.regularizers.l2(0.01))"
      ]
    },
    {
      "cell_type": "code",
      "execution_count": null,
      "metadata": {
        "id": "pwH4qCwhdqO0"
      },
      "outputs": [],
      "source": [
        "# defining model with regularization\n",
        "model = Sequential([\n",
        "    Flatten(input_shape=[28, 28]),\n",
        "    RegularizedDense(300),\n",
        "    RegularizedDense(100),\n",
        "    RegularizedDense(10, activation=\"softmax\",\n",
        "                     kernel_initializer=\"glorot_uniform\")\n",
        "])"
      ]
    },
    {
      "cell_type": "markdown",
      "metadata": {
        "id": "UQ9wGk2FdqO1"
      },
      "source": [
        "#### Dropout"
      ]
    },
    {
      "attachments": {},
      "cell_type": "markdown",
      "metadata": {
        "id": "23QlGnLbdqO2"
      },
      "source": [
        "Dropout  is  one  of  the  most  popular  regularization  techniques  for  deep  neural  networks. At each training stage, individual nodes are either dropped out of the net with probability 1-p or kept with probability p, so that a reduced network is left; incoming and outgoing edges to a dropped-out node are also removed.\n",
        "\n",
        "![Image](https://i.ibb.co/HnfSTyX/M5-2.jpg)\n",
        "\n",
        "$\\text{Figure: Dropout Regularization}$\n",
        "\n",
        "To  implement  dropout  using  Keras,  we  can  use  the  keras.layers.Dropout  layer. During  training,  it  randomly  drops  some  inputs  (setting  them  to  0)  and  divides  the remaining inputs by the keep probability. After training, it just passes  the  inputs  to  the  next  layer.  For  example,  the  following  code  applies  dropout regularization before every Dense layer, using a dropout rate of 0.2:"
      ]
    },
    {
      "cell_type": "code",
      "execution_count": null,
      "metadata": {
        "id": "_IErGvcSdqO3"
      },
      "outputs": [],
      "source": [
        "model = Sequential([\n",
        "                    Flatten(input_shape=[28, 28]),\n",
        "                    Dropout(rate=0.2),\n",
        "                    Dense(300, activation=\"relu\", kernel_initializer=\"he_normal\"),\n",
        "                    Dropout(rate=0.2),\n",
        "                    Dense(100, activation=\"relu\", kernel_initializer=\"he_normal\"),\n",
        "                    Dropout(rate=0.2),\n",
        "                    Dense(10, activation=\"softmax\")\n",
        "                    ])"
      ]
    },
    {
      "cell_type": "markdown",
      "metadata": {
        "id": "BpTgUd2EdqO4"
      },
      "source": [
        "If we observe that the model is overfitting, we can increase the dropout rate. Conversely, we should try decreasing the dropout rate if the model underfits the training set. "
      ]
    },
    {
      "cell_type": "markdown",
      "metadata": {
        "id": "9iQC5OcP8cTx"
      },
      "source": [
        "Based on the learnings above, let us now explore hyperparameter tuning during the neural network training phase.\n",
        "\n",
        "Here, we implement the sequential model and use the **MNIST dataset**."
      ]
    },
    {
      "cell_type": "markdown",
      "metadata": {
        "id": "sVb26VZQMLXn"
      },
      "source": [
        "#### Data Preparation"
      ]
    },
    {
      "cell_type": "markdown",
      "metadata": {
        "id": "ZYcT8C3cO7Nc"
      },
      "source": [
        "We load the MNIST dataset, using Keras' dataset utilities."
      ]
    },
    {
      "cell_type": "code",
      "execution_count": null,
      "metadata": {
        "colab": {
          "base_uri": "https://localhost:8080/"
        },
        "id": "JJsnHKAIMsW4",
        "outputId": "e0f597e2-9068-4af0-fcfc-bc0f8ddd99a0"
      },
      "outputs": [
        {
          "name": "stdout",
          "output_type": "stream",
          "text": [
            "Downloading data from https://storage.googleapis.com/tensorflow/tf-keras-datasets/mnist.npz\n",
            "11490434/11490434 [==============================] - 0s 0us/step\n"
          ]
        }
      ],
      "source": [
        "# data resizing variables\n",
        "NUM_ROWS = 28\n",
        "NUM_COLS = 28\n",
        "NUM_CLASSES = 10\n",
        "\n",
        "# Load data\n",
        "(X_train, y_train), (X_test, y_test) = mnist.load_data()"
      ]
    },
    {
      "cell_type": "markdown",
      "metadata": {
        "id": "mWHAgEhhVSJE"
      },
      "source": [
        "To feed MNIST instances into a neural network, they need to be reshaped, from a 2D image representation to a single dimension sequence. We also convert the class vector to a binary matrix (using to_categorical). This is accomplished below after which the same function defined above is called again in order to show the effects of our data reshaping."
      ]
    },
    {
      "cell_type": "code",
      "execution_count": null,
      "metadata": {
        "id": "t4gQx33YR1ca"
      },
      "outputs": [],
      "source": [
        "# Reshape data\n",
        "X_train = X_train.reshape((X_train.shape[0], NUM_ROWS * NUM_COLS))\n",
        "X_train = X_train.astype('float32') / 255\n",
        "X_test = X_test.reshape((X_test.shape[0], NUM_ROWS * NUM_COLS))\n",
        "X_test = X_test.astype('float32') / 255\n",
        "\n",
        "# Categorically encode labels\n",
        "y_train = to_categorical(y_train, NUM_CLASSES)\n",
        "y_test = to_categorical(y_test, NUM_CLASSES)"
      ]
    },
    {
      "cell_type": "code",
      "execution_count": null,
      "metadata": {
        "id": "TBfeJhORQCyB"
      },
      "outputs": [],
      "source": [
        "# create the sequential model with BN and dropout layers\n",
        "model = Sequential([\n",
        "    Dense(300, kernel_initializer=\"he_normal\", use_bias=False),\n",
        "    # dropout layer to drop neurons with rate less than 0.2\n",
        "    Dropout(rate=0.2),\n",
        "    # BN layer to rescale the inputs\n",
        "    BatchNormalization(),\n",
        "    Activation(\"relu\"),\n",
        "    Dense(100, kernel_initializer=\"he_normal\", use_bias=False),\n",
        "    Dropout(rate=0.2),\n",
        "    Activation(\"relu\"),\n",
        "    BatchNormalization(),\n",
        "    Dense(10, activation=\"softmax\")\n",
        "])"
      ]
    },
    {
      "cell_type": "markdown",
      "metadata": {
        "id": "VgVUeM5yWSTS"
      },
      "source": [
        "**Note:** You can also try to define Regularized dense layer and can create a sequential model as we see in the $l1$ and $l2$ regularization section discussed above."
      ]
    },
    {
      "cell_type": "code",
      "execution_count": null,
      "metadata": {
        "id": "rsKGOEeHQg_k"
      },
      "outputs": [],
      "source": [
        "# time based learning-rate scheduling\n",
        "epochs = 10\n",
        "learning_rate = 0.1\n",
        "decay_rate = learning_rate / epochs\n",
        "# define optimizer\n",
        "optimizer = keras.optimizers.Adam(learning_rate=0.1, beta_1=0.9, beta_2=0.999, decay=decay_rate)\n",
        " \n",
        "# Compile model\n",
        "model.compile(optimizer=optimizer,\n",
        "              loss='categorical_crossentropy',\n",
        "              metrics=['accuracy'])"
      ]
    },
    {
      "cell_type": "markdown",
      "metadata": {
        "id": "RJ3bT-_DUpLq"
      },
      "source": [
        "**Note:** In the above code cell, you can also try compiling the with other optimizers like RMS prop, momentum optimization, etc."
      ]
    },
    {
      "cell_type": "code",
      "execution_count": null,
      "metadata": {
        "colab": {
          "base_uri": "https://localhost:8080/",
          "height": 724
        },
        "id": "47V1U9LhQkIJ",
        "outputId": "ebe4aba9-7728-40ac-f0e1-b4cd36544d72"
      },
      "outputs": [
        {
          "data": {
            "image/png": "[encoded data removed]",
            "text/plain": [
              "<Figure size 864x576 with 2 Axes>"
            ]
          },
          "metadata": {
            "needs_background": "light"
          },
          "output_type": "display_data"
        },
        {
          "name": "stdout",
          "output_type": "stream",
          "text": [
            "accuracy\n",
            "\ttraining         \t (min:    0.904, max:    0.981, cur:    0.981)\n",
            "\tvalidation       \t (min:    0.959, max:    0.982, cur:    0.982)\n",
            "Loss\n",
            "\ttraining         \t (min:    0.059, max:    0.315, cur:    0.059)\n",
            "\tvalidation       \t (min:    0.066, max:    0.135, cur:    0.066)\n",
            "\b\b\b\b\b\b\b\b\b\b\b\b\b\b\b\b\b\b\b\b\b\b\b\b\b\b\b\b\b\b\b\b\b\b\b\b\b\b\b\b\b\b\b\b\b\b\b\b\b\b\b\b\b\b\b\b\b\b\b\b\b\b\b\b\b\b\b\b\b\b\b\b\b\b\b\b\b\b\b\b\b\b\b\b\r469/469 [==============================] - 5s 11ms/step - loss: 0.0588 - accuracy: 0.9806 - val_loss: 0.0656 - val_accuracy: 0.9818\n"
          ]
        },
        {
          "data": {
            "text/plain": [
              "<keras.callbacks.History at 0x7f047082d690>"
            ]
          },
          "execution_count": 43,
          "metadata": {},
          "output_type": "execute_result"
        }
      ],
      "source": [
        "# outputs epoch-by-epoch loss functions and accuracies at the end of each epoch of training\n",
        "plot_losses = livelossplot.PlotLossesKeras()\n",
        "\n",
        "# Train model\n",
        "model.fit(X_train, y_train,\n",
        "          batch_size=128,\n",
        "          epochs=epochs,\n",
        "          callbacks=[plot_losses],\n",
        "          verbose=1,\n",
        "          validation_data=(X_test, y_test))\n"
      ]
    },
    {
      "cell_type": "markdown",
      "metadata": {
        "id": "NPTUDJNjVd_n"
      },
      "source": [
        "##### Evaluation"
      ]
    },
    {
      "cell_type": "code",
      "execution_count": null,
      "metadata": {
        "colab": {
          "base_uri": "https://localhost:8080/"
        },
        "id": "sQhlgALoVgzA",
        "outputId": "69099de4-ec94-4331-a22b-1aaa7eec72d8"
      },
      "outputs": [
        {
          "name": "stdout",
          "output_type": "stream",
          "text": [
            "Test loss: 0.06555616110563278\n",
            "Test accuracy: 0.9818000197410583\n"
          ]
        }
      ],
      "source": [
        "score = model.evaluate(X_test, y_test, verbose=0)\n",
        "print('Test loss:', score[0])\n",
        "print('Test accuracy:', score[1])"
      ]
    },
    {
      "cell_type": "markdown",
      "metadata": {
        "id": "u2rywYq6bjG4"
      },
      "source": [
        "##### Model Summary"
      ]
    },
    {
      "cell_type": "code",
      "execution_count": null,
      "metadata": {
        "colab": {
          "base_uri": "https://localhost:8080/"
        },
        "id": "WhEfjsTKbny1",
        "outputId": "f0adedd1-8298-44ba-c151-aa40621c60ab"
      },
      "outputs": [
        {
          "name": "stdout",
          "output_type": "stream",
          "text": [
            "Model: \"sequential_36\"\n",
            "_________________________________________________________________\n",
            " Layer (type)                Output Shape              Param #   \n",
            "=================================================================\n",
            " dense_104 (Dense)           (None, 300)               235200    \n",
            "                                                                 \n",
            " dropout_3 (Dropout)         (None, 300)               0         \n",
            "                                                                 \n",
            " batch_normalization_6 (Batc  (None, 300)              1200      \n",
            " hNormalization)                                                 \n",
            "                                                                 \n",
            " activation_2 (Activation)   (None, 300)               0         \n",
            "                                                                 \n",
            " dense_105 (Dense)           (None, 100)               30000     \n",
            "                                                                 \n",
            " dropout_4 (Dropout)         (None, 100)               0         \n",
            "                                                                 \n",
            " activation_3 (Activation)   (None, 100)               0         \n",
            "                                                                 \n",
            " batch_normalization_7 (Batc  (None, 100)              400       \n",
            " hNormalization)                                                 \n",
            "                                                                 \n",
            " dense_106 (Dense)           (None, 10)                1010      \n",
            "                                                                 \n",
            "=================================================================\n",
            "Total params: 267,810\n",
            "Trainable params: 267,010\n",
            "Non-trainable params: 800\n",
            "_________________________________________________________________\n"
          ]
        }
      ],
      "source": [
        "model.summary()"
      ]
    },
    {
      "cell_type": "markdown",
      "metadata": {
        "id": "5v4LSY3AdqO5"
      },
      "source": [
        "### Theory Questions"
      ]
    },
    {
      "cell_type": "markdown",
      "metadata": {
        "id": "Z62bkuLOdqO5"
      },
      "source": [
        "**Q1.** How many neurons do you need in the output layer if you want to classify email into spam or ham? What activation function should you use in the output layer?\n",
        "\n",
        "**Answer 1:** Email classification is a binary classification problem, so you would only need one neuron in the output layer. This neuron would indicate the probability that the email is spam or ham. You'd most likely use the sigmoid activation function in the output layer.\n",
        "\n",
        "For the MNIST problem you would need 10 output neurons in the final layer, one for each digit. You would then replace the logistic function with the softmax function which can output one probability per class per digit.\n",
        "\n",
        "**Q2.** Can you list all the hyperparameters you can tweak in an MLP? If the MLP overfits the training data, how could you tweak these hyperparameters to try to solve the problem?\n",
        "\n",
        "**Answer 2:** In general, the hyperparameters of a neural network you can adjust are the number of hidden layers, the number of neurons in each hidden layer, and the activation function used by each neuron.\n",
        "\n",
        "For binary classification, use the logistic activation function. For a multi-class problem, use softmax. For a linear regression problem, don't use an activation function.\n",
        "\n",
        "Some simple ways to try and solve overfitting are reducing the number of hidden layers or the number of neurons.\n",
        "\n",
        "**Q3.** What  may  happen  if  you  set  the  momentum  hyperparameter  too  close  to  1  (e.g., 0.99999) when using an SGD optimizer?\n",
        "\n",
        "**Answer 3:** If you set the momentum hyperparameter too close to 1 (e.g., 0.99999) when using an SGD optimizer, then the algorithm will likely pick up a lot of speed, hopefully moving roughly toward the global minimum, but its momentum will carry it right past the minimum. Then it will slow down and come back, accelerate again, overshoot again, and so on. It may oscillate this way many times before converging, so overall it will take much longer to converge than with a smaller momentum value.\n",
        "\n",
        "**Q4.** Does dropout slow down training?\n",
        "\n",
        "**Answer 4:** Yes, dropout does slow down training, in general roughly by a factor of two."
      ]
    }
  ],
  "metadata": {
    "colab": {
      "provenance": []
    },
    "kernelspec": {
      "display_name": "Python 3",
      "language": "python",
      "name": "python3"
    },
    "language_info": {
      "codemirror_mode": {
        "name": "ipython",
        "version": 3
      },
      "file_extension": ".py",
      "mimetype": "text/x-python",
      "name": "python",
      "nbconvert_exporter": "python",
      "pygments_lexer": "ipython3",
      "version": "3.8.5"
    }
  },
  "nbformat": 4,
  "nbformat_minor": 0
}
