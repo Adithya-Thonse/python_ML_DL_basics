{
  "cells": [
    {
      "attachments": {},
      "cell_type": "markdown",
      "metadata": {
        "id": "8PJov8VByM1Y"
      },
      "source": [
        "# Keras"
      ]
    },
    {
      "cell_type": "markdown",
      "metadata": {
        "id": "Aup50iiwyRII"
      },
      "source": [
        "## Learning Objectives"
      ]
    },
    {
      "cell_type": "markdown",
      "metadata": {
        "id": "UaslCbPByVCM"
      },
      "source": [
        "At the end of the experiment, you will be able to:\n",
        "\n",
        "* know what is Keras and why it is used\n",
        "* know and implement the three APIs of Keras, *Sequential model, Functional model and model Subclass*\n",
        "* know how to implement each of the above models using Diabetes dataset\n",
        "* Know how to implement Sequential model using MNIST dataset"
      ]
    },
    {
      "cell_type": "markdown",
      "metadata": {
        "id": "pw2sxmXeybzb"
      },
      "source": [
        "First we will look at the introduction to Keras and the packages we will use in this notebook."
      ]
    },
    {
      "cell_type": "markdown",
      "metadata": {
        "id": "csIlthaltLl3"
      },
      "source": [
        "### Keras"
      ]
    },
    {
      "cell_type": "markdown",
      "metadata": {
        "id": "3jYVIbtAtPMX"
      },
      "source": [
        "Keras is a high-level neural networks API, capable of running on top of Tensorflow, Theano, and CNTK. It enables fast experimentation through a high level, user-friendly, modular and extensible API. Keras can also be run on both CPU and GPU.\n",
        "Keras was developed and is maintained by Francois Chollet and is part of the Tensorflow core, which makes it Tensorflows preferred high-level API.\n",
        "\n"
      ]
    },
    {
      "cell_type": "markdown",
      "metadata": {
        "id": "GnC-bTPLvPkB"
      },
      "source": [
        "#### Why we use Keras "
      ]
    },
    {
      "cell_type": "markdown",
      "metadata": {
        "id": "0EScrFLovS8M"
      },
      "source": [
        "* Keras prioritizes developer experience\n",
        "* Keras has broad adoption in the industry and the research community\n",
        "* Keras makes it easy to turn models into products\n",
        "* Keras has strong multi-GPU & distributed training support\n",
        "\n",
        "To know more about Keras, click [here](https://keras.io/).\n",
        "\n"
      ]
    },
    {
      "cell_type": "markdown",
      "metadata": {
        "id": "jtC11Ephx1M9"
      },
      "source": [
        "### Importing required packages"
      ]
    },
    {
      "cell_type": "code",
      "execution_count": null,
      "metadata": {
        "id": "GpDAib8nykTx"
      },
      "outputs": [],
      "source": [
        "import numpy as np                                                               # importing numpy library\n",
        "import tensorflow as tf                                                          # importing tensorflow library      \n",
        "from tensorflow import keras                                                     # from tensorflow importing Keras\n",
        "from tensorflow.keras import layers                                              # importing layers from Keras\n",
        "import keras.models                                                              # to load Keras models api\n",
        "from keras.models import Sequential, Model                                       # to load sequential model api\n",
        "from keras.layers import Activation, Dense, Input, Flatten, Dropout              # from Keras layers importing layers\n",
        "import os, datetime                                                              # importing operating system and datetime library\n",
        "import pandas as pd                                                              # importind pandas to read csv files\n",
        "from sklearn.datasets import load_boston                                         # Importing the Boston Housing dataset\n",
        "from sklearn.model_selection import train_test_split                             # importing train, test and split using sklearn library\n",
        "from sklearn.preprocessing import StandardScaler                                 # Standadizing the data"
      ]
    },
    {
      "cell_type": "markdown",
      "metadata": {
        "id": "ttKNFNtcybzo"
      },
      "source": [
        "Now, we look at the three APIs of Keras, and how to implement them in python. Also, we will look at the neural network model parameters."
      ]
    },
    {
      "cell_type": "markdown",
      "metadata": {
        "id": "pf1TshdewL2k"
      },
      "source": [
        "### Keras Models (Three APIs)"
      ]
    },
    {
      "cell_type": "markdown",
      "metadata": {
        "id": "9gdOQQq3w4Gz"
      },
      "source": [
        "#### 1. The Sequential Model"
      ]
    },
    {
      "cell_type": "markdown",
      "metadata": {
        "id": "ShLZQAafxn8K"
      },
      "source": [
        "A Sequential model consists of Keras layers linearly stacked in the model. This is simple and serves ~60–70% of the applications but has a major limitation that it works only with single-input and single-output. If your use case requires multiple inputs and/or outputs, then go for Functional or Subclassed model APIs. See the Keras documentation on creating a Sequential Model [here](https://faroit.com/keras-docs/1.0.1/getting-started/sequential-model-guide/).\n",
        "\n",
        "We can define a Sequential model either way shown below.\n"
      ]
    },
    {
      "cell_type": "code",
      "execution_count": null,
      "metadata": {
        "id": "VJWtYiMMxubM"
      },
      "outputs": [],
      "source": [
        "# Define a Sequential model (Approach #1)\n",
        "model = Sequential()\n",
        "model.add(Dense(4,activation='relu',\n",
        "      input_shape=(3,), name='hidden1'))\n",
        "model.add(Dense(4,activation='relu',name='hidden2'))\n",
        "model.add(Dense(1, name='output_layer'))"
      ]
    },
    {
      "cell_type": "code",
      "execution_count": null,
      "metadata": {
        "id": "56bT3geJs69Z"
      },
      "outputs": [],
      "source": [
        "# Define a Sequential model (Approach #2)\n",
        "model = Sequential([\n",
        "      Dense(4, activation='relu', \n",
        "             input_shape=(3,),name='hidden1'),\n",
        "      Dense(4, activation='relu', name='hidden2'),\n",
        "      Dense(1, name='output_layer')])"
      ]
    },
    {
      "cell_type": "markdown",
      "metadata": {
        "id": "rDC_xC1N0knm"
      },
      "source": [
        "#### 2. Functional Model"
      ]
    },
    {
      "cell_type": "markdown",
      "metadata": {
        "id": "ZFKpbpEn0tqX"
      },
      "source": [
        "Unlike Sequential model, Functional model is little complex, but handles multiple-inputs and outputs. It can handle models with non-linear topology, can share and re-use layers, and is a more flexible model that provides more knobs to play with improving performance. This model API can be used for developing complex models that can serve most of the use cases. See the Keras documentation on creating a Functional API [here](https://faroit.com/keras-docs/1.0.1/getting-started/functional-api-guide/).\n",
        "\n",
        "We can define a Functional model as described below."
      ]
    },
    {
      "cell_type": "code",
      "execution_count": null,
      "metadata": {
        "id": "1rRARhd_z_J3"
      },
      "outputs": [],
      "source": [
        "inputs = keras.Input(shape=(3,),name='input_layer')\n",
        "X = Dense(4,activation='relu', name='hidden1')(inputs)\n",
        "X = Dense(4,activation='relu', name='hidden2')(X)\n",
        "outputs = Dense(1, name='output_layer')(X)\n",
        "# Functional Model\n",
        "model = Model(inputs=inputs, outputs=outputs)"
      ]
    },
    {
      "cell_type": "markdown",
      "metadata": {
        "id": "dMM-lLk61BPq"
      },
      "source": [
        "#### 3. Subclassed Model"
      ]
    },
    {
      "cell_type": "markdown",
      "metadata": {
        "id": "XdCmwGee1Dx4"
      },
      "source": [
        "This is most complex when compared to the above two model APIs but provides more flexibility while modeling complex use cases. Here, Keras Model class (tf.keras.Model) is subclassed which allows us to inherit functionality under the class, such as fit/predict/eval etc.\n",
        "\n",
        "One of the major differences between the Subclassed model and the above two model APIs is that the former is a piece of python code in the call method whereas the latter is a static graph. Because of this difference, saving and loading Subclassed models is significantly different from other model APIs."
      ]
    },
    {
      "cell_type": "code",
      "execution_count": null,
      "metadata": {
        "id": "p7jNY6c81DWy"
      },
      "outputs": [],
      "source": [
        "class MyModel(tf.keras.Model):\n",
        "    def __init__(self):\n",
        "        super(MyModel, self).__init__()\n",
        "        self.dense1 = Dense(4,activation='relu', name='hidden1')\n",
        "        self.dense2 = Dense(4,activation='relu', name='hidden2')\n",
        "        self.dense3 = Dense(1, name='output_layer')\n",
        "    \n",
        "    def call(self, inputs):\n",
        "        x = self.dense1(inputs)\n",
        "        x = self.dense2(x)\n",
        "        return self.dense3(x)\n",
        " \n",
        " \n",
        "model = MyModel()"
      ]
    },
    {
      "cell_type": "markdown",
      "metadata": {
        "id": "mGif4erm3ivj"
      },
      "source": [
        "### Comparing Sequential model API, Functional model API and Subclass Model API\n",
        "\n",
        "![Image](https://miro.medium.com/max/9004/1*WzwKtnA0LEhiCGdWTTpLaA.png)\n",
        "\n",
        "\n",
        "\n"
      ]
    },
    {
      "cell_type": "markdown",
      "metadata": {
        "id": "jpW1D43uybz3"
      },
      "source": [
        "### Model Parameters"
      ]
    },
    {
      "cell_type": "markdown",
      "metadata": {
        "id": "6c01YzrQybz6"
      },
      "source": [
        "#### Neural Network Model  Parameters"
      ]
    },
    {
      "cell_type": "markdown",
      "metadata": {
        "id": "vxLK0RBIybz7"
      },
      "source": [
        "* Number of layers\n",
        "* Number of neurons in each layer\n",
        "* Connection between neurons from difeerent layer\n",
        "* Activation function\n",
        "* Optimization method\n",
        "* Error function"
      ]
    },
    {
      "cell_type": "markdown",
      "metadata": {
        "id": "pjVu63erybz8"
      },
      "source": [
        "#### Training Parameters"
      ]
    },
    {
      "cell_type": "markdown",
      "metadata": {
        "id": "SNoJNJn2ybz8"
      },
      "source": [
        "* Number of epochs\n",
        "* Batch Size"
      ]
    },
    {
      "cell_type": "markdown",
      "metadata": {
        "id": "s-CRFt8Uybz9"
      },
      "source": [
        "#### Model Evaluation Parameters"
      ]
    },
    {
      "cell_type": "markdown",
      "metadata": {
        "id": "b7KjH9rEybz-"
      },
      "source": [
        "* Measurement\n",
        "* Training/Evaluation/Test\n",
        "\n",
        "To know more about neural network models, click [here](https://otexts.com/fpp2/nnetar.html)."
      ]
    },
    {
      "cell_type": "markdown",
      "metadata": {
        "id": "iycGc8Diybz_"
      },
      "source": [
        "At the end of this notebook, we will look at the diabetes dataset and implement it using all the three APIs discussed above.\n",
        "\n",
        "Also, we will be using MNIST dataset and build a neural network using the sequential API."
      ]
    },
    {
      "cell_type": "markdown",
      "metadata": {
        "id": "usgiuvjFAuDf"
      },
      "source": [
        "### $\\color{orange}{\\text{Simple Sequential Model}}$"
      ]
    },
    {
      "cell_type": "markdown",
      "metadata": {
        "id": "TnMgZh6iCWR9"
      },
      "source": [
        "#### 1. Sequential Model using MNIST Dataset\n",
        "\n",
        "The following code describes\n",
        "\n",
        "* Defining simple DL model, download MNIST data, training and evaluating performance\n",
        "* Saving the trained model\n",
        "* Loading the saved model and evaluating the performance\n",
        "* Checking few callback APIs (TensorBoard, ModelCheckpoints, History)\n",
        "\n",
        "**MNIST Dataset**\n",
        "\n",
        "The MNIST dataset (Modified National Institute of Standards and Technology database) is a large database of handwritten digits that is commonly used for training various image processing systems. The database is also widely used for training and testing in the field of machine learning. The MNIST database contains 60,000 training images and 10,000 testing images.\n",
        "\n"
      ]
    },
    {
      "cell_type": "markdown",
      "metadata": {
        "id": "S_w1RUALyb0F"
      },
      "source": [
        "![Image](https://miro.medium.com/max/1872/1*SGPGG7oeSvVlV5sOSQ2iZw.png)"
      ]
    },
    {
      "cell_type": "code",
      "execution_count": null,
      "metadata": {
        "id": "5f3s7Cvo05_o"
      },
      "outputs": [],
      "source": [
        "# Load data\n",
        "mnist = tf.keras.datasets.mnist"
      ]
    },
    {
      "cell_type": "code",
      "execution_count": null,
      "metadata": {
        "colab": {
          "base_uri": "https://localhost:8080/"
        },
        "id": "09ld_-W7DX1P",
        "outputId": "bf598cf7-af15-4f97-c6fb-eccc8a4b949a"
      },
      "outputs": [
        {
          "name": "stdout",
          "output_type": "stream",
          "text": [
            "Downloading data from https://storage.googleapis.com/tensorflow/tf-keras-datasets/mnist.npz\n",
            "11490434/11490434 [==============================] - 0s 0us/step\n"
          ]
        }
      ],
      "source": [
        "# Split the data to train and test\n",
        "(x_train, y_train),(x_test, y_test) = mnist.load_data()"
      ]
    },
    {
      "cell_type": "code",
      "execution_count": null,
      "metadata": {
        "id": "UtR12R_gDc43"
      },
      "outputs": [],
      "source": [
        "# Process the data\n",
        "x_train, x_test = x_train / 255.0, x_test / 255.0"
      ]
    },
    {
      "cell_type": "code",
      "execution_count": null,
      "metadata": {
        "id": "64HceetMDg_f"
      },
      "outputs": [],
      "source": [
        "# Define model\n",
        "def create_model():\n",
        "    model = Sequential([\n",
        "    Flatten(input_shape=(28, 28)),\n",
        "    Dense(512, activation='relu'),\n",
        "    Dropout(0.2),\n",
        "    Dense(10, activation='softmax')\n",
        "    ])\n",
        "  \n",
        "  # Compile the model\n",
        "    model.compile(optimizer='adam',\n",
        "              loss='sparse_categorical_crossentropy',\n",
        "              metrics=['accuracy'])\n",
        "    return model"
      ]
    },
    {
      "cell_type": "code",
      "execution_count": null,
      "metadata": {
        "id": "0WGG2xHMDmFT"
      },
      "outputs": [],
      "source": [
        "# Create a basic model instance\n",
        "model=create_model()"
      ]
    },
    {
      "cell_type": "markdown",
      "metadata": {
        "id": "2B0FuX9Eyb0K"
      },
      "source": [
        "Let us now visualise the above machine learning workflow using tensorboard."
      ]
    },
    {
      "cell_type": "markdown",
      "metadata": {
        "id": "zxsxPLJQyb0L"
      },
      "source": [
        "**Tensorboard**\n",
        "\n",
        "TensorBoard is a tool for providing the measurements and visualizations needed during the machine learning workflow. It enables tracking experiment metrics like loss and accuracy, visualizing the model graph, projecting embeddings to a lower dimensional space, and much more.\n",
        "\n",
        "To know more about tensorboard, click [here](https://keras.io/api/callbacks/tensorboard/).\n"
      ]
    },
    {
      "cell_type": "code",
      "execution_count": null,
      "metadata": {
        "id": "V_2GBCBzDqqO"
      },
      "outputs": [],
      "source": [
        "# Define Tensorboard callback # intro of tensorboad?\n",
        "logdir = os.path.join(\"logs\", datetime.datetime.now().strftime(\"%Y%m%d-%H%M%S\"))\n",
        "tensorboard_callback = tf.keras.callbacks.TensorBoard(logdir, histogram_freq=1)"
      ]
    },
    {
      "cell_type": "code",
      "execution_count": null,
      "metadata": {
        "id": "p4TLlDpREjUg"
      },
      "outputs": [],
      "source": [
        "# Define ModelCheckpoint callback\n",
        "checkpoint_path = \"training_2/cp-{epoch:04d}.ckpt\"\n",
        "checkpoint_dir = os.path.dirname(checkpoint_path)\n",
        "checkpoint_callback = tf.keras.callbacks.ModelCheckpoint(\n",
        "   checkpoint_path, monitor='val_acc', verbose=1, save_weights_only=True,\n",
        "   # Save weights, every epoch.\n",
        "   save_freq='epoch')"
      ]
    },
    {
      "cell_type": "code",
      "execution_count": null,
      "metadata": {
        "colab": {
          "base_uri": "https://localhost:8080/"
        },
        "id": "-kjyXrwPEm_E",
        "outputId": "32c90e5e-bf06-496a-d0aa-a36cc7595cf8"
      },
      "outputs": [
        {
          "name": "stdout",
          "output_type": "stream",
          "text": [
            "Epoch 1/10\n",
            "1870/1875 [============================>.] - ETA: 0s - loss: 0.2209 - accuracy: 0.9343\n",
            "Epoch 1: saving model to training_2/cp-0001.ckpt\n",
            "1875/1875 [==============================] - 13s 6ms/step - loss: 0.2208 - accuracy: 0.9343 - val_loss: 0.1035 - val_accuracy: 0.9691\n",
            "Epoch 2/10\n",
            "1874/1875 [============================>.] - ETA: 0s - loss: 0.0961 - accuracy: 0.9702\n",
            "Epoch 2: saving model to training_2/cp-0002.ckpt\n",
            "1875/1875 [==============================] - 12s 6ms/step - loss: 0.0961 - accuracy: 0.9702 - val_loss: 0.0838 - val_accuracy: 0.9737\n",
            "Epoch 3/10\n",
            "1871/1875 [============================>.] - ETA: 0s - loss: 0.0680 - accuracy: 0.9787\n",
            "Epoch 3: saving model to training_2/cp-0003.ckpt\n",
            "1875/1875 [==============================] - 14s 7ms/step - loss: 0.0679 - accuracy: 0.9787 - val_loss: 0.0693 - val_accuracy: 0.9779\n",
            "Epoch 4/10\n",
            "1875/1875 [==============================] - ETA: 0s - loss: 0.0522 - accuracy: 0.9829\n",
            "Epoch 4: saving model to training_2/cp-0004.ckpt\n",
            "1875/1875 [==============================] - 13s 7ms/step - loss: 0.0522 - accuracy: 0.9829 - val_loss: 0.0670 - val_accuracy: 0.9797\n",
            "Epoch 5/10\n",
            "1872/1875 [============================>.] - ETA: 0s - loss: 0.0427 - accuracy: 0.9860\n",
            "Epoch 5: saving model to training_2/cp-0005.ckpt\n",
            "1875/1875 [==============================] - 13s 7ms/step - loss: 0.0427 - accuracy: 0.9859 - val_loss: 0.0583 - val_accuracy: 0.9814\n",
            "Epoch 6/10\n",
            "1875/1875 [==============================] - ETA: 0s - loss: 0.0345 - accuracy: 0.9885\n",
            "Epoch 6: saving model to training_2/cp-0006.ckpt\n",
            "1875/1875 [==============================] - 13s 7ms/step - loss: 0.0345 - accuracy: 0.9885 - val_loss: 0.0664 - val_accuracy: 0.9798\n",
            "Epoch 7/10\n",
            "1875/1875 [==============================] - ETA: 0s - loss: 0.0310 - accuracy: 0.9893\n",
            "Epoch 7: saving model to training_2/cp-0007.ckpt\n",
            "1875/1875 [==============================] - 13s 7ms/step - loss: 0.0310 - accuracy: 0.9893 - val_loss: 0.0754 - val_accuracy: 0.9796\n",
            "Epoch 8/10\n",
            "1874/1875 [============================>.] - ETA: 0s - loss: 0.0261 - accuracy: 0.9914\n",
            "Epoch 8: saving model to training_2/cp-0008.ckpt\n",
            "1875/1875 [==============================] - 14s 8ms/step - loss: 0.0261 - accuracy: 0.9914 - val_loss: 0.0661 - val_accuracy: 0.9833\n",
            "Epoch 9/10\n",
            "1871/1875 [============================>.] - ETA: 0s - loss: 0.0237 - accuracy: 0.9920\n",
            "Epoch 9: saving model to training_2/cp-0009.ckpt\n",
            "1875/1875 [==============================] - 13s 7ms/step - loss: 0.0236 - accuracy: 0.9920 - val_loss: 0.0745 - val_accuracy: 0.9814\n",
            "Epoch 10/10\n",
            "1871/1875 [============================>.] - ETA: 0s - loss: 0.0210 - accuracy: 0.9930\n",
            "Epoch 10: saving model to training_2/cp-0010.ckpt\n",
            "1875/1875 [==============================] - 13s 7ms/step - loss: 0.0209 - accuracy: 0.9930 - val_loss: 0.0676 - val_accuracy: 0.9827\n",
            "264/313 [========================>.....] - ETA: 0s - loss: 0.0717 - accuracy: 0.9815"
          ]
        }
      ],
      "source": [
        "# define history callback so that we can access to plot graphs\n",
        "history = model.fit(x_train, y_train, epochs=10,validation_data=(x_test, y_test), callbacks=[tensorboard_callback, checkpoint_callback])\n",
        "loss, acc = model.evaluate(x_test, y_test,verbose=1)\n",
        "# displaying accuracy of model\n",
        "print(\"Original model, accuracy: {:5.2f}%\".format(100*acc))"
      ]
    },
    {
      "cell_type": "markdown",
      "metadata": {
        "id": "i9lL7uSspQzn"
      },
      "source": [
        "##### Tensorboard Setup "
      ]
    },
    {
      "cell_type": "code",
      "execution_count": null,
      "metadata": {
        "id": "3EVt7Vqnlhcb"
      },
      "outputs": [],
      "source": [
        "# Load the TensorBoard notebook extension.\n",
        "%load_ext tensorboard"
      ]
    },
    {
      "cell_type": "code",
      "execution_count": null,
      "metadata": {
        "id": "jHhwetNZmfYs"
      },
      "outputs": [],
      "source": [
        "%tensorboard --logdir logs"
      ]
    },
    {
      "cell_type": "markdown",
      "metadata": {
        "id": "umgc3NluE5fu"
      },
      "source": [
        "#### Save and load the model"
      ]
    },
    {
      "cell_type": "code",
      "execution_count": null,
      "metadata": {
        "id": "6x26W4oXEqnG"
      },
      "outputs": [],
      "source": [
        "# save the model to SavedModel format\n",
        "model.save('MyModel',save_format='tf')"
      ]
    },
    {
      "cell_type": "code",
      "execution_count": null,
      "metadata": {
        "id": "JKBYr0AfFHtW"
      },
      "outputs": [],
      "source": [
        "# load the saved model\n",
        "loaded_model = tf.keras.models.load_model('MyModel')\n",
        "loaded_loss, loaded_acc = loaded_model.evaluate(x_test, y_test,verbose=1)"
      ]
    },
    {
      "cell_type": "code",
      "execution_count": null,
      "metadata": {
        "id": "1zQG_zMSFKkG"
      },
      "outputs": [],
      "source": [
        "# displaying accuracy of the model\n",
        "print(\"Loaded model, accuracy: {:5.2f}%\".format(100*loaded_acc))"
      ]
    },
    {
      "cell_type": "markdown",
      "metadata": {
        "id": "BPZzHsx78-iS"
      },
      "source": [
        "### Diabetes Dataset\n"
      ]
    },
    {
      "cell_type": "markdown",
      "metadata": {
        "id": "vIC0ND40-4lp"
      },
      "source": [
        "##### Description\n",
        "\n",
        "This dataset is originally from the National Institute of Diabetes and Digestive and Kidney Diseases. The objective is to predict based on diagnostic measurements whether a patient has diabetes.\n",
        "\n",
        "Several constraints were placed on the selection of these instances from a larger database. In particular, all patients here are females at least 21 years old of Pima Indian heritage.\n",
        "\n",
        "The dataset consists of 8 features in which 1 is our target variable with 1 and 0 as output. 1 means affected by diabetes and 0 means not affected with it.\n",
        "\n",
        "* Pregnancies: Number of times pregnant\n",
        "* Glucose: Plasma glucose concentration a 2 hours in an oral glucose tolerance test\n",
        "* BloodPressure: Diastolic blood pressure (mm Hg)\n",
        "* SkinThickness: Triceps skin fold thickness (mm)\n",
        "* Insulin: 2-Hour serum insulin (mu U/ml)\n",
        "* BMI: Body mass index (weight in kg/(height in m)^2)\n",
        "* DiabetesPedigreeFunction: Diabetes pedigree function\n",
        "* Age: Age (years)\n",
        "* Outcome: Class variable (0 or 1)"
      ]
    },
    {
      "cell_type": "markdown",
      "metadata": {
        "id": "bImdSwfpyb0T"
      },
      "source": [
        "In all the implementation from now we will be using the diabetes dataset."
      ]
    },
    {
      "cell_type": "code",
      "execution_count": null,
      "metadata": {
        "id": "vrsHEHnYyb0V"
      },
      "outputs": [],
      "source": [
        "# loading the dataset\n",
        "!wget https://cdn.talentsprint.com/aiml/Experiment_related_data/diabetes.csv"
      ]
    },
    {
      "cell_type": "code",
      "execution_count": null,
      "metadata": {
        "id": "8Ymcd3Chyb0W"
      },
      "outputs": [],
      "source": [
        "# reading the dataset using pandas\n",
        "data = pd.read_csv('diabetes.csv')"
      ]
    },
    {
      "cell_type": "code",
      "execution_count": null,
      "metadata": {
        "id": "SEZG4olTyb0X"
      },
      "outputs": [],
      "source": [
        "# first five rows \n",
        "data.head()"
      ]
    },
    {
      "cell_type": "code",
      "execution_count": null,
      "metadata": {
        "id": "owWFBGB0yb0Y"
      },
      "outputs": [],
      "source": [
        "# defining x and y variables\n",
        "X = data.iloc[:,0:8]\n",
        "y = data.iloc[:,8:] "
      ]
    },
    {
      "cell_type": "code",
      "execution_count": null,
      "metadata": {
        "id": "m0qrAuNDyb0Y"
      },
      "outputs": [],
      "source": [
        "# splitting the data into training (70%) and testing data (30%)\n",
        "X_train,X_test,y_train,y_test = train_test_split(X,y,test_size = 0.3,random_state = 0 )"
      ]
    },
    {
      "cell_type": "code",
      "execution_count": null,
      "metadata": {
        "id": "HgAmNcjvyb0Z"
      },
      "outputs": [],
      "source": [
        "scaler = StandardScaler().fit(X_train)\n",
        "X_train = scaler.transform(X_train)\n",
        "X_test = scaler.transform(X_test)"
      ]
    },
    {
      "cell_type": "markdown",
      "metadata": {
        "id": "wdrsbos8yb0S"
      },
      "source": [
        "#### 2. Sequential Model Using Diabetes dataset"
      ]
    },
    {
      "cell_type": "code",
      "execution_count": null,
      "metadata": {
        "id": "W2MUUmrfyb0a"
      },
      "outputs": [],
      "source": [
        "# defining the model\n",
        "model = Sequential()\n",
        "model.add(Dense(8,activation='relu', input_shape = (8,)))                           # first hidden layer\n",
        "model.add(Dense(8,activation='relu'))                                               # second hidden layer\n",
        "model.add(Dense(1,activation='sigmoid'))                                            # output layer"
      ]
    },
    {
      "cell_type": "code",
      "execution_count": null,
      "metadata": {
        "id": "Pg-IM6PTyb0b"
      },
      "outputs": [],
      "source": [
        "# compiling the model\n",
        "# binary_crossentropy is used as this a binary classification problem\n",
        "model.compile(loss='binary_crossentropy',optimizer='sgd',metrics=['accuracy'])"
      ]
    },
    {
      "cell_type": "code",
      "execution_count": null,
      "metadata": {
        "id": "zno0mccoyb0c"
      },
      "outputs": [],
      "source": [
        "model.fit(X_train,y_train,epochs = 5,batch_size = 2,verbose = 2)"
      ]
    },
    {
      "cell_type": "code",
      "execution_count": null,
      "metadata": {
        "id": "qldx524kyb0c"
      },
      "outputs": [],
      "source": [
        "# print the summary of model\n",
        "print(model.summary())"
      ]
    },
    {
      "cell_type": "code",
      "execution_count": null,
      "metadata": {
        "id": "nTzzIqdYyb0d"
      },
      "outputs": [],
      "source": [
        "# predict the outcomes\n",
        "y_predict = model.predict(X_test)\n",
        "loss,score = model.evaluate(X_test, y_test)\n",
        "# displaying the score\n",
        "print(score)"
      ]
    },
    {
      "cell_type": "markdown",
      "metadata": {
        "id": "AO_QYj-Xyb0e"
      },
      "source": [
        "### $\\color{orange}{\\text{Functional Model}}$"
      ]
    },
    {
      "cell_type": "markdown",
      "metadata": {
        "id": "df-7dsYnyb0f"
      },
      "source": [
        "#### Functional Model using Diabetes Dataset\n",
        "\n"
      ]
    },
    {
      "cell_type": "code",
      "execution_count": null,
      "metadata": {
        "id": "s5mlUGn7yb0k"
      },
      "outputs": [],
      "source": [
        "# defing the layers using variables\n",
        "inputs = Input(shape = (8,))\n",
        "x = Dense(8,activation = 'relu')(inputs)                          # first hidden layer\n",
        "xf = Dense(8,activation = 'relu')(x)                              # second hidden layer\n",
        "predictions = Dense(1,activation = 'sigmoid')(xf)                 # final output layer"
      ]
    },
    {
      "cell_type": "code",
      "execution_count": null,
      "metadata": {
        "id": "ce3tc8ufyb0l"
      },
      "outputs": [],
      "source": [
        "# defining the model\n",
        "model = Model(inputs =inputs,outputs = predictions)"
      ]
    },
    {
      "cell_type": "code",
      "execution_count": null,
      "metadata": {
        "id": "02yQwvqPyb0m"
      },
      "outputs": [],
      "source": [
        "model.compile(loss='binary_crossentropy',optimizer='sgd',metrics=['accuracy'])\n",
        "model.fit(X_train,y_train,epochs = 5,batch_size = 2,verbose = 2)"
      ]
    },
    {
      "cell_type": "code",
      "execution_count": null,
      "metadata": {
        "id": "bGh0YQSeyb0m"
      },
      "outputs": [],
      "source": [
        "# predicting the output\n",
        "y_pred = model.predict(X_test)\n",
        "loss,score = model.evaluate(X_test,y_test,verbose = 0)\n",
        "print(score)"
      ]
    },
    {
      "cell_type": "code",
      "execution_count": null,
      "metadata": {
        "id": "K_nmyDltyb0n"
      },
      "outputs": [],
      "source": [
        "# summary of the model\n",
        "print(model.summary())"
      ]
    },
    {
      "cell_type": "markdown",
      "metadata": {
        "id": "tS2OpDVMyb0o"
      },
      "source": [
        "### $\\color{orange}{\\text{Subclass Model}}$"
      ]
    },
    {
      "cell_type": "markdown",
      "metadata": {
        "id": "1EYU_Ehayb0o"
      },
      "source": [
        "#### Subclass Model using diabetes dataset"
      ]
    },
    {
      "cell_type": "code",
      "execution_count": null,
      "metadata": {
        "id": "KJE4Pzgmyb0v"
      },
      "outputs": [],
      "source": [
        "# defining layers using subclass model API\n",
        "class Mymodel(tf.keras.Model):\n",
        "    def __init__(self):\n",
        "        super(Mymodel, self).__init__()                                 # calling the class using super\n",
        "        self.dense1 = Dense(8, activation='relu')                       # first hidden layer\n",
        "        self.dense2 = Dense(8, activation='relu')                       # second hidden layer\n",
        "        self.dense3 = Dense(1, activation='sigmoid')                    # output layer\n",
        "   \n",
        "\n",
        "    # defining function to call above\n",
        "    def call(self,inputs):\n",
        "        xm = self.dense1(inputs)\n",
        "        xm = self.dense2(xm)\n",
        "        return self.dense3(xm)\n",
        "        "
      ]
    },
    {
      "cell_type": "code",
      "execution_count": null,
      "metadata": {
        "id": "RyJovwvSyb0w"
      },
      "outputs": [],
      "source": [
        "# saving the model in variable\n",
        "md = Mymodel()"
      ]
    },
    {
      "cell_type": "code",
      "execution_count": null,
      "metadata": {
        "id": "LizTVvaqyb0x"
      },
      "outputs": [],
      "source": [
        "# calling the model\n",
        "inputs = Input(shape = (8,))\n",
        "md.call(inputs)"
      ]
    },
    {
      "cell_type": "code",
      "execution_count": null,
      "metadata": {
        "id": "SRblvd_ryb0y"
      },
      "outputs": [],
      "source": [
        "# compile the model\n",
        "md.compile(loss='binary_crossentropy',optimizer='sgd',metrics=['accuracy'])"
      ]
    },
    {
      "cell_type": "code",
      "execution_count": null,
      "metadata": {
        "id": "juLcOLbGyb0z"
      },
      "outputs": [],
      "source": [
        "# fit the model\n",
        "md.fit(X_train,y_train,epochs = 5,batch_size = 2,verbose = 0)"
      ]
    },
    {
      "cell_type": "code",
      "execution_count": null,
      "metadata": {
        "id": "snd2Op1Zyb00"
      },
      "outputs": [],
      "source": [
        "# making the predictions\n",
        "y_pred = md.predict(X_test)\n",
        "loss,score = md.evaluate(X_test,y_test,verbose = 0)\n",
        "print(score)"
      ]
    },
    {
      "cell_type": "code",
      "execution_count": null,
      "metadata": {
        "id": "YfHnNgr1yb01"
      },
      "outputs": [],
      "source": [
        "# display the summary\n",
        "md.summary()"
      ]
    }
  ],
  "metadata": {
    "colab": {
      "provenance": []
    },
    "kernelspec": {
      "display_name": "Python 3",
      "language": "python",
      "name": "python3"
    },
    "language_info": {
      "codemirror_mode": {
        "name": "ipython",
        "version": 3
      },
      "file_extension": ".py",
      "mimetype": "text/x-python",
      "name": "python",
      "nbconvert_exporter": "python",
      "pygments_lexer": "ipython3",
      "version": "3.8.5"
    }
  },
  "nbformat": 4,
  "nbformat_minor": 0
}
